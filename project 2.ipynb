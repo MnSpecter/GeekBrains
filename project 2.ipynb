{
 "cells": [
  {
   "cell_type": "code",
   "execution_count": 1,
   "id": "01907a78",
   "metadata": {},
   "outputs": [],
   "source": [
    "import csv\n",
    "import pymorphy2\n",
    "import re\n",
    "\n",
    "import psycopg2\n",
    "import sklearn\n",
    "import numpy as np\n",
    "import pandas as pd\n",
    "\n",
    "from sklearn.feature_extraction.text import TfidfVectorizer\n",
    "from sklearn.decomposition import TruncatedSVD\n",
    "from sklearn.neighbors import BallTree\n",
    "from sklearn.base import BaseEstimator\n",
    "from sklearn.pipeline import make_pipeline\n",
    "\n",
    "import time\n",
    "from tqdm import tqdm\n",
    "\n",
    "import json\n",
    "\n",
    "morph = pymorphy2.MorphAnalyzer(lang='ru')"
   ]
  },
  {
   "cell_type": "markdown",
   "id": "f8cb3c78",
   "metadata": {},
   "source": [
    "Данные: https://huggingface.co/datasets/its5Q/yandex-q"
   ]
  },
  {
   "cell_type": "code",
   "execution_count": 2,
   "id": "43912219",
   "metadata": {},
   "outputs": [],
   "source": [
    "data = pd.read_json('answers.jsonl', lines=True)\n",
    "data = data[['question', 'answer']]"
   ]
  },
  {
   "cell_type": "code",
   "execution_count": 3,
   "id": "f913cbb1",
   "metadata": {},
   "outputs": [
    {
     "data": {
      "text/html": [
       "<div>\n",
       "<style scoped>\n",
       "    .dataframe tbody tr th:only-of-type {\n",
       "        vertical-align: middle;\n",
       "    }\n",
       "\n",
       "    .dataframe tbody tr th {\n",
       "        vertical-align: top;\n",
       "    }\n",
       "\n",
       "    .dataframe thead th {\n",
       "        text-align: right;\n",
       "    }\n",
       "</style>\n",
       "<table border=\"1\" class=\"dataframe\">\n",
       "  <thead>\n",
       "    <tr style=\"text-align: right;\">\n",
       "      <th></th>\n",
       "      <th>question</th>\n",
       "      <th>answer</th>\n",
       "    </tr>\n",
       "  </thead>\n",
       "  <tbody>\n",
       "    <tr>\n",
       "      <th>0</th>\n",
       "      <td>Как войти в Роблокс, если не работает верифика...</td>\n",
       "      <td>Никак но можно попробовать найти сайты которые...</td>\n",
       "    </tr>\n",
       "    <tr>\n",
       "      <th>1</th>\n",
       "      <td>Под чьей властью находились восточные города? ...</td>\n",
       "      <td>Восточные города находятся под властью людей к...</td>\n",
       "    </tr>\n",
       "    <tr>\n",
       "      <th>2</th>\n",
       "      <td>Сколько стоят хорошие окна?</td>\n",
       "      <td>На цену лучше не ориентироваться, это тот случ...</td>\n",
       "    </tr>\n",
       "    <tr>\n",
       "      <th>3</th>\n",
       "      <td>Можно ли заниматься любовью на Пасху?</td>\n",
       "      <td>Конечно можно, пост прошел, теперь можно есть ...</td>\n",
       "    </tr>\n",
       "    <tr>\n",
       "      <th>4</th>\n",
       "      <td>Почему у ноутбука очень часто включается венти...</td>\n",
       "      <td>Если у вас открыто 20 вкладок это особо не наг...</td>\n",
       "    </tr>\n",
       "  </tbody>\n",
       "</table>\n",
       "</div>"
      ],
      "text/plain": [
       "                                            question  \\\n",
       "0  Как войти в Роблокс, если не работает верифика...   \n",
       "1  Под чьей властью находились восточные города? ...   \n",
       "2                        Сколько стоят хорошие окна?   \n",
       "3              Можно ли заниматься любовью на Пасху?   \n",
       "4  Почему у ноутбука очень часто включается венти...   \n",
       "\n",
       "                                              answer  \n",
       "0  Никак но можно попробовать найти сайты которые...  \n",
       "1  Восточные города находятся под властью людей к...  \n",
       "2  На цену лучше не ориентироваться, это тот случ...  \n",
       "3  Конечно можно, пост прошел, теперь можно есть ...  \n",
       "4  Если у вас открыто 20 вкладок это особо не наг...  "
      ]
     },
     "execution_count": 3,
     "metadata": {},
     "output_type": "execute_result"
    }
   ],
   "source": [
    "data.head()"
   ]
  },
  {
   "cell_type": "code",
   "execution_count": 4,
   "id": "a3b8b668",
   "metadata": {},
   "outputs": [
    {
     "name": "stdout",
     "output_type": "stream",
     "text": [
      "<class 'pandas.core.frame.DataFrame'>\n",
      "RangeIndex: 836810 entries, 0 to 836809\n",
      "Data columns (total 2 columns):\n",
      " #   Column    Non-Null Count   Dtype \n",
      "---  ------    --------------   ----- \n",
      " 0   question  836810 non-null  object\n",
      " 1   answer    836810 non-null  object\n",
      "dtypes: object(2)\n",
      "memory usage: 12.8+ MB\n"
     ]
    }
   ],
   "source": [
    "data.info()"
   ]
  },
  {
   "cell_type": "code",
   "execution_count": 5,
   "id": "c326a8b5",
   "metadata": {},
   "outputs": [],
   "source": [
    "questions_data = data['question'].to_list()\n",
    "answers = data['answer'].to_list()\n",
    "answers_id=[] \n",
    "questions=[] "
   ]
  },
  {
   "cell_type": "code",
   "execution_count": 6,
   "id": "f61b13ce",
   "metadata": {},
   "outputs": [
    {
     "name": "stderr",
     "output_type": "stream",
     "text": [
      "100%|█████████████████████████████████████████████████████████████████████████| 836810/836810 [26:54<00:00, 518.41it/s]\n"
     ]
    }
   ],
   "source": [
    "transform=0\n",
    "\n",
    "for i, answer in enumerate(tqdm(questions_data)):\n",
    "    words=answer.split(' ')\n",
    "    phrase=\"\"\n",
    "    for word in words:\n",
    "        # каждое слово из вопроса приводим в нормальную словоформу\n",
    "        word = morph.parse(word)[0].normal_form  \n",
    "        # составляем фразу из нормализованных слов\n",
    "    phrase = phrase + word + \" \"\n",
    "       \n",
    "    # Если длинна полученной фразы больше 0 добавляем ей в массив вопросов и массив кодов ответов\n",
    "    if (len(phrase)>0):\n",
    "        questions.append(phrase.strip())\n",
    "        answers_id.append(i)\n",
    "        transform=transform+1"
   ]
  },
  {
   "cell_type": "code",
   "execution_count": 7,
   "id": "244e0773",
   "metadata": {},
   "outputs": [
    {
     "name": "stdout",
     "output_type": "stream",
     "text": [
      "836810\n",
      "836810\n",
      "836810\n"
     ]
    }
   ],
   "source": [
    "print(len(questions))\n",
    "print(len(answers))\n",
    "print(len(answers_id))"
   ]
  },
  {
   "cell_type": "code",
   "execution_count": 8,
   "id": "861c05c1",
   "metadata": {},
   "outputs": [],
   "source": [
    "# Сохраним подготовленные данные\n",
    "with open('prepared/questions.txt', 'w') as filehandle:\n",
    "    json.dump(questions, filehandle)\n",
    "with open('prepared/answers.txt', 'w') as filehandle:\n",
    "    json.dump(answers, filehandle)\n",
    "with open('prepared/answers_id.txt', 'w') as filehandle:\n",
    "    json.dump(answers_id, filehandle)"
   ]
  },
  {
   "cell_type": "code",
   "execution_count": 9,
   "id": "ce5f796d",
   "metadata": {},
   "outputs": [
    {
     "name": "stdout",
     "output_type": "stream",
     "text": [
      "Размер матрицы: \n",
      "(836810, 116000)\n"
     ]
    }
   ],
   "source": [
    "# Векторизируем вопросы в матрицу \n",
    "vectorizer_q = TfidfVectorizer()\n",
    "vectorizer_q.fit(questions)\n",
    "matrix_big_q = vectorizer_q.transform(questions)\n",
    "print (\"Размер матрицы: \")\n",
    "print (matrix_big_q.shape)"
   ]
  },
  {
   "cell_type": "code",
   "execution_count": 10,
   "id": "2ab1c6fd",
   "metadata": {},
   "outputs": [
    {
     "name": "stdout",
     "output_type": "stream",
     "text": [
      "Коэффициент уменьшения матрицы: \n",
      "0.3667208517273901\n"
     ]
    }
   ],
   "source": [
    "# Трансформируем матрицу вопросов в меньший размер для уменьшения объема данных\n",
    "\n",
    "if transform > 1000:\n",
    "    transform = 1000\n",
    "\n",
    "svd_q = TruncatedSVD(n_components=transform)\n",
    "svd_q.fit(matrix_big_q)\n",
    "\n",
    "# получим трансформированную матрицу\n",
    "matrix_small_q = svd_q.transform(matrix_big_q)\n",
    "\n",
    "print (\"Коэффициент уменьшения матрицы: \")\n",
    "print ( svd_q.explained_variance_ratio_.sum())"
   ]
  },
  {
   "cell_type": "markdown",
   "id": "584a2606",
   "metadata": {},
   "source": [
    "Функция поиска ответа"
   ]
  },
  {
   "cell_type": "code",
   "execution_count": 11,
   "id": "88a37caf",
   "metadata": {},
   "outputs": [],
   "source": [
    "def softmax(x):\n",
    "    proba = np.exp(-x)\n",
    "    return proba / sum(proba)\n",
    "\n",
    "class NeighborSampler(BaseEstimator):\n",
    "    def __init__(self, k=5, temperature=2.0):\n",
    "        self.k=k\n",
    "        self.temperature = temperature\n",
    "    def fit(self, X, y):\n",
    "        self.tree_ = BallTree(X)\n",
    "        self.y_ = np.array(y)\n",
    "    def predict(self, X, random_state=None):\n",
    "        distances, indices = self.tree_.query(X, return_distance=True, k=self.k)\n",
    "        result = []\n",
    "        for distance, index in zip(distances, indices):\n",
    "            result.append(np.random.choice(index, p=softmax(distance * self.temperature)))\n",
    "        return self.y_[result]\n",
    "\n",
    "ns_q = NeighborSampler()\n",
    "\n",
    "ns_q.fit(matrix_small_q, answers_id) \n",
    "pipe_q = make_pipeline(vectorizer_q, svd_q, ns_q)"
   ]
  },
  {
   "cell_type": "code",
   "execution_count": 15,
   "id": "3b754b54",
   "metadata": {},
   "outputs": [
    {
     "name": "stdout",
     "output_type": "stream",
     "text": [
      "Пишите ваш вопрос, слова exit или выход для выхода\n",
      "\n",
      " **********\n",
      "привет\n",
      "- Привет.\n",
      "Как праздники прошли? Как день? Что нового за эти дни? Погода как? Ты не устала? Какую читаешь книгу? Давно спортом занималась? Планируешь что-то на этот год?\n",
      "\n",
      " **********\n",
      "куда сходить на выходных?\n",
      "- Как ни прискорбно об этом было бы говорить, но в Комсомольске-на-Амуре на сегодняшний момент ничего кроме деградации не происходит. Безвольная, ни к чему не приспособленная власть, кругом разруха и хаос, город в буквальном смысле слова рассыпается на глазах. Городские парки в ужаснейшем состоянии, на Дворцы Культуры тоже без слёз невозможно взглянуть, в центре города под балконы жилых домов стропилы подкладывают, чтобы они не обвалились.... Город \"медленно\" изживает себя.... Нет хозяина в городе, одни предприниматели, которым только распродать его и хочется...\n",
      "\n",
      " **********\n",
      "а если поехать на море?\n",
      "- Потому что это успокаивает и расслабляет. Приятные монотонные звуки, которые производят горящие полешки в камине или волны, накатывающие на берег, тоже помогают нервам.\n",
      "\n",
      " **********\n",
      "нужно ли брать с собой крем от загара?\n",
      "- Там есть внизу значок пальца, поднятого вверх. Нажимаете на него и все. Только убрать лайк нельзя\n",
      "Как же вы запарили со своим правидом ста сорока символов просто аааааааааааааааааааа\n",
      "\n",
      " **********\n",
      "что нового в России?\n",
      "- Здравствуйте, Игорь!\n",
      "Радует то, что сборная России одолела Финляндию (1:0) и одержала первую победу на Евро-2020. \n",
      "Отметим, что тренер российской сборной Станислав Черчесов не зря выбрал тактику игры с тремя защитниками и сменил вратаря (Антона Шунина на Матвея Сафонова): это помогло команде и забить гол, и не пропустить ни одного мяча. \n",
      "В этом матче здорово держал позицию и показал отличный отбор против Теему Пукки Игорь Дивеев. Он качественно играл наверху и стал менеджером обороны.\n",
      "\n",
      "Единственный гол забил полузащитник сборной России Алексей Миранчук, и это на многих произвело впечатление. В добавленное к первому тайму время Артём Дзюба сделал аккуратную скидку на Миранчука, который ударом из штрафной со своей левой направил мяч в дальнюю девятку.\n",
      "Интересный матч, но радоваться пока рано: впереди у сборной России встреча со сборной Дании (21 июня) в рамках третьего тура Евро-2020. \n",
      "\n",
      "- В первом туре группового этапа Россия крупно уступила Бельгии (0:3), а Финляндия обыграла Данию (1:0), нанеся один удар в сторону ворот.\n",
      "- Третий тур пройдет 21 июня: Россия сыграет с Данией, а Финляндия – с Бельгией. Оба матча начнутся в 22:00 (МСК).\n",
      "\n",
      " **********\n",
      "вообще-то меня зовут Алексей\n",
      "- Уходить нужно не откуда, а куда.\n",
      "Как только убедитесь, что у ваш интерес (не верю, что в жизни не интересно ничего, оглядитесь!) достаточно сильный и стабильный, позволяет построить какую-то разумную траекторию действий - не бойтесь все бросить и уйти.\n",
      "Впрочем, очень может быть, что идти ко многим целям в жизни с вашим образованием будет на самом деле по пути.\n",
      "\n",
      " **********\n",
      "ладно пойду тогда к целям вместо общения с туповатым ботом\n",
      "- Главное с чего то нужно начинать, а там , если хороший собеседник, то беседа получится и русская речь раскроется. Главное не бояться заговорить н\n",
      "\n",
      " **********\n",
      "выход\n",
      "Пока, заходи еще!\n"
     ]
    }
   ],
   "source": [
    "print(\"Пишите ваш вопрос, слова exit или выход для выхода\")\n",
    "\n",
    "request = \"\"\n",
    "\n",
    "while request not in ['exit', 'выход']:\n",
    "    # получим текст от ввода\n",
    "    print('\\n', 10*'*')\n",
    "    request=input()\n",
    "    \n",
    "    # разберем фразу на слова\n",
    "    words= re.split('\\W',request)\n",
    "    phrase=\"\"\n",
    "    for word in words:\n",
    "        word = morph.parse(word)[0].normal_form  # морфируем слово вопроса в нормальную словоформу\n",
    "        # Нормализуем словоформу каждого слова и соберем обратно фразу\n",
    "        phrase = phrase + word + \" \"\n",
    "        \n",
    "    # запустим функцию и получим код ответа\n",
    "    reply_id = int(pipe_q.predict([phrase.strip()]))\n",
    "    # выведем текст ответа\n",
    "    if request not in ['exit', 'выход']:\n",
    "        print('-', answers[reply_id])\n",
    "    else:\n",
    "        print('Пока, заходи еще!')"
   ]
  }
 ],
 "metadata": {
  "kernelspec": {
   "display_name": "Python 3 (ipykernel)",
   "language": "python",
   "name": "python3"
  },
  "language_info": {
   "codemirror_mode": {
    "name": "ipython",
    "version": 3
   },
   "file_extension": ".py",
   "mimetype": "text/x-python",
   "name": "python",
   "nbconvert_exporter": "python",
   "pygments_lexer": "ipython3",
   "version": "3.9.13"
  }
 },
 "nbformat": 4,
 "nbformat_minor": 5
}
