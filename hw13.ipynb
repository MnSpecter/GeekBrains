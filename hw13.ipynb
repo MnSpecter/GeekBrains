{
 "cells": [
  {
   "cell_type": "markdown",
   "id": "6ae2f035",
   "metadata": {},
   "source": [
    "# Урок 13. Модель BERT и GPT"
   ]
  },
  {
   "cell_type": "markdown",
   "id": "69d9ed30",
   "metadata": {},
   "source": [
    "### Задание\n",
    "#### Взять датасет https://huggingface.co/datasets/merionum/ru_paraphraser решить задачу парафраза"
   ]
  },
  {
   "cell_type": "code",
   "execution_count": 3,
   "id": "5ed69f33",
   "metadata": {},
   "outputs": [],
   "source": [
    "import warnings\n",
    "warnings.filterwarnings('ignore')"
   ]
  },
  {
   "cell_type": "code",
   "execution_count": 5,
   "id": "58f140e1",
   "metadata": {},
   "outputs": [
    {
     "name": "stderr",
     "output_type": "stream",
     "text": [
      "Using custom data configuration merionum--ru_paraphraser-e39dafb2b050eb83\n",
      "Found cached dataset json (C:/Users/Mn_Specter/.cache/huggingface/datasets/merionum___json/merionum--ru_paraphraser-e39dafb2b050eb83/0.0.0/0f7e3662623656454fcd2b650f34e886a7db4b9104504885bd462096cc7a9f51)\n"
     ]
    },
    {
     "data": {
      "application/vnd.jupyter.widget-view+json": {
       "model_id": "1ab902e98d5c4691a815a0b6a3464228",
       "version_major": 2,
       "version_minor": 0
      },
      "text/plain": [
       "  0%|          | 0/2 [00:00<?, ?it/s]"
      ]
     },
     "metadata": {},
     "output_type": "display_data"
    }
   ],
   "source": [
    "from datasets import load_dataset\n",
    "\n",
    "corpus = load_dataset('merionum/ru_paraphraser')"
   ]
  },
  {
   "cell_type": "code",
   "execution_count": 6,
   "id": "f349cfac",
   "metadata": {},
   "outputs": [
    {
     "data": {
      "text/plain": [
       "DatasetDict({\n",
       "    train: Dataset({\n",
       "        features: ['id', 'id_1', 'id_2', 'text_1', 'text_2', 'class'],\n",
       "        num_rows: 7227\n",
       "    })\n",
       "    test: Dataset({\n",
       "        features: ['id', 'id_1', 'id_2', 'text_1', 'text_2', 'class'],\n",
       "        num_rows: 1924\n",
       "    })\n",
       "})"
      ]
     },
     "execution_count": 6,
     "metadata": {},
     "output_type": "execute_result"
    }
   ],
   "source": [
    "corpus"
   ]
  },
  {
   "cell_type": "code",
   "execution_count": 7,
   "id": "5ee82f87",
   "metadata": {},
   "outputs": [],
   "source": [
    "label_list = sorted(set(corpus['train']['class']))\n",
    "labels2id = { key:id for id, key in enumerate(label_list)}\n",
    "id2labels = { id:key for id, key in enumerate(label_list)}"
   ]
  },
  {
   "cell_type": "code",
   "execution_count": 8,
   "id": "4836be45",
   "metadata": {},
   "outputs": [],
   "source": [
    "from transformers import AutoTokenizer, BertTokenizerFast\n",
    "model_name = 'IlyaGusev/xlm_roberta_large_headline_cause_simple'\n",
    "tokenizer = AutoTokenizer.from_pretrained(model_name)"
   ]
  },
  {
   "cell_type": "code",
   "execution_count": 9,
   "id": "9ab921ec",
   "metadata": {},
   "outputs": [],
   "source": [
    "def tokenize_and_align_labels(tokenizer, labels2id):    \n",
    "    def tokenize_and_align_labels_(examples):\n",
    "        tokenized_inputs = tokenizer(examples['text_1'],examples['text_2'], truncation=True)\n",
    "        tokenized_inputs[\"labels\"] = [labels2id[label] for label in examples['class']]\n",
    "        return tokenized_inputs\n",
    "    return tokenize_and_align_labels_"
   ]
  },
  {
   "cell_type": "code",
   "execution_count": 10,
   "id": "a000b428",
   "metadata": {},
   "outputs": [
    {
     "name": "stderr",
     "output_type": "stream",
     "text": [
      "Loading cached processed dataset at C:\\Users\\Mn_Specter\\.cache\\huggingface\\datasets\\merionum___json\\merionum--ru_paraphraser-e39dafb2b050eb83\\0.0.0\\0f7e3662623656454fcd2b650f34e886a7db4b9104504885bd462096cc7a9f51\\cache-8e96b3b831061d39.arrow\n",
      "Loading cached processed dataset at C:\\Users\\Mn_Specter\\.cache\\huggingface\\datasets\\merionum___json\\merionum--ru_paraphraser-e39dafb2b050eb83\\0.0.0\\0f7e3662623656454fcd2b650f34e886a7db4b9104504885bd462096cc7a9f51\\cache-8f5b8107551e462c.arrow\n"
     ]
    }
   ],
   "source": [
    "tokenized_datasets = corpus.map(tokenize_and_align_labels(tokenizer, labels2id), batched=True)"
   ]
  },
  {
   "cell_type": "code",
   "execution_count": 11,
   "id": "b6728da7",
   "metadata": {},
   "outputs": [],
   "source": [
    "import torch\n",
    "from transformers import DataCollatorWithPadding\n",
    "from transformers import AutoModelForSequenceClassification, BertForSequenceClassification, TrainingArguments, Trainer\n",
    "\n",
    "data_collator = DataCollatorWithPadding(tokenizer=tokenizer)\n",
    "model = AutoModelForSequenceClassification.from_pretrained(model_name, num_labels=len(label_list), ignore_mismatched_sizes=True)\n",
    "model.config.id2label = id2labels \n",
    "model.config.label2id = labels2id "
   ]
  },
  {
   "cell_type": "code",
   "execution_count": 12,
   "id": "1df8f5e2",
   "metadata": {},
   "outputs": [],
   "source": [
    "import numpy as np\n",
    "from datasets import load_metric\n",
    "metric = load_metric(\"accuracy\")\n",
    "\n",
    "def compute_metrics(eval_pred):\n",
    "    logits, labels = eval_pred\n",
    "    predictions = np.argmax(logits, axis=-1)    \n",
    "    return metric.compute(predictions=predictions, references=labels)"
   ]
  },
  {
   "cell_type": "code",
   "execution_count": 13,
   "id": "9ef2ce8f",
   "metadata": {},
   "outputs": [],
   "source": [
    "batch_size = 16\n",
    "args = TrainingArguments(\n",
    "    \"paraphras\",\n",
    "    evaluation_strategy = \"epoch\",\n",
    "    learning_rate=2e-6,\n",
    "    per_device_train_batch_size=batch_size,\n",
    "    per_device_eval_batch_size=batch_size,\n",
    "    num_train_epochs=3,\n",
    "    weight_decay=0.05,\n",
    "    save_strategy='no',\n",
    "    report_to='none',\n",
    ")"
   ]
  },
  {
   "cell_type": "code",
   "execution_count": 14,
   "id": "9ff581eb",
   "metadata": {},
   "outputs": [],
   "source": [
    "trainer = Trainer(\n",
    "    model,\n",
    "    args,\n",
    "    train_dataset=tokenized_datasets[\"train\"],\n",
    "    eval_dataset=tokenized_datasets[\"test\"],\n",
    "    data_collator=data_collator,\n",
    "    tokenizer=tokenizer,\n",
    "    compute_metrics=compute_metrics\n",
    ")"
   ]
  },
  {
   "cell_type": "code",
   "execution_count": 15,
   "id": "e4a51227",
   "metadata": {},
   "outputs": [
    {
     "name": "stderr",
     "output_type": "stream",
     "text": [
      "The following columns in the training set don't have a corresponding argument in `XLMRobertaForSequenceClassification.forward` and have been ignored: id_2, class, id_1, text_1, text_2, id. If id_2, class, id_1, text_1, text_2, id are not expected by `XLMRobertaForSequenceClassification.forward`,  you can safely ignore this message.\n",
      "***** Running training *****\n",
      "  Num examples = 7227\n",
      "  Num Epochs = 3\n",
      "  Instantaneous batch size per device = 16\n",
      "  Total train batch size (w. parallel, distributed & accumulation) = 16\n",
      "  Gradient Accumulation steps = 1\n",
      "  Total optimization steps = 1356\n",
      "  Number of trainable parameters = 559893507\n",
      "You're using a XLMRobertaTokenizerFast tokenizer. Please note that with a fast tokenizer, using the `__call__` method is faster than using a method to encode the text followed by a call to the `pad` method to get a padded encoding.\n"
     ]
    },
    {
     "data": {
      "text/html": [
       "\n",
       "    <div>\n",
       "      \n",
       "      <progress value='1356' max='1356' style='width:300px; height:20px; vertical-align: middle;'></progress>\n",
       "      [1356/1356 4:48:56, Epoch 3/3]\n",
       "    </div>\n",
       "    <table border=\"1\" class=\"dataframe\">\n",
       "  <thead>\n",
       " <tr style=\"text-align: left;\">\n",
       "      <th>Epoch</th>\n",
       "      <th>Training Loss</th>\n",
       "      <th>Validation Loss</th>\n",
       "      <th>Accuracy</th>\n",
       "    </tr>\n",
       "  </thead>\n",
       "  <tbody>\n",
       "    <tr>\n",
       "      <td>1</td>\n",
       "      <td>No log</td>\n",
       "      <td>0.716056</td>\n",
       "      <td>0.661123</td>\n",
       "    </tr>\n",
       "    <tr>\n",
       "      <td>2</td>\n",
       "      <td>0.755500</td>\n",
       "      <td>0.707279</td>\n",
       "      <td>0.689189</td>\n",
       "    </tr>\n",
       "    <tr>\n",
       "      <td>3</td>\n",
       "      <td>0.595800</td>\n",
       "      <td>0.694048</td>\n",
       "      <td>0.704262</td>\n",
       "    </tr>\n",
       "  </tbody>\n",
       "</table><p>"
      ],
      "text/plain": [
       "<IPython.core.display.HTML object>"
      ]
     },
     "metadata": {},
     "output_type": "display_data"
    },
    {
     "name": "stderr",
     "output_type": "stream",
     "text": [
      "The following columns in the evaluation set don't have a corresponding argument in `XLMRobertaForSequenceClassification.forward` and have been ignored: id_2, class, id_1, text_1, text_2, id. If id_2, class, id_1, text_1, text_2, id are not expected by `XLMRobertaForSequenceClassification.forward`,  you can safely ignore this message.\n",
      "***** Running Evaluation *****\n",
      "  Num examples = 1924\n",
      "  Batch size = 16\n",
      "The following columns in the evaluation set don't have a corresponding argument in `XLMRobertaForSequenceClassification.forward` and have been ignored: id_2, class, id_1, text_1, text_2, id. If id_2, class, id_1, text_1, text_2, id are not expected by `XLMRobertaForSequenceClassification.forward`,  you can safely ignore this message.\n",
      "***** Running Evaluation *****\n",
      "  Num examples = 1924\n",
      "  Batch size = 16\n",
      "The following columns in the evaluation set don't have a corresponding argument in `XLMRobertaForSequenceClassification.forward` and have been ignored: id_2, class, id_1, text_1, text_2, id. If id_2, class, id_1, text_1, text_2, id are not expected by `XLMRobertaForSequenceClassification.forward`,  you can safely ignore this message.\n",
      "***** Running Evaluation *****\n",
      "  Num examples = 1924\n",
      "  Batch size = 16\n",
      "\n",
      "\n",
      "Training completed. Do not forget to share your model on huggingface.co/models =)\n",
      "\n",
      "\n"
     ]
    },
    {
     "data": {
      "text/plain": [
       "TrainOutput(global_step=1356, training_loss=0.6449485936347714, metrics={'train_runtime': 17351.254, 'train_samples_per_second': 1.25, 'train_steps_per_second': 0.078, 'total_flos': 1819183492473300.0, 'train_loss': 0.6449485936347714, 'epoch': 3.0})"
      ]
     },
     "execution_count": 15,
     "metadata": {},
     "output_type": "execute_result"
    }
   ],
   "source": [
    "trainer.train()"
   ]
  },
  {
   "cell_type": "code",
   "execution_count": 19,
   "id": "eccf6c72",
   "metadata": {},
   "outputs": [
    {
     "data": {
      "text/html": [
       "<div>\n",
       "<style scoped>\n",
       "    .dataframe tbody tr th:only-of-type {\n",
       "        vertical-align: middle;\n",
       "    }\n",
       "\n",
       "    .dataframe tbody tr th {\n",
       "        vertical-align: top;\n",
       "    }\n",
       "\n",
       "    .dataframe thead th {\n",
       "        text-align: right;\n",
       "    }\n",
       "</style>\n",
       "<table border=\"1\" class=\"dataframe\">\n",
       "  <thead>\n",
       "    <tr style=\"text-align: right;\">\n",
       "      <th></th>\n",
       "      <th>text_1</th>\n",
       "      <th>text_2</th>\n",
       "      <th>class</th>\n",
       "      <th>predict</th>\n",
       "    </tr>\n",
       "  </thead>\n",
       "  <tbody>\n",
       "    <tr>\n",
       "      <th>0</th>\n",
       "      <td>Цены на нефть восстанавливаются</td>\n",
       "      <td>Парламент Словакии поблагодарил народы бывшего...</td>\n",
       "      <td>-1</td>\n",
       "      <td>1</td>\n",
       "    </tr>\n",
       "    <tr>\n",
       "      <th>1</th>\n",
       "      <td>\"Гоголь-центр\" покажет видеозапись скандальног...</td>\n",
       "      <td>Кехман запретил «Гоголь-центру» показывать вид...</td>\n",
       "      <td>-1</td>\n",
       "      <td>1</td>\n",
       "    </tr>\n",
       "    <tr>\n",
       "      <th>2</th>\n",
       "      <td>Агент: РФС вновь задерживает зарплату Фабио Ка...</td>\n",
       "      <td>СМИ: Агент Фабио Капелло грозится подать в суд...</td>\n",
       "      <td>-1</td>\n",
       "      <td>1</td>\n",
       "    </tr>\n",
       "    <tr>\n",
       "      <th>3</th>\n",
       "      <td>День Победы в Москве обещает выдаться облачным</td>\n",
       "      <td>Любляна отпразднует День Победы вместе с Москвой</td>\n",
       "      <td>-1</td>\n",
       "      <td>1</td>\n",
       "    </tr>\n",
       "    <tr>\n",
       "      <th>4</th>\n",
       "      <td>Посол РФ в США: Россия будет бороться с попытк...</td>\n",
       "      <td>Правительство запланировало заработать на лоте...</td>\n",
       "      <td>-1</td>\n",
       "      <td>1</td>\n",
       "    </tr>\n",
       "    <tr>\n",
       "      <th>...</th>\n",
       "      <td>...</td>\n",
       "      <td>...</td>\n",
       "      <td>...</td>\n",
       "      <td>...</td>\n",
       "    </tr>\n",
       "    <tr>\n",
       "      <th>95</th>\n",
       "      <td>День Победы в режиме онлайн</td>\n",
       "      <td>Парад в честь Дня Победы проходит в Донецке</td>\n",
       "      <td>-1</td>\n",
       "      <td>-1</td>\n",
       "    </tr>\n",
       "    <tr>\n",
       "      <th>96</th>\n",
       "      <td>В Индии боевики-маоисты захватили 200 человек</td>\n",
       "      <td>В Индии маоисты захватили в заложники 500 человек</td>\n",
       "      <td>-1</td>\n",
       "      <td>1</td>\n",
       "    </tr>\n",
       "    <tr>\n",
       "      <th>97</th>\n",
       "      <td>Боевики-маоисты взяли в заложники 200 человек ...</td>\n",
       "      <td>В Индии боевики-маоисты захватили 200 человек</td>\n",
       "      <td>1</td>\n",
       "      <td>1</td>\n",
       "    </tr>\n",
       "    <tr>\n",
       "      <th>98</th>\n",
       "      <td>Боевики-маоисты взяли в заложники 200 человек ...</td>\n",
       "      <td>В Индии маоисты захватили в заложники 500 человек</td>\n",
       "      <td>0</td>\n",
       "      <td>1</td>\n",
       "    </tr>\n",
       "    <tr>\n",
       "      <th>99</th>\n",
       "      <td>Парад Победы на Красной площади. Онлайн-трансл...</td>\n",
       "      <td>В Москве начался Парад Победы</td>\n",
       "      <td>0</td>\n",
       "      <td>0</td>\n",
       "    </tr>\n",
       "  </tbody>\n",
       "</table>\n",
       "<p>100 rows × 4 columns</p>\n",
       "</div>"
      ],
      "text/plain": [
       "                                               text_1  \\\n",
       "0                     Цены на нефть восстанавливаются   \n",
       "1   \"Гоголь-центр\" покажет видеозапись скандальног...   \n",
       "2   Агент: РФС вновь задерживает зарплату Фабио Ка...   \n",
       "3      День Победы в Москве обещает выдаться облачным   \n",
       "4   Посол РФ в США: Россия будет бороться с попытк...   \n",
       "..                                                ...   \n",
       "95                        День Победы в режиме онлайн   \n",
       "96      В Индии боевики-маоисты захватили 200 человек   \n",
       "97  Боевики-маоисты взяли в заложники 200 человек ...   \n",
       "98  Боевики-маоисты взяли в заложники 200 человек ...   \n",
       "99  Парад Победы на Красной площади. Онлайн-трансл...   \n",
       "\n",
       "                                               text_2 class predict  \n",
       "0   Парламент Словакии поблагодарил народы бывшего...    -1       1  \n",
       "1   Кехман запретил «Гоголь-центру» показывать вид...    -1       1  \n",
       "2   СМИ: Агент Фабио Капелло грозится подать в суд...    -1       1  \n",
       "3    Любляна отпразднует День Победы вместе с Москвой    -1       1  \n",
       "4   Правительство запланировало заработать на лоте...    -1       1  \n",
       "..                                                ...   ...     ...  \n",
       "95        Парад в честь Дня Победы проходит в Донецке    -1      -1  \n",
       "96  В Индии маоисты захватили в заложники 500 человек    -1       1  \n",
       "97      В Индии боевики-маоисты захватили 200 человек     1       1  \n",
       "98  В Индии маоисты захватили в заложники 500 человек     0       1  \n",
       "99                      В Москве начался Парад Победы     0       0  \n",
       "\n",
       "[100 rows x 4 columns]"
      ]
     },
     "execution_count": 19,
     "metadata": {},
     "output_type": "execute_result"
    }
   ],
   "source": [
    "import pandas as pd\n",
    "example = tokenized_datasets[\"test\"][:100]\n",
    "tokens = tokenizer(example['text_1'], example['text_1'], padding=True, truncation=True, return_tensors='pt')\n",
    "tokens = tokens.to('cpu')\n",
    "with torch.no_grad():\n",
    "    outputs = model(**tokens)\n",
    "predicted = outputs.logits.argmax(dim=-1).cpu().numpy()\n",
    "classes = [id2labels[id_label] for id_label in predicted]\n",
    "df_example =pd.DataFrame({'text_1':example['text_1'], 'text_2':example['text_2'], 'class':example['class'], 'predict':classes})\n",
    "df_example"
   ]
  }
 ],
 "metadata": {
  "kernelspec": {
   "display_name": "Python 3",
   "language": "python",
   "name": "python3"
  },
  "language_info": {
   "codemirror_mode": {
    "name": "ipython",
    "version": 3
   },
   "file_extension": ".py",
   "mimetype": "text/x-python",
   "name": "python",
   "nbconvert_exporter": "python",
   "pygments_lexer": "ipython3",
   "version": "3.8.8"
  }
 },
 "nbformat": 4,
 "nbformat_minor": 5
}
