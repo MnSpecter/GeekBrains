{
  "nbformat": 4,
  "nbformat_minor": 0,
  "metadata": {
    "colab": {
      "provenance": []
    },
    "kernelspec": {
      "name": "python3",
      "display_name": "Python 3"
    },
    "language_info": {
      "name": "python"
    },
    "accelerator": "GPU",
    "gpuClass": "standard"
  },
  "cells": [
    {
      "cell_type": "markdown",
      "source": [
        "# Урок 4. CNN Свертки"
      ],
      "metadata": {
        "id": "GW-oOTMR36jq"
      }
    },
    {
      "cell_type": "markdown",
      "source": [
        "Обучите CNN (самописная) на CIFAR-100.<br>\n",
        "\n",
        "Обучите CNN на CIFAR-100 через дообучение ImageNet Resnet-50.<br>\n",
        "\n",
        "\\*Обучите CNN на CIFAR-100 через дообучение ImageNet Resnet-50 с аугментацией данных."
      ],
      "metadata": {
        "id": "sN1oONLi4AmO"
      }
    },
    {
      "cell_type": "code",
      "source": [
        "import numpy as np\n",
        "import torch\n",
        "\n",
        "from torch import nn\n",
        "from torch.nn import functional as F\n",
        "from PIL import Image\n",
        "from torchvision import transforms, datasets\n",
        "from tqdm import tqdm\n",
        "\n",
        "from sklearn.model_selection import train_test_split"
      ],
      "metadata": {
        "id": "Zae59FoM4CQn"
      },
      "execution_count": 1,
      "outputs": []
    },
    {
      "cell_type": "code",
      "source": [
        "dataset = datasets.CIFAR100(root='data/', train=True, download=True)\n",
        "\n",
        "def train_valid_split(Xt):\n",
        "    X_train, X_test = train_test_split(Xt, test_size=0.05, random_state=13)\n",
        "    return X_train, X_test\n",
        "\n",
        "class MyOwnCifar(torch.utils.data.Dataset):\n",
        "   \n",
        "    def __init__(self, init_dataset, transform=None):\n",
        "        self._base_dataset = init_dataset\n",
        "        self.transform = transform\n",
        "\n",
        "    def __len__(self):\n",
        "        return len(self._base_dataset)\n",
        "\n",
        "    def __getitem__(self, idx):\n",
        "        img = self._base_dataset[idx][0]\n",
        "        if self.transform is not None:\n",
        "            img = self.transform(img)\n",
        "        return img, self._base_dataset[idx][1]\n",
        "    \n",
        "trans_actions = transforms.Compose([transforms.Resize(44),\n",
        "                                    transforms.RandomCrop(32, padding=4), \n",
        "                                    transforms.ToTensor()])\n",
        "\n",
        "train_dataset, valid_dataset = train_valid_split(dataset)\n",
        "\n",
        "train_dataset = MyOwnCifar(train_dataset, trans_actions)\n",
        "valid_dataset = MyOwnCifar(valid_dataset, transforms.ToTensor())\n",
        "\n",
        "train_loader = torch.utils.data.DataLoader(train_dataset,\n",
        "                          batch_size=128,\n",
        "                          shuffle=True,\n",
        "                          num_workers=3)\n",
        "valid_loader = torch.utils.data.DataLoader(valid_dataset,\n",
        "                          batch_size=128,\n",
        "                          shuffle=False,\n",
        "                          num_workers=1)"
      ],
      "metadata": {
        "colab": {
          "base_uri": "https://localhost:8080/"
        },
        "id": "Gstlmsst4D58",
        "outputId": "0db00ca8-b5b2-46e1-b056-a0b7d754b8b1"
      },
      "execution_count": 2,
      "outputs": [
        {
          "output_type": "stream",
          "name": "stdout",
          "text": [
            "Files already downloaded and verified\n"
          ]
        },
        {
          "output_type": "stream",
          "name": "stderr",
          "text": [
            "/usr/local/lib/python3.8/dist-packages/torch/utils/data/dataloader.py:554: UserWarning: This DataLoader will create 3 worker processes in total. Our suggested max number of worker in current system is 2, which is smaller than what this DataLoader is going to create. Please be aware that excessive worker creation might get DataLoader running slow or even freeze, lower the worker number to avoid potential slowness/freeze if necessary.\n",
            "  warnings.warn(_create_warning_msg(\n"
          ]
        }
      ]
    },
    {
      "cell_type": "code",
      "source": [
        "class Net(nn.Module):\n",
        "\n",
        "    def __init__(self):\n",
        "        super(Net, self).__init__()\n",
        "        self.dp_three = nn.Dropout(0.2)\n",
        "        self.dp_four = nn.Dropout(0.2)\n",
        "        \n",
        "        self.bn_one = torch.nn.BatchNorm2d(3) \n",
        "        self.conv_one = torch.nn.Conv2d(3, 30, 3)\n",
        "        self.bn_two = torch.nn.BatchNorm2d(30) \n",
        "        self.conv_two = torch.nn.Conv2d(30, 60, 3)\n",
        "        self.bn_three = torch.nn.BatchNorm2d(60)\n",
        "        self.conv_three = torch.nn.Conv2d(60, 120, 3)\n",
        "        self.bn_four = torch.nn.BatchNorm2d(120)\n",
        "        self.fc1 = torch.nn.Linear(480, 240)\n",
        "        self.fc2 = torch.nn.Linear(240, 120)\n",
        "        self.out = torch.nn.Linear(120, 100)\n",
        "        \n",
        "        \n",
        "    def forward(self, x):\n",
        "        x = self.bn_one(x)\n",
        "        x = self.conv_one(x)\n",
        "        x = F.relu(x)\n",
        "        x = F.max_pool2d(x, 2)\n",
        "        \n",
        "        x = self.bn_two(x)\n",
        "        x = self.conv_two(x)\n",
        "        x = F.relu(x)\n",
        "        x = F.max_pool2d(x, 2)\n",
        "        \n",
        "        x = self.bn_three(x)\n",
        "        x = self.conv_three(x)\n",
        "        x = F.relu(x)\n",
        "        x = F.max_pool2d(x, 2)\n",
        "        \n",
        "        x = self.bn_four(x)\n",
        "        x = x.view(x.size(0), -1)\n",
        "        x = self.dp_three(x)\n",
        "        x = self.fc1(x)\n",
        "        x = F.relu(x)\n",
        "        x = self.dp_four(x)\n",
        "        x = self.fc2(x)\n",
        "        x = F.relu(x)\n",
        "        return self.out(x)\n",
        "       \n",
        "net = Net()\n",
        "print(net)"
      ],
      "metadata": {
        "colab": {
          "base_uri": "https://localhost:8080/"
        },
        "id": "HrffFdpl4Fzh",
        "outputId": "0bb1f1b3-6e97-4854-8cfd-ebfc1cf2dff4"
      },
      "execution_count": 3,
      "outputs": [
        {
          "output_type": "stream",
          "name": "stdout",
          "text": [
            "Net(\n",
            "  (dp_three): Dropout(p=0.2, inplace=False)\n",
            "  (dp_four): Dropout(p=0.2, inplace=False)\n",
            "  (bn_one): BatchNorm2d(3, eps=1e-05, momentum=0.1, affine=True, track_running_stats=True)\n",
            "  (conv_one): Conv2d(3, 30, kernel_size=(3, 3), stride=(1, 1))\n",
            "  (bn_two): BatchNorm2d(30, eps=1e-05, momentum=0.1, affine=True, track_running_stats=True)\n",
            "  (conv_two): Conv2d(30, 60, kernel_size=(3, 3), stride=(1, 1))\n",
            "  (bn_three): BatchNorm2d(60, eps=1e-05, momentum=0.1, affine=True, track_running_stats=True)\n",
            "  (conv_three): Conv2d(60, 120, kernel_size=(3, 3), stride=(1, 1))\n",
            "  (bn_four): BatchNorm2d(120, eps=1e-05, momentum=0.1, affine=True, track_running_stats=True)\n",
            "  (fc1): Linear(in_features=480, out_features=240, bias=True)\n",
            "  (fc2): Linear(in_features=240, out_features=120, bias=True)\n",
            "  (out): Linear(in_features=120, out_features=100, bias=True)\n",
            ")\n"
          ]
        }
      ]
    },
    {
      "cell_type": "code",
      "source": [
        "optimizer = torch.optim.Adam(net.parameters(), lr=0.01)\n",
        "criterion = nn.CrossEntropyLoss()"
      ],
      "metadata": {
        "id": "LmYbeuYH4H1P"
      },
      "execution_count": 4,
      "outputs": []
    },
    {
      "cell_type": "code",
      "source": [
        "num_ep = 12"
      ],
      "metadata": {
        "id": "SJ3ttR2F-alt"
      },
      "execution_count": 5,
      "outputs": []
    },
    {
      "cell_type": "code",
      "source": [
        "all_manual = {}\n",
        "\n",
        "for epoch in tqdm(range(num_ep)):  \n",
        "    net.train()\n",
        "    for i, data in enumerate(train_loader, 0):\n",
        "        inputs, labels = data[0], data[1]\n",
        "        optimizer.zero_grad()\n",
        "\n",
        "        outputs = net(inputs)\n",
        "        loss = criterion(outputs, labels)\n",
        "        loss.backward()\n",
        "        optimizer.step()\n",
        "        \n",
        "    net.eval()\n",
        "    loss_accumed = 0\n",
        "    for X, y in valid_loader:\n",
        "        output = net(X)\n",
        "        loss = criterion(output, y)\n",
        "        loss_accumed += loss\n",
        "    print(\"Epoch {} valid_loss {}\".format(epoch, loss_accumed))\n",
        "    all_manual[epoch] = loss_accumed\n",
        "\n",
        "print('Training is finished!')"
      ],
      "metadata": {
        "colab": {
          "base_uri": "https://localhost:8080/"
        },
        "id": "oZANwFeo4Jk-",
        "outputId": "3f184c1c-a8c8-4614-8acc-969259abbc8d"
      },
      "execution_count": 6,
      "outputs": [
        {
          "output_type": "stream",
          "name": "stderr",
          "text": [
            "  8%|▊         | 1/12 [01:12<13:16, 72.41s/it]"
          ]
        },
        {
          "output_type": "stream",
          "name": "stdout",
          "text": [
            "Epoch 0 valid_loss 80.08786010742188\n"
          ]
        },
        {
          "output_type": "stream",
          "name": "stderr",
          "text": [
            "\r 17%|█▋        | 2/12 [02:17<11:18, 67.81s/it]"
          ]
        },
        {
          "output_type": "stream",
          "name": "stdout",
          "text": [
            "Epoch 1 valid_loss 76.87605285644531\n"
          ]
        },
        {
          "output_type": "stream",
          "name": "stderr",
          "text": [
            "\r 25%|██▌       | 3/12 [03:20<09:53, 65.98s/it]"
          ]
        },
        {
          "output_type": "stream",
          "name": "stdout",
          "text": [
            "Epoch 2 valid_loss 76.63804626464844\n"
          ]
        },
        {
          "output_type": "stream",
          "name": "stderr",
          "text": [
            "\r 33%|███▎      | 4/12 [04:25<08:42, 65.32s/it]"
          ]
        },
        {
          "output_type": "stream",
          "name": "stdout",
          "text": [
            "Epoch 3 valid_loss 77.3251724243164\n"
          ]
        },
        {
          "output_type": "stream",
          "name": "stderr",
          "text": [
            "\r 42%|████▏     | 5/12 [05:29<07:33, 64.84s/it]"
          ]
        },
        {
          "output_type": "stream",
          "name": "stdout",
          "text": [
            "Epoch 4 valid_loss 74.95658874511719\n"
          ]
        },
        {
          "output_type": "stream",
          "name": "stderr",
          "text": [
            "\r 50%|█████     | 6/12 [06:34<06:29, 64.99s/it]"
          ]
        },
        {
          "output_type": "stream",
          "name": "stdout",
          "text": [
            "Epoch 5 valid_loss 72.50885009765625\n"
          ]
        },
        {
          "output_type": "stream",
          "name": "stderr",
          "text": [
            "\r 58%|█████▊    | 7/12 [07:40<05:27, 65.43s/it]"
          ]
        },
        {
          "output_type": "stream",
          "name": "stdout",
          "text": [
            "Epoch 6 valid_loss 79.11381530761719\n"
          ]
        },
        {
          "output_type": "stream",
          "name": "stderr",
          "text": [
            "\r 67%|██████▋   | 8/12 [08:46<04:21, 65.40s/it]"
          ]
        },
        {
          "output_type": "stream",
          "name": "stdout",
          "text": [
            "Epoch 7 valid_loss 71.67729187011719\n"
          ]
        },
        {
          "output_type": "stream",
          "name": "stderr",
          "text": [
            "\r 75%|███████▌  | 9/12 [09:51<03:16, 65.38s/it]"
          ]
        },
        {
          "output_type": "stream",
          "name": "stdout",
          "text": [
            "Epoch 8 valid_loss 68.48345947265625\n"
          ]
        },
        {
          "output_type": "stream",
          "name": "stderr",
          "text": [
            "\r 83%|████████▎ | 10/12 [10:56<02:10, 65.27s/it]"
          ]
        },
        {
          "output_type": "stream",
          "name": "stdout",
          "text": [
            "Epoch 9 valid_loss 68.37760162353516\n"
          ]
        },
        {
          "output_type": "stream",
          "name": "stderr",
          "text": [
            "\r 92%|█████████▏| 11/12 [11:57<01:03, 63.96s/it]"
          ]
        },
        {
          "output_type": "stream",
          "name": "stdout",
          "text": [
            "Epoch 10 valid_loss 69.35382843017578\n"
          ]
        },
        {
          "output_type": "stream",
          "name": "stderr",
          "text": [
            "100%|██████████| 12/12 [12:57<00:00, 64.81s/it]"
          ]
        },
        {
          "output_type": "stream",
          "name": "stdout",
          "text": [
            "Epoch 11 valid_loss 70.38447570800781\n",
            "Training is finished!\n"
          ]
        },
        {
          "output_type": "stream",
          "name": "stderr",
          "text": [
            "\n"
          ]
        }
      ]
    },
    {
      "cell_type": "markdown",
      "source": [
        "### Предобученные модели"
      ],
      "metadata": {
        "id": "Crzujog94L_P"
      }
    },
    {
      "cell_type": "code",
      "source": [
        "from torchvision import models\n",
        "resnet50 = models.resnet50(pretrained=True)\n",
        "print(resnet50)"
      ],
      "metadata": {
        "id": "JF-aYhAi4Urs",
        "colab": {
          "base_uri": "https://localhost:8080/"
        },
        "outputId": "63b1e0ec-5268-4a10-e410-660cccd34b92"
      },
      "execution_count": 7,
      "outputs": [
        {
          "output_type": "stream",
          "name": "stderr",
          "text": [
            "/usr/local/lib/python3.8/dist-packages/torchvision/models/_utils.py:208: UserWarning: The parameter 'pretrained' is deprecated since 0.13 and may be removed in the future, please use 'weights' instead.\n",
            "  warnings.warn(\n",
            "/usr/local/lib/python3.8/dist-packages/torchvision/models/_utils.py:223: UserWarning: Arguments other than a weight enum or `None` for 'weights' are deprecated since 0.13 and may be removed in the future. The current behavior is equivalent to passing `weights=ResNet50_Weights.IMAGENET1K_V1`. You can also use `weights=ResNet50_Weights.DEFAULT` to get the most up-to-date weights.\n",
            "  warnings.warn(msg)\n"
          ]
        },
        {
          "output_type": "stream",
          "name": "stdout",
          "text": [
            "ResNet(\n",
            "  (conv1): Conv2d(3, 64, kernel_size=(7, 7), stride=(2, 2), padding=(3, 3), bias=False)\n",
            "  (bn1): BatchNorm2d(64, eps=1e-05, momentum=0.1, affine=True, track_running_stats=True)\n",
            "  (relu): ReLU(inplace=True)\n",
            "  (maxpool): MaxPool2d(kernel_size=3, stride=2, padding=1, dilation=1, ceil_mode=False)\n",
            "  (layer1): Sequential(\n",
            "    (0): Bottleneck(\n",
            "      (conv1): Conv2d(64, 64, kernel_size=(1, 1), stride=(1, 1), bias=False)\n",
            "      (bn1): BatchNorm2d(64, eps=1e-05, momentum=0.1, affine=True, track_running_stats=True)\n",
            "      (conv2): Conv2d(64, 64, kernel_size=(3, 3), stride=(1, 1), padding=(1, 1), bias=False)\n",
            "      (bn2): BatchNorm2d(64, eps=1e-05, momentum=0.1, affine=True, track_running_stats=True)\n",
            "      (conv3): Conv2d(64, 256, kernel_size=(1, 1), stride=(1, 1), bias=False)\n",
            "      (bn3): BatchNorm2d(256, eps=1e-05, momentum=0.1, affine=True, track_running_stats=True)\n",
            "      (relu): ReLU(inplace=True)\n",
            "      (downsample): Sequential(\n",
            "        (0): Conv2d(64, 256, kernel_size=(1, 1), stride=(1, 1), bias=False)\n",
            "        (1): BatchNorm2d(256, eps=1e-05, momentum=0.1, affine=True, track_running_stats=True)\n",
            "      )\n",
            "    )\n",
            "    (1): Bottleneck(\n",
            "      (conv1): Conv2d(256, 64, kernel_size=(1, 1), stride=(1, 1), bias=False)\n",
            "      (bn1): BatchNorm2d(64, eps=1e-05, momentum=0.1, affine=True, track_running_stats=True)\n",
            "      (conv2): Conv2d(64, 64, kernel_size=(3, 3), stride=(1, 1), padding=(1, 1), bias=False)\n",
            "      (bn2): BatchNorm2d(64, eps=1e-05, momentum=0.1, affine=True, track_running_stats=True)\n",
            "      (conv3): Conv2d(64, 256, kernel_size=(1, 1), stride=(1, 1), bias=False)\n",
            "      (bn3): BatchNorm2d(256, eps=1e-05, momentum=0.1, affine=True, track_running_stats=True)\n",
            "      (relu): ReLU(inplace=True)\n",
            "    )\n",
            "    (2): Bottleneck(\n",
            "      (conv1): Conv2d(256, 64, kernel_size=(1, 1), stride=(1, 1), bias=False)\n",
            "      (bn1): BatchNorm2d(64, eps=1e-05, momentum=0.1, affine=True, track_running_stats=True)\n",
            "      (conv2): Conv2d(64, 64, kernel_size=(3, 3), stride=(1, 1), padding=(1, 1), bias=False)\n",
            "      (bn2): BatchNorm2d(64, eps=1e-05, momentum=0.1, affine=True, track_running_stats=True)\n",
            "      (conv3): Conv2d(64, 256, kernel_size=(1, 1), stride=(1, 1), bias=False)\n",
            "      (bn3): BatchNorm2d(256, eps=1e-05, momentum=0.1, affine=True, track_running_stats=True)\n",
            "      (relu): ReLU(inplace=True)\n",
            "    )\n",
            "  )\n",
            "  (layer2): Sequential(\n",
            "    (0): Bottleneck(\n",
            "      (conv1): Conv2d(256, 128, kernel_size=(1, 1), stride=(1, 1), bias=False)\n",
            "      (bn1): BatchNorm2d(128, eps=1e-05, momentum=0.1, affine=True, track_running_stats=True)\n",
            "      (conv2): Conv2d(128, 128, kernel_size=(3, 3), stride=(2, 2), padding=(1, 1), bias=False)\n",
            "      (bn2): BatchNorm2d(128, eps=1e-05, momentum=0.1, affine=True, track_running_stats=True)\n",
            "      (conv3): Conv2d(128, 512, kernel_size=(1, 1), stride=(1, 1), bias=False)\n",
            "      (bn3): BatchNorm2d(512, eps=1e-05, momentum=0.1, affine=True, track_running_stats=True)\n",
            "      (relu): ReLU(inplace=True)\n",
            "      (downsample): Sequential(\n",
            "        (0): Conv2d(256, 512, kernel_size=(1, 1), stride=(2, 2), bias=False)\n",
            "        (1): BatchNorm2d(512, eps=1e-05, momentum=0.1, affine=True, track_running_stats=True)\n",
            "      )\n",
            "    )\n",
            "    (1): Bottleneck(\n",
            "      (conv1): Conv2d(512, 128, kernel_size=(1, 1), stride=(1, 1), bias=False)\n",
            "      (bn1): BatchNorm2d(128, eps=1e-05, momentum=0.1, affine=True, track_running_stats=True)\n",
            "      (conv2): Conv2d(128, 128, kernel_size=(3, 3), stride=(1, 1), padding=(1, 1), bias=False)\n",
            "      (bn2): BatchNorm2d(128, eps=1e-05, momentum=0.1, affine=True, track_running_stats=True)\n",
            "      (conv3): Conv2d(128, 512, kernel_size=(1, 1), stride=(1, 1), bias=False)\n",
            "      (bn3): BatchNorm2d(512, eps=1e-05, momentum=0.1, affine=True, track_running_stats=True)\n",
            "      (relu): ReLU(inplace=True)\n",
            "    )\n",
            "    (2): Bottleneck(\n",
            "      (conv1): Conv2d(512, 128, kernel_size=(1, 1), stride=(1, 1), bias=False)\n",
            "      (bn1): BatchNorm2d(128, eps=1e-05, momentum=0.1, affine=True, track_running_stats=True)\n",
            "      (conv2): Conv2d(128, 128, kernel_size=(3, 3), stride=(1, 1), padding=(1, 1), bias=False)\n",
            "      (bn2): BatchNorm2d(128, eps=1e-05, momentum=0.1, affine=True, track_running_stats=True)\n",
            "      (conv3): Conv2d(128, 512, kernel_size=(1, 1), stride=(1, 1), bias=False)\n",
            "      (bn3): BatchNorm2d(512, eps=1e-05, momentum=0.1, affine=True, track_running_stats=True)\n",
            "      (relu): ReLU(inplace=True)\n",
            "    )\n",
            "    (3): Bottleneck(\n",
            "      (conv1): Conv2d(512, 128, kernel_size=(1, 1), stride=(1, 1), bias=False)\n",
            "      (bn1): BatchNorm2d(128, eps=1e-05, momentum=0.1, affine=True, track_running_stats=True)\n",
            "      (conv2): Conv2d(128, 128, kernel_size=(3, 3), stride=(1, 1), padding=(1, 1), bias=False)\n",
            "      (bn2): BatchNorm2d(128, eps=1e-05, momentum=0.1, affine=True, track_running_stats=True)\n",
            "      (conv3): Conv2d(128, 512, kernel_size=(1, 1), stride=(1, 1), bias=False)\n",
            "      (bn3): BatchNorm2d(512, eps=1e-05, momentum=0.1, affine=True, track_running_stats=True)\n",
            "      (relu): ReLU(inplace=True)\n",
            "    )\n",
            "  )\n",
            "  (layer3): Sequential(\n",
            "    (0): Bottleneck(\n",
            "      (conv1): Conv2d(512, 256, kernel_size=(1, 1), stride=(1, 1), bias=False)\n",
            "      (bn1): BatchNorm2d(256, eps=1e-05, momentum=0.1, affine=True, track_running_stats=True)\n",
            "      (conv2): Conv2d(256, 256, kernel_size=(3, 3), stride=(2, 2), padding=(1, 1), bias=False)\n",
            "      (bn2): BatchNorm2d(256, eps=1e-05, momentum=0.1, affine=True, track_running_stats=True)\n",
            "      (conv3): Conv2d(256, 1024, kernel_size=(1, 1), stride=(1, 1), bias=False)\n",
            "      (bn3): BatchNorm2d(1024, eps=1e-05, momentum=0.1, affine=True, track_running_stats=True)\n",
            "      (relu): ReLU(inplace=True)\n",
            "      (downsample): Sequential(\n",
            "        (0): Conv2d(512, 1024, kernel_size=(1, 1), stride=(2, 2), bias=False)\n",
            "        (1): BatchNorm2d(1024, eps=1e-05, momentum=0.1, affine=True, track_running_stats=True)\n",
            "      )\n",
            "    )\n",
            "    (1): Bottleneck(\n",
            "      (conv1): Conv2d(1024, 256, kernel_size=(1, 1), stride=(1, 1), bias=False)\n",
            "      (bn1): BatchNorm2d(256, eps=1e-05, momentum=0.1, affine=True, track_running_stats=True)\n",
            "      (conv2): Conv2d(256, 256, kernel_size=(3, 3), stride=(1, 1), padding=(1, 1), bias=False)\n",
            "      (bn2): BatchNorm2d(256, eps=1e-05, momentum=0.1, affine=True, track_running_stats=True)\n",
            "      (conv3): Conv2d(256, 1024, kernel_size=(1, 1), stride=(1, 1), bias=False)\n",
            "      (bn3): BatchNorm2d(1024, eps=1e-05, momentum=0.1, affine=True, track_running_stats=True)\n",
            "      (relu): ReLU(inplace=True)\n",
            "    )\n",
            "    (2): Bottleneck(\n",
            "      (conv1): Conv2d(1024, 256, kernel_size=(1, 1), stride=(1, 1), bias=False)\n",
            "      (bn1): BatchNorm2d(256, eps=1e-05, momentum=0.1, affine=True, track_running_stats=True)\n",
            "      (conv2): Conv2d(256, 256, kernel_size=(3, 3), stride=(1, 1), padding=(1, 1), bias=False)\n",
            "      (bn2): BatchNorm2d(256, eps=1e-05, momentum=0.1, affine=True, track_running_stats=True)\n",
            "      (conv3): Conv2d(256, 1024, kernel_size=(1, 1), stride=(1, 1), bias=False)\n",
            "      (bn3): BatchNorm2d(1024, eps=1e-05, momentum=0.1, affine=True, track_running_stats=True)\n",
            "      (relu): ReLU(inplace=True)\n",
            "    )\n",
            "    (3): Bottleneck(\n",
            "      (conv1): Conv2d(1024, 256, kernel_size=(1, 1), stride=(1, 1), bias=False)\n",
            "      (bn1): BatchNorm2d(256, eps=1e-05, momentum=0.1, affine=True, track_running_stats=True)\n",
            "      (conv2): Conv2d(256, 256, kernel_size=(3, 3), stride=(1, 1), padding=(1, 1), bias=False)\n",
            "      (bn2): BatchNorm2d(256, eps=1e-05, momentum=0.1, affine=True, track_running_stats=True)\n",
            "      (conv3): Conv2d(256, 1024, kernel_size=(1, 1), stride=(1, 1), bias=False)\n",
            "      (bn3): BatchNorm2d(1024, eps=1e-05, momentum=0.1, affine=True, track_running_stats=True)\n",
            "      (relu): ReLU(inplace=True)\n",
            "    )\n",
            "    (4): Bottleneck(\n",
            "      (conv1): Conv2d(1024, 256, kernel_size=(1, 1), stride=(1, 1), bias=False)\n",
            "      (bn1): BatchNorm2d(256, eps=1e-05, momentum=0.1, affine=True, track_running_stats=True)\n",
            "      (conv2): Conv2d(256, 256, kernel_size=(3, 3), stride=(1, 1), padding=(1, 1), bias=False)\n",
            "      (bn2): BatchNorm2d(256, eps=1e-05, momentum=0.1, affine=True, track_running_stats=True)\n",
            "      (conv3): Conv2d(256, 1024, kernel_size=(1, 1), stride=(1, 1), bias=False)\n",
            "      (bn3): BatchNorm2d(1024, eps=1e-05, momentum=0.1, affine=True, track_running_stats=True)\n",
            "      (relu): ReLU(inplace=True)\n",
            "    )\n",
            "    (5): Bottleneck(\n",
            "      (conv1): Conv2d(1024, 256, kernel_size=(1, 1), stride=(1, 1), bias=False)\n",
            "      (bn1): BatchNorm2d(256, eps=1e-05, momentum=0.1, affine=True, track_running_stats=True)\n",
            "      (conv2): Conv2d(256, 256, kernel_size=(3, 3), stride=(1, 1), padding=(1, 1), bias=False)\n",
            "      (bn2): BatchNorm2d(256, eps=1e-05, momentum=0.1, affine=True, track_running_stats=True)\n",
            "      (conv3): Conv2d(256, 1024, kernel_size=(1, 1), stride=(1, 1), bias=False)\n",
            "      (bn3): BatchNorm2d(1024, eps=1e-05, momentum=0.1, affine=True, track_running_stats=True)\n",
            "      (relu): ReLU(inplace=True)\n",
            "    )\n",
            "  )\n",
            "  (layer4): Sequential(\n",
            "    (0): Bottleneck(\n",
            "      (conv1): Conv2d(1024, 512, kernel_size=(1, 1), stride=(1, 1), bias=False)\n",
            "      (bn1): BatchNorm2d(512, eps=1e-05, momentum=0.1, affine=True, track_running_stats=True)\n",
            "      (conv2): Conv2d(512, 512, kernel_size=(3, 3), stride=(2, 2), padding=(1, 1), bias=False)\n",
            "      (bn2): BatchNorm2d(512, eps=1e-05, momentum=0.1, affine=True, track_running_stats=True)\n",
            "      (conv3): Conv2d(512, 2048, kernel_size=(1, 1), stride=(1, 1), bias=False)\n",
            "      (bn3): BatchNorm2d(2048, eps=1e-05, momentum=0.1, affine=True, track_running_stats=True)\n",
            "      (relu): ReLU(inplace=True)\n",
            "      (downsample): Sequential(\n",
            "        (0): Conv2d(1024, 2048, kernel_size=(1, 1), stride=(2, 2), bias=False)\n",
            "        (1): BatchNorm2d(2048, eps=1e-05, momentum=0.1, affine=True, track_running_stats=True)\n",
            "      )\n",
            "    )\n",
            "    (1): Bottleneck(\n",
            "      (conv1): Conv2d(2048, 512, kernel_size=(1, 1), stride=(1, 1), bias=False)\n",
            "      (bn1): BatchNorm2d(512, eps=1e-05, momentum=0.1, affine=True, track_running_stats=True)\n",
            "      (conv2): Conv2d(512, 512, kernel_size=(3, 3), stride=(1, 1), padding=(1, 1), bias=False)\n",
            "      (bn2): BatchNorm2d(512, eps=1e-05, momentum=0.1, affine=True, track_running_stats=True)\n",
            "      (conv3): Conv2d(512, 2048, kernel_size=(1, 1), stride=(1, 1), bias=False)\n",
            "      (bn3): BatchNorm2d(2048, eps=1e-05, momentum=0.1, affine=True, track_running_stats=True)\n",
            "      (relu): ReLU(inplace=True)\n",
            "    )\n",
            "    (2): Bottleneck(\n",
            "      (conv1): Conv2d(2048, 512, kernel_size=(1, 1), stride=(1, 1), bias=False)\n",
            "      (bn1): BatchNorm2d(512, eps=1e-05, momentum=0.1, affine=True, track_running_stats=True)\n",
            "      (conv2): Conv2d(512, 512, kernel_size=(3, 3), stride=(1, 1), padding=(1, 1), bias=False)\n",
            "      (bn2): BatchNorm2d(512, eps=1e-05, momentum=0.1, affine=True, track_running_stats=True)\n",
            "      (conv3): Conv2d(512, 2048, kernel_size=(1, 1), stride=(1, 1), bias=False)\n",
            "      (bn3): BatchNorm2d(2048, eps=1e-05, momentum=0.1, affine=True, track_running_stats=True)\n",
            "      (relu): ReLU(inplace=True)\n",
            "    )\n",
            "  )\n",
            "  (avgpool): AdaptiveAvgPool2d(output_size=(1, 1))\n",
            "  (fc): Linear(in_features=2048, out_features=1000, bias=True)\n",
            ")\n"
          ]
        }
      ]
    },
    {
      "cell_type": "code",
      "source": [
        "def set_parameter_requires_grad(model, feature_extracting):\n",
        "    if feature_extracting:\n",
        "        for param in model.parameters():\n",
        "            param.requires_grad = False"
      ],
      "metadata": {
        "id": "fw1oW9Z35daw"
      },
      "execution_count": 8,
      "outputs": []
    },
    {
      "cell_type": "code",
      "source": [
        "set_parameter_requires_grad(resnet50, True)\n",
        "resnet50.fc = nn.Linear(2048, 1000)"
      ],
      "metadata": {
        "id": "txLvVB-_440N"
      },
      "execution_count": 9,
      "outputs": []
    },
    {
      "cell_type": "code",
      "source": [
        "params_to_update = []\n",
        "for name,param in resnet50.named_parameters():\n",
        "    if param.requires_grad == True:\n",
        "        params_to_update.append(param)\n",
        "\n",
        "optimizer = torch.optim.Adam(params_to_update, lr=0.001)\n",
        "criterion = nn.CrossEntropyLoss()"
      ],
      "metadata": {
        "id": "qbsLYJ705rI9"
      },
      "execution_count": 10,
      "outputs": []
    },
    {
      "cell_type": "code",
      "source": [
        "params_to_update"
      ],
      "metadata": {
        "id": "f1vPANhp5g9I",
        "colab": {
          "base_uri": "https://localhost:8080/"
        },
        "outputId": "c3729e86-1292-4b8c-c426-d39c013ec66c"
      },
      "execution_count": 11,
      "outputs": [
        {
          "output_type": "execute_result",
          "data": {
            "text/plain": [
              "[Parameter containing:\n",
              " tensor([[-8.3911e-03,  2.1450e-02, -1.7014e-02,  ..., -1.5881e-02,\n",
              "          -1.8910e-02, -1.7512e-02],\n",
              "         [ 1.9355e-02, -4.0247e-03,  4.3525e-03,  ..., -1.7729e-02,\n",
              "          -5.5280e-03,  2.1757e-02],\n",
              "         [-9.2769e-03,  7.6716e-03, -3.9116e-03,  ..., -2.0470e-02,\n",
              "           1.2663e-02, -6.0461e-03],\n",
              "         ...,\n",
              "         [ 3.1582e-04, -1.5644e-02,  1.4794e-02,  ...,  7.8737e-03,\n",
              "           7.8649e-05,  1.9739e-02],\n",
              "         [-3.0096e-03,  1.1927e-02, -1.6045e-02,  ..., -2.1253e-02,\n",
              "          -6.1299e-03,  8.1439e-03],\n",
              "         [-1.6570e-02,  1.0922e-02, -9.8642e-03,  ...,  1.1483e-02,\n",
              "          -1.9068e-02,  1.9435e-02]], requires_grad=True),\n",
              " Parameter containing:\n",
              " tensor([-1.9870e-02, -1.6219e-03, -1.1566e-02,  5.8014e-03,  4.8090e-03,\n",
              "         -8.6859e-03,  2.1433e-02,  4.9149e-03, -4.0822e-03, -1.5951e-02,\n",
              "          1.0794e-02,  9.5603e-03,  3.1023e-03, -2.2326e-03, -1.7067e-02,\n",
              "         -2.0614e-02,  9.3399e-03, -1.4554e-02,  1.5760e-02, -8.3896e-03,\n",
              "         -1.3364e-02,  7.9426e-04,  5.8877e-03,  1.2231e-02, -1.7495e-02,\n",
              "          1.8097e-04,  7.5295e-03,  9.8344e-03, -1.3546e-02, -1.0607e-02,\n",
              "          1.8149e-02,  2.1652e-02, -7.8345e-03,  1.6983e-02,  1.9062e-03,\n",
              "         -2.9077e-03, -1.0231e-02, -1.6541e-04, -3.6628e-03, -6.0387e-03,\n",
              "         -3.5419e-03,  1.7086e-02,  6.2887e-03,  8.3174e-04, -1.8729e-02,\n",
              "          1.3886e-02, -2.1825e-02, -1.6616e-02,  4.3157e-04,  1.7908e-02,\n",
              "         -5.4516e-03, -7.8309e-03,  4.2553e-03, -1.6933e-02,  1.8724e-02,\n",
              "         -1.3411e-02,  7.5768e-03,  2.1349e-02,  2.1088e-02, -6.8839e-03,\n",
              "         -3.8869e-03, -4.1188e-03, -2.0683e-02, -1.3520e-02, -1.0949e-02,\n",
              "         -1.1123e-02,  2.1480e-02,  2.2006e-02,  1.8718e-02,  1.7242e-02,\n",
              "         -1.9291e-02,  1.9823e-02, -4.9893e-03,  1.5709e-02, -1.7083e-02,\n",
              "          2.0736e-02, -1.9223e-02,  3.1695e-04,  2.3346e-03, -4.0938e-03,\n",
              "          1.0300e-05, -2.6145e-03, -2.1763e-02, -1.6517e-02, -1.1225e-02,\n",
              "         -8.6068e-03,  1.7005e-02, -1.4125e-02,  5.1414e-03, -5.5664e-04,\n",
              "         -9.6648e-03, -6.9509e-03,  1.5545e-02,  1.9299e-02, -1.1928e-02,\n",
              "          1.7977e-02, -1.0376e-02,  1.2674e-02, -2.6482e-03,  3.4195e-03,\n",
              "         -1.8144e-02,  6.6617e-03,  1.7149e-02, -2.1958e-03, -7.4207e-03,\n",
              "         -9.5881e-03,  1.0147e-02, -5.9208e-03, -1.9418e-02, -3.7909e-03,\n",
              "          1.3880e-02, -9.4835e-03, -1.9460e-02,  2.7108e-03,  1.2468e-02,\n",
              "          1.7535e-02,  1.8400e-02, -1.1574e-02,  2.0627e-02, -1.6015e-02,\n",
              "          2.2946e-03, -1.3775e-03, -5.8256e-04,  1.2058e-02, -3.9556e-03,\n",
              "         -1.0739e-02,  1.2938e-02, -1.9336e-02,  9.5164e-03, -2.3678e-03,\n",
              "         -1.9041e-02, -2.4081e-03,  5.4215e-03,  4.7358e-03,  1.4210e-02,\n",
              "         -1.7795e-02,  8.9608e-03, -2.9648e-03, -1.6647e-02,  4.2342e-03,\n",
              "         -5.9082e-03,  2.2410e-03, -1.3467e-02, -1.4760e-02,  1.3829e-02,\n",
              "         -3.4266e-03, -6.7964e-03, -1.2945e-02, -1.9419e-02,  8.6578e-03,\n",
              "         -1.4730e-02,  7.2910e-03, -1.8207e-02, -1.1795e-02,  1.9254e-02,\n",
              "         -4.1178e-03,  1.6801e-02,  1.2331e-02, -1.6614e-02, -2.0381e-02,\n",
              "          5.0053e-03,  8.7031e-03,  5.7397e-03, -5.1423e-03, -8.0247e-03,\n",
              "          3.6846e-04,  6.4981e-04,  3.8286e-03, -7.0620e-04, -1.8331e-02,\n",
              "         -1.5665e-02, -2.2112e-03,  8.6423e-03,  1.2063e-02,  4.4520e-03,\n",
              "          4.2678e-03,  6.1206e-03,  2.1005e-02,  8.3291e-03, -1.0312e-02,\n",
              "          2.1861e-02,  1.3905e-02,  7.8968e-03, -8.5885e-03, -1.7698e-02,\n",
              "          9.9743e-03,  4.7994e-03, -1.1536e-03,  2.1758e-02, -1.3051e-02,\n",
              "          6.4547e-03,  5.5257e-03,  9.4079e-03,  1.9649e-02, -1.6409e-02,\n",
              "          3.6842e-03, -1.4291e-02, -2.0469e-02, -6.8425e-03, -2.6385e-03,\n",
              "          2.6033e-03,  1.5567e-02, -1.6580e-02, -8.4474e-03, -1.7009e-02,\n",
              "          2.1013e-02, -1.8451e-02,  3.4839e-03,  6.0282e-03, -2.1560e-02,\n",
              "         -1.1775e-02, -1.3412e-02,  5.5657e-03,  7.7697e-03,  5.7583e-03,\n",
              "         -7.7146e-03, -1.6548e-02,  1.0079e-02,  1.4767e-02, -1.1219e-02,\n",
              "          6.3477e-03,  1.6429e-02,  9.6076e-03, -5.1263e-03,  2.0237e-02,\n",
              "          1.9088e-02,  7.0366e-03, -1.8834e-02, -9.4096e-03,  2.2086e-02,\n",
              "          2.5437e-03, -5.7700e-03,  9.0868e-03,  1.4029e-02,  1.3946e-02,\n",
              "         -1.6808e-02,  1.9759e-02, -1.9778e-02, -7.8093e-03,  2.6935e-03,\n",
              "         -1.7965e-02, -1.4809e-02, -1.0684e-02, -1.5818e-02, -1.7426e-02,\n",
              "         -1.6706e-03, -7.3560e-04,  2.1519e-02, -4.5815e-03, -2.4508e-03,\n",
              "         -3.6803e-03,  8.7983e-03,  6.8773e-03, -2.1282e-02,  5.7892e-03,\n",
              "         -1.7883e-02,  2.1783e-02,  1.9713e-02, -1.6962e-02, -2.0469e-02,\n",
              "         -1.9318e-02,  1.0586e-03, -2.0537e-02, -1.8745e-02, -9.8282e-03,\n",
              "         -1.9110e-02, -3.4736e-03, -1.0169e-03, -7.3698e-03, -9.4319e-03,\n",
              "          1.3969e-02,  2.1728e-02, -1.4742e-02,  9.7703e-03, -1.2140e-02,\n",
              "          4.7999e-03,  1.8299e-02, -5.9220e-03, -2.0740e-02,  1.8211e-02,\n",
              "         -2.1557e-02,  2.8619e-03, -2.1189e-02, -1.0245e-02, -1.9391e-02,\n",
              "          1.6159e-02, -1.5547e-02, -2.1520e-02, -1.2713e-02,  1.5780e-02,\n",
              "          1.4188e-02,  1.5684e-02, -1.9524e-02,  1.1158e-02,  2.0875e-02,\n",
              "          1.4361e-02,  2.7778e-03,  3.7020e-04, -1.6321e-02, -1.3459e-02,\n",
              "         -4.4486e-03,  1.8247e-02, -2.0668e-02,  1.4785e-02,  8.6275e-03,\n",
              "         -8.9529e-03,  1.5850e-02, -8.8717e-03,  4.7981e-03, -3.9122e-03,\n",
              "          5.7301e-03, -1.2993e-02,  1.9679e-02, -7.9027e-03, -1.9600e-02,\n",
              "         -2.7861e-04, -1.9836e-02, -1.3281e-02,  1.0798e-03,  2.0867e-02,\n",
              "         -1.5990e-02,  1.8449e-02, -1.2935e-02, -1.8846e-02, -1.4371e-02,\n",
              "          3.6301e-04,  1.8942e-02,  2.0539e-02, -2.8669e-03,  2.1186e-02,\n",
              "         -2.1403e-03, -1.1337e-03, -1.8925e-02,  4.7608e-03, -1.1661e-02,\n",
              "         -1.3900e-02, -1.1909e-02,  1.6692e-03, -2.4205e-03, -3.8921e-03,\n",
              "         -5.3419e-03, -5.7741e-03, -1.4967e-02,  1.5240e-02, -2.0528e-02,\n",
              "          9.5554e-03, -1.2400e-02,  1.9290e-02, -9.2265e-03,  2.1767e-02,\n",
              "         -1.8028e-02,  2.1175e-03,  1.6812e-02,  1.3143e-03,  1.9772e-02,\n",
              "         -7.9213e-03,  1.6925e-02, -1.6676e-02, -4.5551e-03,  1.2643e-02,\n",
              "          1.0083e-03, -5.3610e-03,  3.0904e-03, -2.1156e-02,  6.2791e-04,\n",
              "          1.0830e-02, -1.8989e-02,  1.6864e-02, -7.9825e-03,  1.0202e-02,\n",
              "         -3.3600e-03,  1.6680e-02, -1.4473e-02, -1.5351e-02, -1.8338e-02,\n",
              "          1.4114e-02,  6.0046e-03, -1.9102e-02,  7.0656e-03, -1.5119e-02,\n",
              "          1.3986e-02, -1.0871e-02,  1.9181e-02,  6.5285e-03, -8.1041e-03,\n",
              "         -6.8194e-03,  3.3172e-03,  9.0379e-03,  2.0128e-02,  4.1581e-05,\n",
              "          1.0538e-02,  1.9320e-02, -1.2917e-02,  2.0552e-02,  1.2583e-02,\n",
              "          7.0690e-03, -1.1200e-02, -1.3108e-02, -1.8050e-02, -1.4502e-02,\n",
              "          2.5250e-03,  5.8260e-04, -4.0845e-03, -2.9982e-03,  2.1139e-02,\n",
              "          6.5242e-03,  1.9564e-03, -1.1156e-02,  1.5581e-03, -9.8421e-04,\n",
              "          1.9247e-02,  2.0161e-02,  4.0827e-03, -3.2944e-04, -1.3007e-02,\n",
              "         -2.7006e-03,  1.1187e-02, -1.9361e-02, -1.1984e-02,  1.3964e-02,\n",
              "          2.0970e-02, -1.5458e-02,  6.4620e-03,  1.5371e-02,  1.9677e-02,\n",
              "          1.2610e-02,  2.0643e-03,  1.6177e-02,  1.7687e-02, -1.1171e-02,\n",
              "         -1.8751e-02, -9.2496e-03,  1.7175e-02,  1.4718e-03,  5.8528e-03,\n",
              "          1.3672e-03, -1.0169e-02, -6.8820e-04,  4.6785e-03, -8.6755e-03,\n",
              "         -1.7874e-02, -1.1269e-02, -1.2670e-04,  2.0705e-02, -1.1876e-02,\n",
              "         -9.1636e-03, -1.5069e-02,  8.7753e-03, -9.4295e-03, -1.8358e-03,\n",
              "          1.2530e-02,  1.7973e-02, -1.6506e-02, -1.2689e-02, -1.8442e-02,\n",
              "         -2.0591e-02,  3.6658e-03,  1.9801e-02, -1.1989e-02, -1.4772e-02,\n",
              "         -7.4296e-03,  1.9561e-02,  1.8240e-02, -1.3164e-02,  1.2169e-02,\n",
              "          1.6524e-02,  1.8178e-02,  1.9892e-02,  6.2158e-03,  5.7225e-04,\n",
              "         -4.3910e-03, -7.8113e-03,  7.6775e-03,  1.9227e-02, -1.9945e-02,\n",
              "          1.2083e-02,  1.7051e-02,  1.7536e-02,  8.5337e-03,  1.0896e-02,\n",
              "          1.5606e-02,  2.1114e-02,  9.0949e-03,  1.7014e-02, -1.5029e-02,\n",
              "         -3.9642e-03, -1.9708e-02, -1.7532e-02,  1.0413e-03,  1.8724e-03,\n",
              "          8.9576e-03, -1.5818e-02,  9.1357e-03, -1.0166e-02, -9.3082e-03,\n",
              "         -2.0789e-02, -3.5543e-03,  2.0485e-02, -1.1382e-02, -1.6716e-02,\n",
              "          1.2582e-02, -2.0988e-02,  1.1454e-02,  1.9791e-02,  2.1799e-02,\n",
              "          5.0419e-03,  1.1396e-03, -1.6616e-02, -2.1701e-02,  6.3276e-03,\n",
              "          2.0270e-02, -2.2062e-02,  8.1221e-03,  2.4845e-03, -2.9430e-03,\n",
              "          5.2591e-03, -4.1477e-03, -1.2538e-02, -7.8238e-04, -2.0044e-02,\n",
              "          3.8760e-03,  6.2485e-03, -2.0158e-02,  1.7297e-02,  7.4131e-03,\n",
              "         -8.0124e-03, -2.1602e-02,  8.1867e-04,  1.2129e-02, -1.0158e-02,\n",
              "         -1.7979e-02,  1.9953e-02,  2.0206e-02,  1.4813e-02, -1.6803e-02,\n",
              "          3.8404e-03,  1.8328e-02, -8.4555e-03,  1.0872e-02,  1.6582e-03,\n",
              "          8.5419e-03, -2.1787e-02, -8.9948e-03, -1.8654e-02, -1.1206e-02,\n",
              "          9.4216e-03, -1.5672e-02, -3.4264e-03, -2.0583e-02, -1.0078e-02,\n",
              "          1.2288e-02, -2.1200e-02,  3.1316e-03,  1.0619e-02,  9.8611e-03,\n",
              "         -8.3117e-03,  7.7350e-03,  2.7683e-03,  3.2717e-03,  2.2337e-03,\n",
              "         -2.0193e-02, -1.7270e-02,  3.1091e-03, -1.9340e-02,  7.9800e-05,\n",
              "          9.8699e-03,  1.7529e-02,  1.2958e-02,  9.1757e-03, -2.1140e-02,\n",
              "          7.6874e-03,  1.7983e-02,  2.0381e-03,  6.9244e-04, -3.9180e-03,\n",
              "         -2.0122e-02, -7.4776e-03, -1.2826e-02, -1.5774e-02,  1.3591e-02,\n",
              "         -1.0867e-02,  8.5449e-04,  1.2064e-02, -1.4769e-02, -1.5177e-02,\n",
              "          6.3428e-03, -3.0431e-03, -1.1275e-02, -1.3226e-02,  1.5766e-02,\n",
              "         -9.2517e-03, -2.1373e-02,  1.5862e-02, -7.9141e-03, -3.0738e-03,\n",
              "          1.0081e-02, -2.1721e-02,  1.4400e-03,  1.0762e-02, -6.0368e-03,\n",
              "          2.0529e-02,  1.6012e-02,  6.6648e-03,  1.5332e-02,  1.3811e-02,\n",
              "          1.1667e-02, -2.0807e-02,  1.3342e-02, -1.8565e-02,  2.0221e-02,\n",
              "          1.0899e-02, -1.6357e-02,  1.7761e-02, -1.0342e-02, -1.8077e-02,\n",
              "         -2.1383e-03,  8.3220e-03,  1.2214e-03,  8.9212e-03, -6.7518e-03,\n",
              "          1.1869e-02,  9.1007e-03, -2.1317e-02,  2.2782e-04, -1.4248e-02,\n",
              "          1.1378e-02, -6.7544e-03, -6.5133e-03,  6.4344e-03, -1.2923e-02,\n",
              "         -1.4045e-02,  7.4600e-03,  3.2731e-03,  4.6198e-03, -1.6327e-02,\n",
              "          1.7988e-02, -4.6921e-03,  1.0167e-02,  9.3476e-03, -1.2182e-02,\n",
              "          1.3184e-02,  1.0791e-02,  1.6493e-02, -1.5915e-02, -1.0781e-02,\n",
              "          1.6630e-02, -1.1114e-02, -1.2447e-02, -3.4489e-03, -2.0106e-02,\n",
              "          3.6007e-04,  8.4426e-03, -1.7497e-02, -1.3200e-02,  1.6744e-02,\n",
              "          1.7504e-02, -8.2774e-03, -1.8639e-04,  1.3655e-02, -7.3488e-03,\n",
              "          1.4530e-02, -2.1881e-03, -2.1003e-02, -2.8088e-03,  2.0141e-02,\n",
              "         -1.3204e-02,  1.9583e-02, -1.0839e-02, -1.7061e-02,  3.3882e-03,\n",
              "          1.6562e-04, -5.2490e-03, -2.7798e-04, -4.6528e-03,  6.6709e-03,\n",
              "         -1.4520e-02, -1.2762e-02,  3.4191e-03, -3.4939e-03, -5.5690e-03,\n",
              "         -6.8590e-04, -1.6823e-02, -5.4875e-04, -1.9150e-02,  5.4591e-03,\n",
              "          1.5934e-02,  4.9115e-03,  6.4879e-03,  2.1085e-02,  1.4014e-02,\n",
              "          9.2586e-03, -1.9505e-02, -2.0329e-02,  1.1191e-02, -1.1508e-02,\n",
              "         -3.8554e-03,  6.1122e-03,  1.3932e-02, -7.5741e-03, -1.4952e-02,\n",
              "         -1.6166e-02,  1.9270e-02,  1.9694e-02, -6.6325e-03, -2.0536e-02,\n",
              "         -1.5459e-02, -1.6316e-02, -1.0750e-02,  3.5605e-03,  1.8129e-02,\n",
              "         -1.6551e-02,  2.1938e-02, -1.1617e-02, -1.2292e-02, -9.2583e-03,\n",
              "         -7.3008e-03,  7.0517e-03, -4.4145e-03,  1.2953e-03, -1.8023e-02,\n",
              "          2.6747e-03,  4.7712e-03, -8.7421e-03, -9.3190e-03, -1.4384e-02,\n",
              "          1.1835e-03,  7.1346e-03,  2.1771e-02,  2.1165e-02, -8.2390e-03,\n",
              "          5.1162e-03, -1.1449e-02, -2.5470e-03, -6.7574e-03,  1.7690e-02,\n",
              "          1.7013e-02,  1.0568e-02,  2.5207e-03,  4.7133e-03, -1.9734e-02,\n",
              "          1.1768e-02, -1.1222e-02, -2.6483e-03,  8.0259e-04, -1.0800e-02,\n",
              "          1.6109e-02,  2.1070e-02,  1.3437e-02,  7.3259e-03, -2.1075e-02,\n",
              "          1.6508e-02, -1.3195e-02, -1.4143e-02, -1.9671e-02, -1.8428e-03,\n",
              "         -2.6189e-04,  2.1557e-02,  1.4472e-02,  1.1550e-02, -4.7887e-03,\n",
              "          8.5750e-03,  8.4712e-03,  1.5732e-02,  7.4786e-03, -4.9212e-03,\n",
              "          1.0646e-02, -1.8803e-02,  1.3933e-02, -7.8775e-04,  3.9337e-03,\n",
              "          2.8643e-03, -3.9599e-03,  1.5612e-02, -1.5582e-02,  1.0432e-02,\n",
              "         -1.2169e-02,  3.6911e-03, -4.9389e-03, -1.2730e-02,  1.1819e-02,\n",
              "          1.2877e-02, -6.5625e-03, -6.6360e-03, -7.5204e-03,  1.9768e-02,\n",
              "          1.8920e-02, -1.1078e-02,  1.7124e-04, -7.6715e-03, -1.1840e-02,\n",
              "          2.1901e-03,  5.9793e-03, -5.9193e-03,  6.0974e-03,  1.4897e-02,\n",
              "         -1.8492e-02, -2.0619e-02, -1.1498e-02, -2.1650e-02, -1.5283e-02,\n",
              "         -8.0405e-03, -2.8488e-03, -1.2748e-02, -8.5599e-03,  5.8955e-03,\n",
              "         -2.1582e-02,  1.7859e-02,  9.0139e-04, -1.2993e-02, -1.9469e-02,\n",
              "          1.2824e-02, -2.1298e-02,  9.2845e-03, -9.4569e-04,  1.6407e-02,\n",
              "         -1.1525e-02,  2.0314e-02,  1.4018e-02,  1.3651e-02, -8.0274e-03,\n",
              "         -1.5155e-02, -3.7983e-03, -1.4465e-02, -2.7384e-03, -3.3221e-03,\n",
              "          1.0336e-02,  1.6301e-02,  2.0151e-02, -9.1029e-03,  1.9597e-02,\n",
              "          9.0418e-03,  2.1899e-02, -2.1719e-02,  1.7502e-02, -8.1328e-03,\n",
              "          6.4244e-03, -1.8302e-02, -4.4521e-03, -6.5614e-04,  1.9848e-03,\n",
              "         -1.5393e-02,  1.9002e-02, -8.9049e-03,  4.2432e-03,  1.4227e-02,\n",
              "          5.5740e-03,  1.8803e-02, -1.0652e-02,  7.2709e-03,  6.7600e-03,\n",
              "         -7.5389e-04,  1.8352e-02,  1.3347e-02, -1.4814e-02,  1.0906e-02,\n",
              "          1.9286e-02,  3.9937e-03,  1.9715e-02,  1.3907e-02,  8.0279e-03,\n",
              "         -2.1996e-03,  2.0819e-02,  1.0207e-02, -5.0133e-03,  1.1758e-02,\n",
              "          1.3386e-02,  1.5770e-02,  2.0463e-02,  9.4718e-03, -1.7679e-02,\n",
              "         -4.7134e-03, -1.9050e-02,  1.6582e-02, -2.0440e-02,  1.8378e-02,\n",
              "         -3.1988e-03,  1.9070e-02, -1.0087e-02, -6.8297e-03, -1.2038e-02,\n",
              "          1.3716e-02,  3.4659e-03,  5.5478e-03, -1.2603e-02,  3.1127e-03,\n",
              "         -2.0522e-02,  9.8455e-03, -5.0476e-03, -1.0165e-02,  1.2573e-02,\n",
              "          1.7181e-02, -1.6542e-02,  6.1343e-03, -1.6797e-02,  8.2664e-04,\n",
              "          1.8016e-02, -1.9397e-02, -1.0959e-02,  2.1605e-02, -6.4909e-03,\n",
              "          1.2703e-02, -1.5776e-02,  5.5812e-03,  2.6602e-03,  4.0724e-03,\n",
              "          7.8979e-03,  1.0048e-03,  1.9516e-03, -5.2951e-03,  2.4100e-05,\n",
              "          2.4255e-03,  1.7972e-02,  1.9743e-02, -4.3279e-03,  9.5648e-04,\n",
              "         -2.6336e-03, -6.4951e-03, -1.7311e-02, -1.9933e-02,  1.4735e-02,\n",
              "          1.1473e-02, -2.1916e-02,  7.7716e-03, -1.7584e-02,  1.8101e-03,\n",
              "         -1.9513e-02, -2.1090e-02, -1.4014e-02, -1.1409e-02, -1.7945e-02,\n",
              "         -8.0098e-03,  7.8361e-03,  9.6683e-03, -6.5297e-03, -1.1300e-02,\n",
              "         -1.2145e-02, -1.6155e-02, -1.7670e-03, -2.0481e-02,  4.5133e-03,\n",
              "         -1.2545e-02, -6.1302e-03,  1.0135e-02,  1.0720e-02, -1.0334e-02,\n",
              "         -1.0225e-02,  3.5986e-03, -1.6557e-02, -3.5886e-03,  2.0544e-02,\n",
              "          2.0498e-02, -6.5454e-03, -1.0824e-02,  1.4684e-02, -1.6849e-02,\n",
              "         -1.0419e-02, -1.9244e-02, -5.3764e-03, -4.3704e-03, -2.0973e-03,\n",
              "         -1.3900e-02, -1.7307e-02,  2.0968e-03, -1.9031e-02, -1.9826e-02,\n",
              "          1.2303e-02, -1.5650e-03, -1.1737e-03, -1.5328e-02, -1.5609e-02,\n",
              "          7.8552e-03, -9.5379e-03,  9.5354e-03, -1.2037e-02, -3.8813e-03,\n",
              "          1.0311e-02,  3.6508e-03, -1.2903e-02,  1.7316e-02, -9.9787e-03,\n",
              "         -1.6841e-03, -1.2368e-02,  1.5047e-02,  7.0172e-03, -4.3290e-03,\n",
              "          1.7480e-02, -6.4027e-04, -6.7315e-03,  8.4772e-04,  5.4318e-03,\n",
              "          1.6307e-02,  1.7198e-02,  1.8184e-02, -1.1696e-02, -4.3606e-03,\n",
              "          1.9466e-02,  1.8725e-02, -1.0784e-02,  1.6535e-02, -1.5117e-02],\n",
              "        requires_grad=True)]"
            ]
          },
          "metadata": {},
          "execution_count": 11
        }
      ]
    },
    {
      "cell_type": "code",
      "source": [
        "all_pretrained = {}\n",
        "\n",
        "for epoch in tqdm(range(num_ep)):  \n",
        "    resnet50.train()\n",
        "    for i, data in enumerate(train_loader, 0):\n",
        "        inputs, labels = data[0], data[1]\n",
        "        optimizer.zero_grad()\n",
        "\n",
        "        outputs = resnet50(inputs)\n",
        "        loss = criterion(outputs, labels)\n",
        "        loss.backward()\n",
        "        optimizer.step()\n",
        "        \n",
        "    resnet50.eval()\n",
        "    loss_accumed = 0\n",
        "    for X, y in valid_loader:\n",
        "        output = resnet50(X)\n",
        "        loss = criterion(output, y)\n",
        "        loss_accumed += loss\n",
        "    print(\"Epoch {} valid_loss {}\".format(epoch, loss_accumed))\n",
        "    all_pretrained[epoch] = loss_accumed\n",
        "\n",
        "print('Training is finished!')"
      ],
      "metadata": {
        "id": "ocFuV-Vc5wXJ",
        "colab": {
          "base_uri": "https://localhost:8080/"
        },
        "outputId": "145f5c7b-c1dd-4aaa-d04b-4bf42cf206ff"
      },
      "execution_count": 12,
      "outputs": [
        {
          "output_type": "stream",
          "name": "stderr",
          "text": [
            "  8%|▊         | 1/12 [04:57<54:31, 297.38s/it]"
          ]
        },
        {
          "output_type": "stream",
          "name": "stdout",
          "text": [
            "Epoch 0 valid_loss 74.91597747802734\n"
          ]
        },
        {
          "output_type": "stream",
          "name": "stderr",
          "text": [
            "\r 17%|█▋        | 2/12 [09:59<50:00, 300.01s/it]"
          ]
        },
        {
          "output_type": "stream",
          "name": "stdout",
          "text": [
            "Epoch 1 valid_loss 72.29035949707031\n"
          ]
        },
        {
          "output_type": "stream",
          "name": "stderr",
          "text": [
            "\r 25%|██▌       | 3/12 [15:04<45:22, 302.49s/it]"
          ]
        },
        {
          "output_type": "stream",
          "name": "stdout",
          "text": [
            "Epoch 2 valid_loss 71.57561492919922\n"
          ]
        },
        {
          "output_type": "stream",
          "name": "stderr",
          "text": [
            "\r 33%|███▎      | 4/12 [20:16<40:48, 306.07s/it]"
          ]
        },
        {
          "output_type": "stream",
          "name": "stdout",
          "text": [
            "Epoch 3 valid_loss 72.31021881103516\n"
          ]
        },
        {
          "output_type": "stream",
          "name": "stderr",
          "text": [
            "\r 42%|████▏     | 5/12 [25:20<35:37, 305.36s/it]"
          ]
        },
        {
          "output_type": "stream",
          "name": "stdout",
          "text": [
            "Epoch 4 valid_loss 72.3897476196289\n"
          ]
        },
        {
          "output_type": "stream",
          "name": "stderr",
          "text": [
            "\r 50%|█████     | 6/12 [30:22<30:25, 304.28s/it]"
          ]
        },
        {
          "output_type": "stream",
          "name": "stdout",
          "text": [
            "Epoch 5 valid_loss 72.30049896240234\n"
          ]
        },
        {
          "output_type": "stream",
          "name": "stderr",
          "text": [
            "\r 58%|█████▊    | 7/12 [35:19<25:08, 301.77s/it]"
          ]
        },
        {
          "output_type": "stream",
          "name": "stdout",
          "text": [
            "Epoch 6 valid_loss 69.35945892333984\n"
          ]
        },
        {
          "output_type": "stream",
          "name": "stderr",
          "text": [
            "\r 67%|██████▋   | 8/12 [40:21<20:08, 302.01s/it]"
          ]
        },
        {
          "output_type": "stream",
          "name": "stdout",
          "text": [
            "Epoch 7 valid_loss 73.20992279052734\n"
          ]
        },
        {
          "output_type": "stream",
          "name": "stderr",
          "text": [
            "\r 75%|███████▌  | 9/12 [45:23<15:05, 301.84s/it]"
          ]
        },
        {
          "output_type": "stream",
          "name": "stdout",
          "text": [
            "Epoch 8 valid_loss 71.05926513671875\n"
          ]
        },
        {
          "output_type": "stream",
          "name": "stderr",
          "text": [
            "\r 83%|████████▎ | 10/12 [50:24<10:03, 301.62s/it]"
          ]
        },
        {
          "output_type": "stream",
          "name": "stdout",
          "text": [
            "Epoch 9 valid_loss 70.12828826904297\n"
          ]
        },
        {
          "output_type": "stream",
          "name": "stderr",
          "text": [
            "\r 92%|█████████▏| 11/12 [55:25<05:01, 301.56s/it]"
          ]
        },
        {
          "output_type": "stream",
          "name": "stdout",
          "text": [
            "Epoch 10 valid_loss 70.57279205322266\n"
          ]
        },
        {
          "output_type": "stream",
          "name": "stderr",
          "text": [
            "100%|██████████| 12/12 [1:00:27<00:00, 302.28s/it]"
          ]
        },
        {
          "output_type": "stream",
          "name": "stdout",
          "text": [
            "Epoch 11 valid_loss 71.41283416748047\n",
            "Training is finished!\n"
          ]
        },
        {
          "output_type": "stream",
          "name": "stderr",
          "text": [
            "\n"
          ]
        }
      ]
    },
    {
      "cell_type": "code",
      "source": [
        "import matplotlib.pyplot as plt"
      ],
      "metadata": {
        "id": "AEAYR0_L4YcY"
      },
      "execution_count": 13,
      "outputs": []
    },
    {
      "cell_type": "code",
      "source": [
        "print([i for i in all_manual.keys()])\n",
        "print([i.tolist() for i in all_manual.values()])"
      ],
      "metadata": {
        "id": "aZcZARgf4brM",
        "colab": {
          "base_uri": "https://localhost:8080/"
        },
        "outputId": "9cf1dc61-ef58-4aff-f8f6-89131e4c77c3"
      },
      "execution_count": 14,
      "outputs": [
        {
          "output_type": "stream",
          "name": "stdout",
          "text": [
            "[0, 1, 2, 3, 4, 5, 6, 7, 8, 9, 10, 11]\n",
            "[80.08786010742188, 76.87605285644531, 76.63804626464844, 77.3251724243164, 74.95658874511719, 72.50885009765625, 79.11381530761719, 71.67729187011719, 68.48345947265625, 68.37760162353516, 69.35382843017578, 70.38447570800781]\n"
          ]
        }
      ]
    },
    {
      "cell_type": "code",
      "source": [
        "fig = plt.figure(figsize=(12,8))\n",
        "plt.plot([i for i in all_manual.keys()], [i.tolist() for i in all_manual.values()], label='Самописная CNN')\n",
        "plt.plot([i for i in all_pretrained.keys()], [i.tolist() for i in all_pretrained.values()], label='Resnet50')\n",
        "plt.title('Validation loss')\n",
        "plt.xlabel('Эпоха обучения')\n",
        "plt.ylabel('valid_loss')\n",
        "plt.legend()\n",
        "plt.show()"
      ],
      "metadata": {
        "id": "g-wJWZde8dW3",
        "colab": {
          "base_uri": "https://localhost:8080/",
          "height": 513
        },
        "outputId": "b2c95c4e-90db-4b78-82d0-5126e612ad1b"
      },
      "execution_count": 15,
      "outputs": [
        {
          "output_type": "display_data",
          "data": {
            "text/plain": [
              "<Figure size 864x576 with 1 Axes>"
            ],
            "image/png": "[encoded data removed]"
          },
          "metadata": {
            "needs_background": "light"
          }
        }
      ]
    }
  ]
}