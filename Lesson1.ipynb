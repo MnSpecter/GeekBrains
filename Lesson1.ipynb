{
 "cells": [
  {
   "cell_type": "markdown",
   "id": "637d24e6",
   "metadata": {},
   "source": [
    "### Задание\n",
    "1. Посмотреть документацию к API GitHub, разобраться как вывести список репозиториев для конкретного пользователя, сохранить JSON-вывод в файле *.json.\n",
    "2. Изучить список открытых API. Найти среди них любое, требующее авторизацию (любого типа). Выполнить запросы к нему, пройдя авторизацию. Ответ сервера записать в файл."
   ]
  },
  {
   "cell_type": "code",
   "execution_count": 36,
   "id": "7c43adb6",
   "metadata": {},
   "outputs": [],
   "source": [
    "import requests\n",
    "import json"
   ]
  },
  {
   "cell_type": "markdown",
   "id": "c1bde4a4",
   "metadata": {},
   "source": [
    "#### 1"
   ]
  },
  {
   "cell_type": "code",
   "execution_count": 37,
   "id": "7bd6e5ef",
   "metadata": {},
   "outputs": [],
   "source": [
    "url = 'https://api.github.com'\n",
    "user='MnSpecter'"
   ]
  },
  {
   "cell_type": "code",
   "execution_count": 38,
   "id": "ee7d8110",
   "metadata": {},
   "outputs": [],
   "source": [
    "DATA_PATH = 'data1.json'"
   ]
  },
  {
   "cell_type": "code",
   "execution_count": 39,
   "id": "13c1206b",
   "metadata": {},
   "outputs": [
    {
     "name": "stdout",
     "output_type": "stream",
     "text": [
      "geek-python\n",
      "GeekBrains\n",
      "repo-github\n"
     ]
    }
   ],
   "source": [
    "data = requests.get(f'{url}/users/{user}/repos')\n",
    "for i in data.json():\n",
    "    print(i['name'])"
   ]
  },
  {
   "cell_type": "code",
   "execution_count": 40,
   "id": "b7b47bbd",
   "metadata": {},
   "outputs": [],
   "source": [
    "with open(DATA_PATH, 'w') as f:\n",
    "    json.dump(data.json(), f)"
   ]
  },
  {
   "cell_type": "markdown",
   "id": "360abb3e",
   "metadata": {},
   "source": [
    "#### 2"
   ]
  },
  {
   "cell_type": "code",
   "execution_count": 41,
   "id": "0551d06b",
   "metadata": {},
   "outputs": [],
   "source": [
    "url = 'https://api.nasa.gov/planetary/apod'\n",
    "token = 'bQY31GfhOOiTWqthBfieEBLetRlhor39WOCsLi0y'"
   ]
  },
  {
   "cell_type": "code",
   "execution_count": 42,
   "id": "3b751df8",
   "metadata": {},
   "outputs": [],
   "source": [
    "DATA_PATH = 'data2.json'"
   ]
  },
  {
   "cell_type": "code",
   "execution_count": 43,
   "id": "118da28b",
   "metadata": {},
   "outputs": [],
   "source": [
    "data = requests.get(f'{url}?api_key={token}')"
   ]
  },
  {
   "cell_type": "code",
   "execution_count": 44,
   "id": "587affba",
   "metadata": {},
   "outputs": [
    {
     "data": {
      "text/plain": [
       "{'copyright': 'Jari Saukkonen',\n",
       " 'date': '2021-10-06',\n",
       " 'explanation': 'Where do the dark streams of dust in the Orion Nebula originate? This part of the Orion Molecular Cloud Complex, M43, is the often imaged but rarely mentioned neighbor of the more famous M42. M42, seen in part to the upper right, includes many bright stars from the Trapezium star cluster. M43 is itself a star forming region that displays intricately-laced streams of dark dust -- although it is really composed mostly of glowing hydrogen gas. The entire Orion field is located about 1600 light years away.  Opaque to visible light, the picturesque dark dust is created in the outer atmosphere of massive cool stars and expelled by strong outer winds of protons and electrons.',\n",
       " 'hdurl': 'https://apod.nasa.gov/apod/image/2110/OrionStreams_Saukkonen_2048.jpg',\n",
       " 'media_type': 'image',\n",
       " 'service_version': 'v1',\n",
       " 'title': 'M43: Streams of Orion',\n",
       " 'url': 'https://apod.nasa.gov/apod/image/2110/OrionStreams_Saukkonen_960.jpg'}"
      ]
     },
     "execution_count": 44,
     "metadata": {},
     "output_type": "execute_result"
    }
   ],
   "source": [
    "data.json()"
   ]
  },
  {
   "cell_type": "code",
   "execution_count": 45,
   "id": "41bc69ff",
   "metadata": {},
   "outputs": [],
   "source": [
    "with open(DATA_PATH, 'w') as f:\n",
    "    json.dump(data.json(), f)"
   ]
  }
 ],
 "metadata": {
  "kernelspec": {
   "display_name": "Python 3",
   "language": "python",
   "name": "python3"
  },
  "language_info": {
   "codemirror_mode": {
    "name": "ipython",
    "version": 3
   },
   "file_extension": ".py",
   "mimetype": "text/x-python",
   "name": "python",
   "nbconvert_exporter": "python",
   "pygments_lexer": "ipython3",
   "version": "3.8.8"
  }
 },
 "nbformat": 4,
 "nbformat_minor": 5
}
