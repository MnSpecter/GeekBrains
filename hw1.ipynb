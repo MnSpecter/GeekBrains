{
 "cells": [
  {
   "cell_type": "code",
   "execution_count": 36,
   "metadata": {},
   "outputs": [],
   "source": [
    "import torch\n",
    "from torch import nn "
   ]
  },
  {
   "cell_type": "code",
   "execution_count": 37,
   "metadata": {},
   "outputs": [
    {
     "data": {
      "text/plain": [
       "tensor([[[ 1.4013e-45,  0.0000e+00, -1.4123e-31,  5.6753e-43, -2.0146e-36],\n",
       "         [ 5.6753e-43,  0.0000e+00,  0.0000e+00, -1.4469e-31,  0.0000e+00],\n",
       "         [-1.3346e-33,  5.6753e-43, -4.2560e-30,  5.6753e-43,  0.0000e+00],\n",
       "         [ 0.0000e+00,  0.0000e+00,  0.0000e+00,  0.0000e+00,  0.0000e+00]],\n",
       "\n",
       "        [[ 0.0000e+00,  0.0000e+00,  0.0000e+00,  0.0000e+00,  0.0000e+00],\n",
       "         [ 0.0000e+00,  1.4013e-45,  0.0000e+00,  0.0000e+00,  0.0000e+00],\n",
       "         [ 0.0000e+00,  0.0000e+00,  0.0000e+00,  0.0000e+00,  0.0000e+00],\n",
       "         [ 0.0000e+00,  7.4269e-44,  0.0000e+00,  1.4013e-45,  0.0000e+00]],\n",
       "\n",
       "        [[ 9.1844e-41,  1.1551e-40,  2.2960e-41,  4.1478e-43,  0.0000e+00],\n",
       "         [ 0.0000e+00, -1.5273e+14, -1.3632e-41, -4.5536e-36,  4.5908e-41],\n",
       "         [ 0.0000e+00,  0.0000e+00,  1.4013e-45,  0.0000e+00, -1.4122e-31],\n",
       "         [ 5.6753e-43, -1.4374e-30,  5.6753e-43,  0.0000e+00,  0.0000e+00]]])"
      ]
     },
     "execution_count": 37,
     "metadata": {},
     "output_type": "execute_result"
    }
   ],
   "source": [
    "# Создайте случайный FloatTensor размера 3x4x5\n",
    "tensor = torch.FloatTensor(3, 4, 5)\n",
    "tensor"
   ]
  },
  {
   "cell_type": "code",
   "execution_count": 38,
   "metadata": {},
   "outputs": [],
   "source": [
    "# Выведите его форму (shape)"
   ]
  },
  {
   "cell_type": "code",
   "execution_count": 39,
   "metadata": {},
   "outputs": [
    {
     "data": {
      "text/plain": [
       "torch.Size([3, 4, 5])"
      ]
     },
     "execution_count": 39,
     "metadata": {},
     "output_type": "execute_result"
    }
   ],
   "source": [
    "tensor.shape"
   ]
  },
  {
   "cell_type": "code",
   "execution_count": 40,
   "metadata": {},
   "outputs": [
    {
     "data": {
      "text/plain": [
       "tensor([[ 1.4013e-45,  0.0000e+00, -1.4123e-31,  5.6753e-43, -2.0146e-36,\n",
       "          5.6753e-43,  0.0000e+00,  0.0000e+00, -1.4469e-31,  0.0000e+00],\n",
       "        [-1.3346e-33,  5.6753e-43, -4.2560e-30,  5.6753e-43,  0.0000e+00,\n",
       "          0.0000e+00,  0.0000e+00,  0.0000e+00,  0.0000e+00,  0.0000e+00],\n",
       "        [ 0.0000e+00,  0.0000e+00,  0.0000e+00,  0.0000e+00,  0.0000e+00,\n",
       "          0.0000e+00,  1.4013e-45,  0.0000e+00,  0.0000e+00,  0.0000e+00],\n",
       "        [ 0.0000e+00,  0.0000e+00,  0.0000e+00,  0.0000e+00,  0.0000e+00,\n",
       "          0.0000e+00,  7.4269e-44,  0.0000e+00,  1.4013e-45,  0.0000e+00],\n",
       "        [ 9.1844e-41,  1.1551e-40,  2.2960e-41,  4.1478e-43,  0.0000e+00,\n",
       "          0.0000e+00, -1.5273e+14, -1.3632e-41, -4.5536e-36,  4.5908e-41],\n",
       "        [ 0.0000e+00,  0.0000e+00,  1.4013e-45,  0.0000e+00, -1.4122e-31,\n",
       "          5.6753e-43, -1.4374e-30,  5.6753e-43,  0.0000e+00,  0.0000e+00]])"
      ]
     },
     "execution_count": 40,
     "metadata": {},
     "output_type": "execute_result"
    }
   ],
   "source": [
    "# Приведите его к форме 6 X 10\n",
    "tensor.reshape(6, 10)"
   ]
  },
  {
   "cell_type": "code",
   "execution_count": 41,
   "metadata": {},
   "outputs": [
    {
     "data": {
      "text/plain": [
       "tensor([[[ 1.4013e-45,  0.0000e+00, -2.8247e-31,  1.1351e-42, -2.0146e-36],\n",
       "         [ 5.6753e-43,  0.0000e+00,  0.0000e+00, -2.8938e-31,  0.0000e+00],\n",
       "         [-1.3346e-33,  2.2701e-42, -8.5121e-30,  1.1351e-42,  0.0000e+00],\n",
       "         [ 0.0000e+00,  0.0000e+00,  0.0000e+00,  0.0000e+00,  0.0000e+00]],\n",
       "\n",
       "        [[ 0.0000e+00,  0.0000e+00,  0.0000e+00,  0.0000e+00,  0.0000e+00],\n",
       "         [ 0.0000e+00,  5.6052e-45,  0.0000e+00,  0.0000e+00,  0.0000e+00],\n",
       "         [ 0.0000e+00,  0.0000e+00,  0.0000e+00,  0.0000e+00,  0.0000e+00],\n",
       "         [ 0.0000e+00,  2.9708e-43,  0.0000e+00,  2.8026e-45,  0.0000e+00]],\n",
       "\n",
       "        [[ 9.1844e-41,  4.6204e-40,  4.5921e-41,  8.2957e-43,  0.0000e+00],\n",
       "         [ 0.0000e+00, -6.1093e+14, -2.7264e-41, -9.1072e-36,  4.5908e-41],\n",
       "         [ 0.0000e+00,  0.0000e+00,  2.8026e-45,  0.0000e+00, -1.4122e-31],\n",
       "         [ 5.6753e-43, -5.7496e-30,  1.1351e-42,  0.0000e+00,  0.0000e+00]]])"
      ]
     },
     "execution_count": 41,
     "metadata": {},
     "output_type": "execute_result"
    }
   ],
   "source": [
    "# Умножьте его на вектор [1, 4, 2, 2, 1] поэлементно\n",
    "vector = torch.FloatTensor([1, 4, 2, 2, 1])\n",
    "tensor.mul(vector)"
   ]
  },
  {
   "cell_type": "code",
   "execution_count": 42,
   "metadata": {},
   "outputs": [
    {
     "data": {
      "text/plain": [
       "tensor([[ 0.0000e+00,  0.0000e+00,  0.0000e+00,  0.0000e+00,  0.0000e+00,\n",
       "          0.0000e+00],\n",
       "        [ 0.0000e+00,  0.0000e+00,  0.0000e+00,  0.0000e+00,  0.0000e+00,\n",
       "          0.0000e+00],\n",
       "        [ 0.0000e+00,  0.0000e+00,  0.0000e+00,  0.0000e+00,  0.0000e+00,\n",
       "          0.0000e+00],\n",
       "        [ 0.0000e+00,  0.0000e+00,  0.0000e+00,  0.0000e+00,  0.0000e+00,\n",
       "          0.0000e+00],\n",
       "        [-1.1343e-29,  0.0000e+00, -2.1402e-31,  0.0000e+00, -1.1946e-26,\n",
       "         -1.7642e-26],\n",
       "        [ 0.0000e+00,  0.0000e+00,  0.0000e+00,  0.0000e+00, -8.6679e-29,\n",
       "          0.0000e+00]])"
      ]
     },
     "metadata": {},
     "output_type": "display_data"
    },
    {
     "data": {
      "text/plain": [
       "torch.Size([6, 6])"
      ]
     },
     "execution_count": 42,
     "metadata": {},
     "output_type": "execute_result"
    }
   ],
   "source": [
    "# Умножьте тензор матрично на себя, чтобы результат был размерности 6x6\n",
    "a = torch.matmul(tensor.reshape(6,10), tensor.reshape(10,6))\n",
    "display(a)\n",
    "a.shape"
   ]
  },
  {
   "cell_type": "code",
   "execution_count": 43,
   "metadata": {},
   "outputs": [
    {
     "name": "stdout",
     "output_type": "stream",
     "text": [
      "Производная в точке 1.0:  tensor(3.)\n",
      "Производная в точке 0.5:  tensor(1.5000)\n",
      "Производная в точке 2.0:  tensor(-262.5000)\n"
     ]
    }
   ],
   "source": [
    "# Посчитайте производную функции y = x**3 + z - 75t в точке (1, 0.5, 2)\n",
    "x = torch.tensor(1., requires_grad=True)\n",
    "z = torch.tensor(0.5, requires_grad=True)\n",
    "t = torch.tensor(2., requires_grad=True)\n",
    "\n",
    "def define_func(x=x,z=z,t=t):\n",
    "    return x**3 + z - 75*t\n",
    "\n",
    "for i in [x,z,t]:\n",
    "    y = define_func()\n",
    "    y.backward(i)\n",
    "    print(f\"Производная в точке {i}: \", i.grad)"
   ]
  },
  {
   "cell_type": "code",
   "execution_count": 44,
   "metadata": {},
   "outputs": [
    {
     "data": {
      "text/plain": [
       "tensor([[1., 1., 1., 1., 1., 1.],\n",
       "        [1., 1., 1., 1., 1., 1.],\n",
       "        [1., 1., 1., 1., 1., 1.],\n",
       "        [1., 1., 1., 1., 1., 1.],\n",
       "        [1., 1., 1., 1., 1., 1.]])"
      ]
     },
     "execution_count": 44,
     "metadata": {},
     "output_type": "execute_result"
    }
   ],
   "source": [
    "# Создайте единичный тензор размера 5x6\n",
    "tensor1 = torch.ones(5, 6)\n",
    "tensor1"
   ]
  },
  {
   "cell_type": "code",
   "execution_count": 45,
   "metadata": {},
   "outputs": [
    {
     "data": {
      "text/plain": [
       "array([[1., 1., 1., 1., 1., 1.],\n",
       "       [1., 1., 1., 1., 1., 1.],\n",
       "       [1., 1., 1., 1., 1., 1.],\n",
       "       [1., 1., 1., 1., 1., 1.],\n",
       "       [1., 1., 1., 1., 1., 1.]], dtype=float32)"
      ]
     },
     "execution_count": 45,
     "metadata": {},
     "output_type": "execute_result"
    }
   ],
   "source": [
    "# Переведите его в формат numpy\n",
    "tensor1.numpy()"
   ]
  },
  {
   "cell_type": "code",
   "execution_count": 46,
   "metadata": {},
   "outputs": [],
   "source": [
    "# Давайте теперь пооптимизируем: возьмите функцию y = x**w1 - 2 * x**2 + 5\n",
    "# Посчитайте "
   ]
  },
  {
   "cell_type": "markdown",
   "metadata": {},
   "source": [
    "### Что посчитать-то? Почему нельзя задания по-нормальному описывать?!"
   ]
  }
 ],
 "metadata": {
  "kernelspec": {
   "display_name": "Python 3 (ipykernel)",
   "language": "python",
   "name": "python3"
  },
  "language_info": {
   "codemirror_mode": {
    "name": "ipython",
    "version": 3
   },
   "file_extension": ".py",
   "mimetype": "text/x-python",
   "name": "python",
   "nbconvert_exporter": "python",
   "pygments_lexer": "ipython3",
   "version": "3.9.13"
  }
 },
 "nbformat": 4,
 "nbformat_minor": 2
}
