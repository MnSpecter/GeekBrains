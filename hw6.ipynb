{
 "cells": [
  {
   "cell_type": "code",
   "execution_count": 80,
   "id": "2ea2da43",
   "metadata": {},
   "outputs": [],
   "source": [
    "import tensorflow as tf\n",
    "from tensorflow.keras.utils import load_img, img_to_array\n",
    "\n",
    "from tensorflow.keras.models import Model, Sequential\n",
    "from tensorflow.keras.layers import Input, Conv2DTranspose, concatenate, Activation, MaxPooling2D, Conv2D, BatchNormalization\n",
    "from tensorflow.keras import backend as K\n",
    "from tensorflow.keras.optimizers import Adam\n",
    "from tensorflow.keras import utils\n",
    "from tensorflow.keras.preprocessing import image\n",
    "from tensorflow.keras.applications import VGG16, EfficientNetB0, ResNet101, DenseNet121\n",
    "import numpy as np\n",
    "from PIL import Image\n",
    "\n",
    "import matplotlib.pyplot as plt\n",
    "import os\n",
    "from scipy import io\n",
    "from sklearn.model_selection import train_test_split\n",
    "\n",
    "def dice_coef(y_true, y_pred):\n",
    "    return (2. * tf.math.reduce_sum(y_true * y_pred) + 1.) / (tf.math.reduce_sum(y_true) + tf.math.reduce_sum(y_pred) + 1.)"
   ]
  },
  {
   "cell_type": "code",
   "execution_count": 81,
   "id": "d386788a",
   "metadata": {},
   "outputs": [
    {
     "name": "stdout",
     "output_type": "stream",
     "text": [
      "[name: \"/device:CPU:0\"\n",
      "device_type: \"CPU\"\n",
      "memory_limit: 268435456\n",
      "locality {\n",
      "}\n",
      "incarnation: 10978896781515834816\n",
      "xla_global_id: -1\n",
      ", name: \"/device:GPU:0\"\n",
      "device_type: \"GPU\"\n",
      "memory_limit: 6235881472\n",
      "locality {\n",
      "  bus_id: 1\n",
      "  links {\n",
      "  }\n",
      "}\n",
      "incarnation: 10497311318188845294\n",
      "physical_device_desc: \"device: 0, name: NVIDIA GeForce RTX 2080 SUPER, pci bus id: 0000:01:00.0, compute capability: 7.5\"\n",
      "xla_global_id: 416903419\n",
      "]\n"
     ]
    }
   ],
   "source": [
    "from tensorflow.python.client import device_lib\n",
    "print(device_lib.list_local_devices())"
   ]
  },
  {
   "cell_type": "code",
   "execution_count": 82,
   "id": "9af2d61c",
   "metadata": {},
   "outputs": [],
   "source": [
    "def display(display_list):\n",
    "    title = ['Input Image', 'True Mask', 'Predicted Mask']\n",
    "    \n",
    "    plt.figure(figsize=(15.15))\n",
    "    for i in range(len(display_list)):\n",
    "        plt.subplot(1, len(display_list), i+1)\n",
    "        plt.title(title[i])\n",
    "        plt.imshow(tf.keras.preprocessing.image.array_to_img(display_list[i]))\n",
    "        plt.axis('off')\n",
    "    plt.show()\n",
    "    \n",
    "def create_mask(pred_mask):\n",
    "    pred_mask = tf.argmax(pred_mask, axis=1)\n",
    "    pred_mask = pred_mask[..., tf.newaxis]\n",
    "    return pred_mask[0]\n",
    "\n",
    "def show_predictions(model, dataset=None, num=1):\n",
    "    if dataset:\n",
    "        for image, mask in dataset.take(num):\n",
    "            pred_mask = model.predict(image)\n",
    "            display([image[0], mask[0], create_mask(pred_mask)])\n",
    "    else:\n",
    "        dispaly([sample_image, sample_mask,\n",
    "                create_mask(model.predict(sample_image[tf.newaxis, ...]))])"
   ]
  },
  {
   "cell_type": "markdown",
   "id": "8e2c1626",
   "metadata": {},
   "source": [
    "## Загрузка датасета"
   ]
  },
  {
   "cell_type": "code",
   "execution_count": 83,
   "id": "d2466fb0",
   "metadata": {},
   "outputs": [],
   "source": [
    "DATASET_PATH = 'content/clothing-co-parsing/photos/'\n",
    "MASK_PATH = 'content/clothing-co-parsing/annotations/pixel-level/'"
   ]
  },
  {
   "cell_type": "code",
   "execution_count": 84,
   "id": "ea34b337",
   "metadata": {},
   "outputs": [],
   "source": [
    "def preprocess_image(image):\n",
    "    image = tf.cast(image, tf.float32)\n",
    "    image = image/255.0\n",
    "    image = tf.image.resize(image, (128,128))\n",
    "    return image\n",
    "\n",
    "def preprocess_mask(mask):\n",
    "    mask = tf.expand_dims(mask, axis=-1)\n",
    "    mask = tf.image.resize(mask, (128,128))\n",
    "    mask = tf.cast(mask != 0, tf.uint8)\n",
    "    return mask"
   ]
  },
  {
   "cell_type": "code",
   "execution_count": 85,
   "id": "de9b1606",
   "metadata": {},
   "outputs": [],
   "source": [
    "images = []\n",
    "masks = []\n",
    "\n",
    "for mask_filename in os.listdir(MASK_PATH):\n",
    "    image_filename = mask_filename[:-4] + '.jpg'\n",
    "    image = img_to_array(load_img(DATASET_PATH + image_filename))\n",
    "    images.append(preprocess_image(image))\n",
    "    \n",
    "    mask_file = io.loadmat(MASK_PATH + mask_filename)\n",
    "    mask = tf.convert_to_tensor(mask_file['groundtruth'])\n",
    "    masks.append(preprocess_mask(mask))"
   ]
  },
  {
   "cell_type": "code",
   "execution_count": 86,
   "id": "94180625",
   "metadata": {},
   "outputs": [],
   "source": [
    "train_X, test_X, train_Y, test_Y = train_test_split(images, masks, \\\n",
    "                                                   test_size=0.2, random_state=0)\n",
    "sample_image, sample_mask = train_X[0], train_Y[0]\n",
    "\n",
    "train_X = tf.data.Dataset.from_tensor_slices(train_X)\n",
    "test_X = tf.data.Dataset.from_tensor_slices(test_X)\n",
    "train_Y = tf.data.Dataset.from_tensor_slices(train_Y)\n",
    "test_Y = tf.data.Dataset.from_tensor_slices(test_Y)\n",
    "\n",
    "train = tf.data.Dataset.zip((train_X, train_Y))\n",
    "test = tf.data.Dataset.zip((test_X, test_Y))"
   ]
  },
  {
   "cell_type": "code",
   "execution_count": 87,
   "id": "87388d4f",
   "metadata": {},
   "outputs": [],
   "source": [
    "# Функции для аугментации\n",
    "\n",
    "# яркость\n",
    "def brightness(img, mask):\n",
    "    img = tf.image.adjust_hue(img, -0.1)\n",
    "    return img, mask\n",
    "\n",
    "# оттенок\n",
    "def hue(img, mask):\n",
    "    img = tf.image.adjust_hue(img, -0.1)\n",
    "    return img, mask\n",
    "\n",
    "# отзеркаливание по горизонтали\n",
    "def flip_horisontal(img, mask):\n",
    "    img = tf.image.flip_left_right(img)\n",
    "    mask = tf.image.flip_left_right(mask)\n",
    "    return img, mask"
   ]
  },
  {
   "cell_type": "code",
   "execution_count": 88,
   "id": "873f9bd3",
   "metadata": {},
   "outputs": [],
   "source": [
    "train = train.concatenate(train.map(brightness))\n",
    "train = train.concatenate(train.map(hue))\n",
    "train = train.concatenate(train.map(flip_horisontal))"
   ]
  },
  {
   "cell_type": "code",
   "execution_count": 89,
   "id": "add7d4d6",
   "metadata": {},
   "outputs": [
    {
     "data": {
      "text/plain": [
       "6424"
      ]
     },
     "execution_count": 89,
     "metadata": {},
     "output_type": "execute_result"
    }
   ],
   "source": [
    "len(train)"
   ]
  },
  {
   "cell_type": "code",
   "execution_count": 90,
   "id": "716f7591",
   "metadata": {},
   "outputs": [],
   "source": [
    "BATCH_SIZE = 32\n",
    "BUFFER_SIZE = 500\n",
    "train = train.cache().shuffle(BUFFER_SIZE).batch(BATCH_SIZE)\n",
    "train = train.prefetch(buffer_size=BUFFER_SIZE)\n",
    "test = test.batch(BATCH_SIZE)"
   ]
  },
  {
   "cell_type": "code",
   "execution_count": 99,
   "id": "4db67a23",
   "metadata": {},
   "outputs": [],
   "source": [
    "def bloc_transpose(x,block_out, numb_filter = [128,128]):\n",
    "    x = concatenate([x, block_out])\n",
    "    x = Conv2D(numb_filter[0], (3, 3), padding='same')(x)\n",
    "    x = BatchNormalization()(x)\n",
    "    x = Activation('relu')(x)\n",
    "    \n",
    "    x = Conv2D(numb_filter[0], (3, 3), padding='same')(x)\n",
    "    x = BatchNormalization()(x)\n",
    "    x = Activation('relu')(x)\n",
    "    \n",
    "    # UP\n",
    "    x = Conv2DTranspose(numb_filter[1], (2, 2), strides=(2, 2), padding='same')(x)\n",
    "    x = BatchNormalization()(x)\n",
    "    x = Activation('relu')(x)\n",
    "\n",
    "    return x"
   ]
  },
  {
   "cell_type": "code",
   "execution_count": 103,
   "id": "00631531",
   "metadata": {},
   "outputs": [],
   "source": [
    "pre_trained_model = VGG16(input_shape=(128, 128, 3), include_top=False, weights=\"imagenet\")\n",
    "\n",
    "def unet_pre_train(num_classes = 1, input_shape= (128, 128, 3), pre_trained_model = None, pretrain_out = 1,list_bloc = [10,6,3]):\n",
    "    if pre_trained_model != None:\n",
    "        for layer in pre_trained_model.layers[:len(pre_trained_model.layers)]:\n",
    "            layer.trainable = False\n",
    "        x = pre_trained_model.layers[pretrain_out].output # конец сверток\n",
    "        block_out = [pre_trained_model.layers[i].output for i in list_bloc]\n",
    "     \n",
    "        img_input = pre_trained_model.inputs\n",
    "        print(block_out[0])\n",
    "        # первое уменьшение размера\n",
    "    else:\n",
    "        return None  \n",
    "    # UP 1\n",
    "\n",
    "\n",
    "    x = Conv2D(64, (3, 3), padding='same')(x)\n",
    "    x = BatchNormalization()(x)\n",
    "    x = Activation('relu')(x)\n",
    "\n",
    "    x = Conv2D(num_classes, (3, 3), activation='softmax', padding='same')(x)\n",
    "\n",
    "    model = Model(img_input, x)\n",
    "    model.compile(optimizer=Adam(),\n",
    "                  loss='categorical_crossentropy',\n",
    "                  metrics=[dice_coef])\n",
    "    model.summary()\n",
    "    return model"
   ]
  },
  {
   "cell_type": "code",
   "execution_count": 104,
   "id": "fdcfa5b4",
   "metadata": {},
   "outputs": [
    {
     "name": "stdout",
     "output_type": "stream",
     "text": [
      "KerasTensor(type_spec=TensorSpec(shape=(None, 16, 16, 256), dtype=tf.float32, name=None), name='block3_pool/MaxPool:0', description=\"created by layer 'block3_pool'\")\n",
      "Model: \"model_3\"\n",
      "_________________________________________________________________\n",
      " Layer (type)                Output Shape              Param #   \n",
      "=================================================================\n",
      " input_17 (InputLayer)       [(None, 128, 128, 3)]     0         \n",
      "                                                                 \n",
      " block1_conv1 (Conv2D)       (None, 128, 128, 64)      1792      \n",
      "                                                                 \n",
      " conv2d_25 (Conv2D)          (None, 128, 128, 64)      36928     \n",
      "                                                                 \n",
      " batch_normalization_57 (Bat  (None, 128, 128, 64)     256       \n",
      " chNormalization)                                                \n",
      "                                                                 \n",
      " activation_57 (Activation)  (None, 128, 128, 64)      0         \n",
      "                                                                 \n",
      " conv2d_26 (Conv2D)          (None, 128, 128, 1)       577       \n",
      "                                                                 \n",
      "=================================================================\n",
      "Total params: 39,553\n",
      "Trainable params: 37,633\n",
      "Non-trainable params: 1,920\n",
      "_________________________________________________________________\n"
     ]
    }
   ],
   "source": [
    "modelU = unet_pre_train(num_classes = 1, input_shape= (128, 128, 3), pre_trained_model = pre_trained_model)"
   ]
  },
  {
   "cell_type": "code",
   "execution_count": 108,
   "id": "0a73d286",
   "metadata": {},
   "outputs": [
    {
     "name": "stdout",
     "output_type": "stream",
     "text": [
      "Epoch 1/30\n",
      "201/201 [==============================] - 5s 26ms/step - loss: 0.0000e+00 - dice_coef: 0.3794 - val_loss: 0.0000e+00 - val_dice_coef: 0.3789\n",
      "Epoch 2/30\n",
      "201/201 [==============================] - 5s 25ms/step - loss: 0.0000e+00 - dice_coef: 0.3794 - val_loss: 0.0000e+00 - val_dice_coef: 0.3789\n",
      "Epoch 3/30\n",
      "201/201 [==============================] - 5s 26ms/step - loss: 0.0000e+00 - dice_coef: 0.3794 - val_loss: 0.0000e+00 - val_dice_coef: 0.3789\n",
      "Epoch 4/30\n",
      "201/201 [==============================] - 5s 25ms/step - loss: 0.0000e+00 - dice_coef: 0.3794 - val_loss: 0.0000e+00 - val_dice_coef: 0.3789\n",
      "Epoch 5/30\n",
      "201/201 [==============================] - 5s 26ms/step - loss: 0.0000e+00 - dice_coef: 0.3794 - val_loss: 0.0000e+00 - val_dice_coef: 0.3789\n",
      "Epoch 6/30\n",
      "201/201 [==============================] - 5s 26ms/step - loss: 0.0000e+00 - dice_coef: 0.3794 - val_loss: 0.0000e+00 - val_dice_coef: 0.3789\n",
      "Epoch 7/30\n",
      "201/201 [==============================] - 5s 26ms/step - loss: 0.0000e+00 - dice_coef: 0.3794 - val_loss: 0.0000e+00 - val_dice_coef: 0.3789\n",
      "Epoch 8/30\n",
      "201/201 [==============================] - 5s 26ms/step - loss: 0.0000e+00 - dice_coef: 0.3794 - val_loss: 0.0000e+00 - val_dice_coef: 0.3789\n",
      "Epoch 9/30\n",
      "201/201 [==============================] - 5s 26ms/step - loss: 0.0000e+00 - dice_coef: 0.3794 - val_loss: 0.0000e+00 - val_dice_coef: 0.3789\n",
      "Epoch 10/30\n",
      "201/201 [==============================] - 5s 26ms/step - loss: 0.0000e+00 - dice_coef: 0.3794 - val_loss: 0.0000e+00 - val_dice_coef: 0.3789\n",
      "Epoch 11/30\n",
      "201/201 [==============================] - 5s 26ms/step - loss: 0.0000e+00 - dice_coef: 0.3794 - val_loss: 0.0000e+00 - val_dice_coef: 0.3789\n",
      "Epoch 12/30\n",
      "201/201 [==============================] - 5s 26ms/step - loss: 0.0000e+00 - dice_coef: 0.3794 - val_loss: 0.0000e+00 - val_dice_coef: 0.3789\n",
      "Epoch 13/30\n",
      "201/201 [==============================] - 5s 26ms/step - loss: 0.0000e+00 - dice_coef: 0.3794 - val_loss: 0.0000e+00 - val_dice_coef: 0.3789\n",
      "Epoch 14/30\n",
      "201/201 [==============================] - 5s 26ms/step - loss: 0.0000e+00 - dice_coef: 0.3794 - val_loss: 0.0000e+00 - val_dice_coef: 0.3789\n",
      "Epoch 15/30\n",
      "201/201 [==============================] - 5s 26ms/step - loss: 0.0000e+00 - dice_coef: 0.3794 - val_loss: 0.0000e+00 - val_dice_coef: 0.3789\n",
      "Epoch 16/30\n",
      "201/201 [==============================] - 5s 26ms/step - loss: 0.0000e+00 - dice_coef: 0.3794 - val_loss: 0.0000e+00 - val_dice_coef: 0.3789\n",
      "Epoch 17/30\n",
      "201/201 [==============================] - 5s 26ms/step - loss: 0.0000e+00 - dice_coef: 0.3794 - val_loss: 0.0000e+00 - val_dice_coef: 0.3789\n",
      "Epoch 18/30\n",
      "201/201 [==============================] - 5s 26ms/step - loss: 0.0000e+00 - dice_coef: 0.3794 - val_loss: 0.0000e+00 - val_dice_coef: 0.3789\n",
      "Epoch 19/30\n",
      "201/201 [==============================] - 5s 26ms/step - loss: 0.0000e+00 - dice_coef: 0.3794 - val_loss: 0.0000e+00 - val_dice_coef: 0.3789\n",
      "Epoch 20/30\n",
      "201/201 [==============================] - 5s 26ms/step - loss: 0.0000e+00 - dice_coef: 0.3794 - val_loss: 0.0000e+00 - val_dice_coef: 0.3789\n",
      "Epoch 21/30\n",
      "201/201 [==============================] - 5s 26ms/step - loss: 0.0000e+00 - dice_coef: 0.3794 - val_loss: 0.0000e+00 - val_dice_coef: 0.3789\n",
      "Epoch 22/30\n",
      "201/201 [==============================] - 5s 26ms/step - loss: 0.0000e+00 - dice_coef: 0.3794 - val_loss: 0.0000e+00 - val_dice_coef: 0.3789\n",
      "Epoch 23/30\n",
      "201/201 [==============================] - 5s 26ms/step - loss: 0.0000e+00 - dice_coef: 0.3794 - val_loss: 0.0000e+00 - val_dice_coef: 0.3789\n",
      "Epoch 24/30\n",
      "201/201 [==============================] - 5s 26ms/step - loss: 0.0000e+00 - dice_coef: 0.3794 - val_loss: 0.0000e+00 - val_dice_coef: 0.3789\n",
      "Epoch 25/30\n",
      "201/201 [==============================] - 5s 26ms/step - loss: 0.0000e+00 - dice_coef: 0.3794 - val_loss: 0.0000e+00 - val_dice_coef: 0.3789\n",
      "Epoch 26/30\n",
      "201/201 [==============================] - 5s 26ms/step - loss: 0.0000e+00 - dice_coef: 0.3794 - val_loss: 0.0000e+00 - val_dice_coef: 0.3789\n",
      "Epoch 27/30\n",
      "201/201 [==============================] - 5s 26ms/step - loss: 0.0000e+00 - dice_coef: 0.3794 - val_loss: 0.0000e+00 - val_dice_coef: 0.3789\n",
      "Epoch 28/30\n",
      "201/201 [==============================] - 5s 26ms/step - loss: 0.0000e+00 - dice_coef: 0.3794 - val_loss: 0.0000e+00 - val_dice_coef: 0.3789\n",
      "Epoch 29/30\n",
      "201/201 [==============================] - 5s 26ms/step - loss: 0.0000e+00 - dice_coef: 0.3794 - val_loss: 0.0000e+00 - val_dice_coef: 0.3789\n",
      "Epoch 30/30\n",
      "201/201 [==============================] - 5s 26ms/step - loss: 0.0000e+00 - dice_coef: 0.3794 - val_loss: 0.0000e+00 - val_dice_coef: 0.3789\n"
     ]
    }
   ],
   "source": [
    "history = modelU.fit(train, epochs = 30, batch_size = 3, validation_data = test)"
   ]
  },
  {
   "cell_type": "code",
   "execution_count": 109,
   "id": "4b04fe54",
   "metadata": {},
   "outputs": [
    {
     "data": {
      "image/png": "[encoded data removed]",
      "text/plain": [
       "<Figure size 640x480 with 1 Axes>"
      ]
     },
     "metadata": {},
     "output_type": "display_data"
    }
   ],
   "source": [
    "plt.plot(history.history['val_dice_coef'],label = 'test')\n",
    "plt.plot(history.history['dice_coef'],label='train')\n",
    "plt.legend()\n",
    "plt.xlabel('epoch')\n",
    "plt.ylabel('dice_coef')\n",
    "plt.grid()\n",
    "plt.show()"
   ]
  },
  {
   "cell_type": "code",
   "execution_count": 110,
   "id": "dfdaae0e",
   "metadata": {},
   "outputs": [
    {
     "name": "stdout",
     "output_type": "stream",
     "text": [
      "7/7 [==============================] - 0s 10ms/step\n",
      "(201, 128, 128, 1)\n"
     ]
    }
   ],
   "source": [
    "predu = modelU.predict(test)\n",
    "print(predu.shape)"
   ]
  }
 ],
 "metadata": {
  "kernelspec": {
   "display_name": "Python 3 (ipykernel)",
   "language": "python",
   "name": "python3"
  },
  "language_info": {
   "codemirror_mode": {
    "name": "ipython",
    "version": 3
   },
   "file_extension": ".py",
   "mimetype": "text/x-python",
   "name": "python",
   "nbconvert_exporter": "python",
   "pygments_lexer": "ipython3",
   "version": "3.9.13"
  }
 },
 "nbformat": 4,
 "nbformat_minor": 5
}
