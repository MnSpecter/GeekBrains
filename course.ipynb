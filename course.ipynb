{
 "cells": [
  {
   "cell_type": "markdown",
   "metadata": {
    "id": "nMBdGcvjC4Ji"
   },
   "source": [
    "# Курсовой проект\n"
   ]
  },
  {
   "cell_type": "code",
   "execution_count": 72,
   "metadata": {
    "id": "5Aur99NsC4Jm",
    "outputId": "9b9a338b-a52f-4253-9694-ac431b62eefc"
   },
   "outputs": [],
   "source": [
    "import pandas as pd\n",
    "import numpy as np\n",
    "import matplotlib.pyplot as plt\n",
    "%matplotlib inline\n",
    "\n",
    "# Для работы с матрицами\n",
    "from scipy.sparse import csr_matrix\n",
    "\n",
    "# Матричная факторизация\n",
    "from implicit import als\n",
    "from implicit.als import AlternatingLeastSquares\n",
    "from implicit.nearest_neighbours import ItemItemRecommender  # нужен для одного трюка\n",
    "from implicit.nearest_neighbours import bm25_weight, tfidf_weight\n",
    "\n",
    "\n",
    "import os, sys\n",
    "module_path = os.path.abspath(os.path.join(os.pardir))\n",
    "if module_path not in sys.path:\n",
    "    sys.path.append(module_path)\n",
    "\n",
    "# Написанные функции\n",
    "from src.metrics import precision_at_k, recall_at_k\n",
    "from src.utils import prefilter_items\n",
    "from src.recommenders import MainRecommender\n",
    "\n",
    "# Модель второго уровня\n",
    "from lightgbm import LGBMClassifier"
   ]
  },
  {
   "cell_type": "code",
   "execution_count": 73,
   "metadata": {
    "id": "vso_erSdC4Jo",
    "outputId": "da20dbf1-3086-4fd6-ac92-f7653d7f9f71"
   },
   "outputs": [],
   "source": [
    "data = pd.read_csv('data/retail_train.csv')\n",
    "validation = pd.read_csv('data/retail_test1.csv')\n",
    "\n",
    "item_features = pd.read_csv('data/product.csv')\n",
    "user_features = pd.read_csv('data/hh_demographic.csv')\n",
    "\n",
    "# column processing\n",
    "item_features.columns = [col.lower() for col in item_features.columns]\n",
    "user_features.columns = [col.lower() for col in user_features.columns]\n",
    "\n",
    "item_features.rename(columns={'product_id': 'item_id'}, inplace=True)\n",
    "user_features.rename(columns={'household_key': 'user_id'}, inplace=True)"
   ]
  },
  {
   "cell_type": "markdown",
   "metadata": {},
   "source": [
    "### Обучающая и тестовая выборки"
   ]
  },
  {
   "cell_type": "code",
   "execution_count": 74,
   "metadata": {},
   "outputs": [],
   "source": [
    "data_train = data.copy()\n",
    "data_val = validation.copy()\n",
    "\n",
    "result = data_val.groupby('user_id')['item_id'].unique().reset_index()\n",
    "result.columns=['user_id', 'actual']"
   ]
  },
  {
   "cell_type": "code",
   "execution_count": 75,
   "metadata": {},
   "outputs": [
    {
     "data": {
      "text/html": [
       "<div>\n",
       "<style scoped>\n",
       "    .dataframe tbody tr th:only-of-type {\n",
       "        vertical-align: middle;\n",
       "    }\n",
       "\n",
       "    .dataframe tbody tr th {\n",
       "        vertical-align: top;\n",
       "    }\n",
       "\n",
       "    .dataframe thead th {\n",
       "        text-align: right;\n",
       "    }\n",
       "</style>\n",
       "<table border=\"1\" class=\"dataframe\">\n",
       "  <thead>\n",
       "    <tr style=\"text-align: right;\">\n",
       "      <th></th>\n",
       "      <th>user_id</th>\n",
       "      <th>basket_id</th>\n",
       "      <th>day</th>\n",
       "      <th>item_id</th>\n",
       "      <th>quantity</th>\n",
       "      <th>sales_value</th>\n",
       "      <th>store_id</th>\n",
       "      <th>retail_disc</th>\n",
       "      <th>trans_time</th>\n",
       "      <th>week_no</th>\n",
       "      <th>coupon_disc</th>\n",
       "      <th>coupon_match_disc</th>\n",
       "    </tr>\n",
       "  </thead>\n",
       "  <tbody>\n",
       "    <tr>\n",
       "      <th>0</th>\n",
       "      <td>2375</td>\n",
       "      <td>26984851472</td>\n",
       "      <td>1</td>\n",
       "      <td>1004906</td>\n",
       "      <td>1</td>\n",
       "      <td>1.39</td>\n",
       "      <td>364</td>\n",
       "      <td>-0.60</td>\n",
       "      <td>1631</td>\n",
       "      <td>1</td>\n",
       "      <td>0.0</td>\n",
       "      <td>0.0</td>\n",
       "    </tr>\n",
       "    <tr>\n",
       "      <th>1</th>\n",
       "      <td>2375</td>\n",
       "      <td>26984851472</td>\n",
       "      <td>1</td>\n",
       "      <td>1033142</td>\n",
       "      <td>1</td>\n",
       "      <td>0.82</td>\n",
       "      <td>364</td>\n",
       "      <td>0.00</td>\n",
       "      <td>1631</td>\n",
       "      <td>1</td>\n",
       "      <td>0.0</td>\n",
       "      <td>0.0</td>\n",
       "    </tr>\n",
       "    <tr>\n",
       "      <th>2</th>\n",
       "      <td>2375</td>\n",
       "      <td>26984851472</td>\n",
       "      <td>1</td>\n",
       "      <td>1036325</td>\n",
       "      <td>1</td>\n",
       "      <td>0.99</td>\n",
       "      <td>364</td>\n",
       "      <td>-0.30</td>\n",
       "      <td>1631</td>\n",
       "      <td>1</td>\n",
       "      <td>0.0</td>\n",
       "      <td>0.0</td>\n",
       "    </tr>\n",
       "    <tr>\n",
       "      <th>3</th>\n",
       "      <td>2375</td>\n",
       "      <td>26984851472</td>\n",
       "      <td>1</td>\n",
       "      <td>1082185</td>\n",
       "      <td>1</td>\n",
       "      <td>1.21</td>\n",
       "      <td>364</td>\n",
       "      <td>0.00</td>\n",
       "      <td>1631</td>\n",
       "      <td>1</td>\n",
       "      <td>0.0</td>\n",
       "      <td>0.0</td>\n",
       "    </tr>\n",
       "    <tr>\n",
       "      <th>4</th>\n",
       "      <td>2375</td>\n",
       "      <td>26984851472</td>\n",
       "      <td>1</td>\n",
       "      <td>8160430</td>\n",
       "      <td>1</td>\n",
       "      <td>1.50</td>\n",
       "      <td>364</td>\n",
       "      <td>-0.39</td>\n",
       "      <td>1631</td>\n",
       "      <td>1</td>\n",
       "      <td>0.0</td>\n",
       "      <td>0.0</td>\n",
       "    </tr>\n",
       "    <tr>\n",
       "      <th>...</th>\n",
       "      <td>...</td>\n",
       "      <td>...</td>\n",
       "      <td>...</td>\n",
       "      <td>...</td>\n",
       "      <td>...</td>\n",
       "      <td>...</td>\n",
       "      <td>...</td>\n",
       "      <td>...</td>\n",
       "      <td>...</td>\n",
       "      <td>...</td>\n",
       "      <td>...</td>\n",
       "      <td>...</td>\n",
       "    </tr>\n",
       "    <tr>\n",
       "      <th>2396799</th>\n",
       "      <td>1613</td>\n",
       "      <td>41655820646</td>\n",
       "      <td>663</td>\n",
       "      <td>16102849</td>\n",
       "      <td>1</td>\n",
       "      <td>2.00</td>\n",
       "      <td>3262</td>\n",
       "      <td>-1.15</td>\n",
       "      <td>1231</td>\n",
       "      <td>95</td>\n",
       "      <td>0.0</td>\n",
       "      <td>0.0</td>\n",
       "    </tr>\n",
       "    <tr>\n",
       "      <th>2396800</th>\n",
       "      <td>1001</td>\n",
       "      <td>41655829421</td>\n",
       "      <td>663</td>\n",
       "      <td>13217063</td>\n",
       "      <td>1</td>\n",
       "      <td>1.69</td>\n",
       "      <td>3131</td>\n",
       "      <td>0.00</td>\n",
       "      <td>2231</td>\n",
       "      <td>95</td>\n",
       "      <td>0.0</td>\n",
       "      <td>0.0</td>\n",
       "    </tr>\n",
       "    <tr>\n",
       "      <th>2396801</th>\n",
       "      <td>1001</td>\n",
       "      <td>41655829421</td>\n",
       "      <td>663</td>\n",
       "      <td>13217800</td>\n",
       "      <td>1</td>\n",
       "      <td>1.69</td>\n",
       "      <td>3131</td>\n",
       "      <td>0.00</td>\n",
       "      <td>2231</td>\n",
       "      <td>95</td>\n",
       "      <td>0.0</td>\n",
       "      <td>0.0</td>\n",
       "    </tr>\n",
       "    <tr>\n",
       "      <th>2396802</th>\n",
       "      <td>1167</td>\n",
       "      <td>41656790510</td>\n",
       "      <td>663</td>\n",
       "      <td>6410462</td>\n",
       "      <td>22451</td>\n",
       "      <td>43.98</td>\n",
       "      <td>3385</td>\n",
       "      <td>-0.65</td>\n",
       "      <td>1059</td>\n",
       "      <td>95</td>\n",
       "      <td>0.0</td>\n",
       "      <td>0.0</td>\n",
       "    </tr>\n",
       "    <tr>\n",
       "      <th>2396803</th>\n",
       "      <td>1167</td>\n",
       "      <td>41656790510</td>\n",
       "      <td>663</td>\n",
       "      <td>6430664</td>\n",
       "      <td>1</td>\n",
       "      <td>8.00</td>\n",
       "      <td>3385</td>\n",
       "      <td>0.00</td>\n",
       "      <td>1059</td>\n",
       "      <td>95</td>\n",
       "      <td>0.0</td>\n",
       "      <td>0.0</td>\n",
       "    </tr>\n",
       "  </tbody>\n",
       "</table>\n",
       "<p>2396804 rows × 12 columns</p>\n",
       "</div>"
      ],
      "text/plain": [
       "         user_id    basket_id  day   item_id  quantity  sales_value  store_id  \\\n",
       "0           2375  26984851472    1   1004906         1         1.39       364   \n",
       "1           2375  26984851472    1   1033142         1         0.82       364   \n",
       "2           2375  26984851472    1   1036325         1         0.99       364   \n",
       "3           2375  26984851472    1   1082185         1         1.21       364   \n",
       "4           2375  26984851472    1   8160430         1         1.50       364   \n",
       "...          ...          ...  ...       ...       ...          ...       ...   \n",
       "2396799     1613  41655820646  663  16102849         1         2.00      3262   \n",
       "2396800     1001  41655829421  663  13217063         1         1.69      3131   \n",
       "2396801     1001  41655829421  663  13217800         1         1.69      3131   \n",
       "2396802     1167  41656790510  663   6410462     22451        43.98      3385   \n",
       "2396803     1167  41656790510  663   6430664         1         8.00      3385   \n",
       "\n",
       "         retail_disc  trans_time  week_no  coupon_disc  coupon_match_disc  \n",
       "0              -0.60        1631        1          0.0                0.0  \n",
       "1               0.00        1631        1          0.0                0.0  \n",
       "2              -0.30        1631        1          0.0                0.0  \n",
       "3               0.00        1631        1          0.0                0.0  \n",
       "4              -0.39        1631        1          0.0                0.0  \n",
       "...              ...         ...      ...          ...                ...  \n",
       "2396799        -1.15        1231       95          0.0                0.0  \n",
       "2396800         0.00        2231       95          0.0                0.0  \n",
       "2396801         0.00        2231       95          0.0                0.0  \n",
       "2396802        -0.65        1059       95          0.0                0.0  \n",
       "2396803         0.00        1059       95          0.0                0.0  \n",
       "\n",
       "[2396804 rows x 12 columns]"
      ]
     },
     "execution_count": 75,
     "metadata": {},
     "output_type": "execute_result"
    }
   ],
   "source": [
    "data_train"
   ]
  },
  {
   "cell_type": "markdown",
   "metadata": {},
   "source": [
    "### Бейзлайн"
   ]
  },
  {
   "cell_type": "code",
   "execution_count": 76,
   "metadata": {},
   "outputs": [],
   "source": [
    "top_train = list(data_train['item_id'].value_counts().keys())"
   ]
  },
  {
   "cell_type": "code",
   "execution_count": 77,
   "metadata": {},
   "outputs": [
    {
     "data": {
      "text/plain": [
       "0.19363395225463945"
      ]
     },
     "execution_count": 77,
     "metadata": {},
     "output_type": "execute_result"
    }
   ],
   "source": [
    "result.apply(lambda row: precision_at_k(top_train[:5], row['actual']), axis=1).mean()"
   ]
  },
  {
   "cell_type": "markdown",
   "metadata": {},
   "source": [
    "Наблюдение: топ 5 наиболее часто покупаемых товаров выглядит очень неплохо. Отфильтруем наиболее покупаемые и т.д."
   ]
  },
  {
   "cell_type": "markdown",
   "metadata": {},
   "source": [
    "#### Префильтрация обучающей выборки"
   ]
  },
  {
   "cell_type": "markdown",
   "metadata": {},
   "source": [
    "* Уберем самые популярные товары (их и так купят)\n",
    "* Уберем самые НЕ популярные товары (их и так НЕ купят)\n",
    "* Уберем товары, которые не продавались за последние N недель\n",
    "* Возьмем топ по популярности"
   ]
  },
  {
   "cell_type": "code",
   "execution_count": 78,
   "metadata": {},
   "outputs": [],
   "source": [
    "data_train = prefilter_items(data_train, item_features=item_features, take_n_popular=5000)"
   ]
  },
  {
   "cell_type": "code",
   "execution_count": 79,
   "metadata": {},
   "outputs": [
    {
     "data": {
      "text/plain": [
       "0.17549071618036888"
      ]
     },
     "execution_count": 79,
     "metadata": {},
     "output_type": "execute_result"
    }
   ],
   "source": [
    "top_train = list(data_train['item_id'].value_counts().keys())\n",
    "result.apply(lambda row: precision_at_k(top_train, row['actual']), axis=1).mean()"
   ]
  },
  {
   "cell_type": "markdown",
   "metadata": {},
   "source": [
    "## ML-модель"
   ]
  },
  {
   "cell_type": "code",
   "execution_count": 80,
   "metadata": {},
   "outputs": [],
   "source": [
    "# Функции обработки пользователей, отсутствующих в трейне (рекомендует для них топ по по полярности)\n",
    "def rec_als(recommender, x, N=500):\n",
    "    try:\n",
    "        return recommender.get_als_recommendations(x, N=N)\n",
    "    except:\n",
    "        return top_train\n",
    "\n",
    "def rec_own(recommender, x, N=500):\n",
    "    try:\n",
    "        return recommender.get_own_recommendations(x, N=N)\n",
    "    except:\n",
    "        return top_train\n",
    "    \n",
    "def rec_similar(recommender, x, N=500):\n",
    "    try:\n",
    "        return recommender.get_similar_items_recommendation(x, N=N)\n",
    "    except:\n",
    "        return top_train"
   ]
  },
  {
   "cell_type": "code",
   "execution_count": 81,
   "metadata": {},
   "outputs": [
    {
     "data": {
      "application/vnd.jupyter.widget-view+json": {
       "model_id": "7d0de1341a7b44beb87f3170475d618d",
       "version_major": 2,
       "version_minor": 0
      },
      "text/plain": [
       "  0%|          | 0/15 [00:00<?, ?it/s]"
      ]
     },
     "metadata": {},
     "output_type": "display_data"
    },
    {
     "data": {
      "application/vnd.jupyter.widget-view+json": {
       "model_id": "f31945d2db3a4f73beb381d27a5d6c74",
       "version_major": 2,
       "version_minor": 0
      },
      "text/plain": [
       "  0%|          | 0/5000 [00:00<?, ?it/s]"
      ]
     },
     "metadata": {},
     "output_type": "display_data"
    }
   ],
   "source": [
    "recommender = MainRecommender(data_train)"
   ]
  },
  {
   "cell_type": "code",
   "execution_count": 82,
   "metadata": {},
   "outputs": [
    {
     "name": "stdout",
     "output_type": "stream",
     "text": [
      "Wall time: 51.1 s\n"
     ]
    }
   ],
   "source": [
    "%%time\n",
    "result[f'get_als_recommendations'] = result['user_id'].apply(lambda x: rec_als(recommender, x))\n",
    "result[f'get_own_recommendations'] = result['user_id'].apply(lambda x: rec_own(recommender, x))\n",
    "result[f'get_similar_items_recommendation'] = result['user_id'].apply(lambda x: rec_similar(recommender, x))"
   ]
  },
  {
   "cell_type": "code",
   "execution_count": 83,
   "metadata": {},
   "outputs": [
    {
     "name": "stdout",
     "output_type": "stream",
     "text": [
      "get_als_recommendations : 0.1553315649867361\n",
      "get_own_recommendations : 0.1855702917771865\n",
      "get_similar_items_recommendation : 0.07140583554376696\n"
     ]
    }
   ],
   "source": [
    "for i in ['get_als_recommendations', 'get_own_recommendations', 'get_similar_items_recommendation']:\n",
    "    print(i,':', result.apply(lambda row: precision_at_k(row[i], row['actual']), axis=1).mean())"
   ]
  },
  {
   "cell_type": "markdown",
   "metadata": {},
   "source": [
    "#### Поэкспериментируем с меньшими значениями take_n_popular"
   ]
  },
  {
   "cell_type": "code",
   "execution_count": 84,
   "metadata": {},
   "outputs": [
    {
     "data": {
      "application/vnd.jupyter.widget-view+json": {
       "model_id": "98301f0b1b5f416b9c46a1e2106a8a86",
       "version_major": 2,
       "version_minor": 0
      },
      "text/plain": [
       "  0%|          | 0/15 [00:00<?, ?it/s]"
      ]
     },
     "metadata": {},
     "output_type": "display_data"
    },
    {
     "data": {
      "application/vnd.jupyter.widget-view+json": {
       "model_id": "ab6cf79e4981470eaecf134dc80ed247",
       "version_major": 2,
       "version_minor": 0
      },
      "text/plain": [
       "  0%|          | 0/10 [00:00<?, ?it/s]"
      ]
     },
     "metadata": {},
     "output_type": "display_data"
    },
    {
     "data": {
      "application/vnd.jupyter.widget-view+json": {
       "model_id": "f00a3407cfa74eda86bdb027e5d54ccc",
       "version_major": 2,
       "version_minor": 0
      },
      "text/plain": [
       "  0%|          | 0/15 [00:00<?, ?it/s]"
      ]
     },
     "metadata": {},
     "output_type": "display_data"
    },
    {
     "data": {
      "application/vnd.jupyter.widget-view+json": {
       "model_id": "0c38b565394d4d199145f1379f1f8c2d",
       "version_major": 2,
       "version_minor": 0
      },
      "text/plain": [
       "  0%|          | 0/50 [00:00<?, ?it/s]"
      ]
     },
     "metadata": {},
     "output_type": "display_data"
    },
    {
     "data": {
      "application/vnd.jupyter.widget-view+json": {
       "model_id": "3c686297afc0444da2c548746a6fcfa0",
       "version_major": 2,
       "version_minor": 0
      },
      "text/plain": [
       "  0%|          | 0/15 [00:00<?, ?it/s]"
      ]
     },
     "metadata": {},
     "output_type": "display_data"
    },
    {
     "data": {
      "application/vnd.jupyter.widget-view+json": {
       "model_id": "fdb1eb50736d4e16aae975d2fc7f9421",
       "version_major": 2,
       "version_minor": 0
      },
      "text/plain": [
       "  0%|          | 0/100 [00:00<?, ?it/s]"
      ]
     },
     "metadata": {},
     "output_type": "display_data"
    },
    {
     "data": {
      "application/vnd.jupyter.widget-view+json": {
       "model_id": "88c784be7c2042e3adfa38c6a5be19c4",
       "version_major": 2,
       "version_minor": 0
      },
      "text/plain": [
       "  0%|          | 0/15 [00:00<?, ?it/s]"
      ]
     },
     "metadata": {},
     "output_type": "display_data"
    },
    {
     "data": {
      "application/vnd.jupyter.widget-view+json": {
       "model_id": "60196d37a9164468becc768995e9d129",
       "version_major": 2,
       "version_minor": 0
      },
      "text/plain": [
       "  0%|          | 0/1000 [00:00<?, ?it/s]"
      ]
     },
     "metadata": {},
     "output_type": "display_data"
    },
    {
     "data": {
      "application/vnd.jupyter.widget-view+json": {
       "model_id": "d8a9be06957d4c98bc59ac62580ea692",
       "version_major": 2,
       "version_minor": 0
      },
      "text/plain": [
       "  0%|          | 0/15 [00:00<?, ?it/s]"
      ]
     },
     "metadata": {},
     "output_type": "display_data"
    },
    {
     "data": {
      "application/vnd.jupyter.widget-view+json": {
       "model_id": "23ef060b99ff4d3fb61bc9800356d852",
       "version_major": 2,
       "version_minor": 0
      },
      "text/plain": [
       "  0%|          | 0/2000 [00:00<?, ?it/s]"
      ]
     },
     "metadata": {},
     "output_type": "display_data"
    }
   ],
   "source": [
    "take_n_popular = [10, 50, 100, 1000, 2000]\n",
    "n_get_als_recommendations, n_get_own_recommendations, n_get_similar_items_recommendation = {}, {}, {}\n",
    "val_1 = data_val.copy()\n",
    "\n",
    "for n in take_n_popular:\n",
    "    \n",
    "    train_1 = data.copy()\n",
    "    train_1 = prefilter_items(train_1, item_features=item_features, take_n_popular=n)\n",
    "    val_1 = val_1.loc[val_1['user_id'].isin(list(train_1['user_id'].unique()))]\n",
    "    \n",
    "    recommender_1 = MainRecommender(train_1)\n",
    "    \n",
    "    result_1 = val_1.groupby('user_id')['item_id'].unique().reset_index()\n",
    "    result_1.columns=['user_id', 'actual']\n",
    "    \n",
    "    result_1[f'get_als_recommendations'] = result_1['user_id'].apply(lambda x: recommender_1.get_als_recommendations(x))\n",
    "    result_1[f'get_own_recommendations'] = result_1['user_id'].apply(lambda x: recommender_1.get_own_recommendations(x))\n",
    "    result_1[f'get_similar_items_recommendation'] = result_1['user_id'].apply(lambda x: recommender_1.get_similar_items_recommendation(x))\n",
    "\n",
    "    n_get_als_recommendations[n] = result_1.apply(lambda row: precision_at_k(row['get_als_recommendations'], row['actual']), axis=1).mean()\n",
    "    n_get_own_recommendations[n] = result_1.apply(lambda row: precision_at_k(row['get_own_recommendations'], row['actual']), axis=1).mean()\n",
    "    n_get_similar_items_recommendation[n] = result_1.apply(lambda row: precision_at_k(row['get_similar_items_recommendation'], row['actual']), axis=1).mean()"
   ]
  },
  {
   "cell_type": "code",
   "execution_count": 85,
   "metadata": {
    "scrolled": false
   },
   "outputs": [
    {
     "data": {
      "image/png": "[encoded data removed]",
      "text/plain": [
       "<Figure size 864x576 with 1 Axes>"
      ]
     },
     "metadata": {
      "needs_background": "light"
     },
     "output_type": "display_data"
    }
   ],
   "source": [
    "fig, ax = plt.subplots(figsize=(12, 8))\n",
    "\n",
    "ax.plot(n_get_als_recommendations.keys(), n_get_als_recommendations.values(), 'ro-', label = 'als_recommendations')\n",
    "ax.plot(n_get_own_recommendations.keys(), n_get_own_recommendations.values(), 'go-', label = 'own_recommendations')\n",
    "ax.plot(n_get_similar_items_recommendation.keys(), n_get_similar_items_recommendation.values(), 'bo-', label = 'similar_items_recommendation')\n",
    "ax.grid()\n",
    "\n",
    "ax.set_xlabel('take_n_popular')\n",
    "ax.set_ylabel('precision_at_k')\n",
    "\n",
    "for key in n_get_als_recommendations.keys():\n",
    "    plt.text(key+70, n_get_als_recommendations[key]+0.0025, f'n={key}', color='r')\n",
    "for key in n_get_own_recommendations.keys():\n",
    "    plt.text(key+70, n_get_own_recommendations[key]+0.0025, f'n={key}', color='g')\n",
    "for key in n_get_similar_items_recommendation.keys():\n",
    "    plt.text(key+70, n_get_similar_items_recommendation[key]+0.0025, f'n={key}', color='b')\n",
    "    \n",
    "    \n",
    "plt.legend()\n",
    "\n",
    "plt.show()"
   ]
  },
  {
   "cell_type": "markdown",
   "metadata": {},
   "source": [
    "Наблюдение: лучшие результаты на get_own_recommendations при take_n_popular = 50"
   ]
  },
  {
   "cell_type": "markdown",
   "metadata": {},
   "source": [
    "### Модель lvl 1"
   ]
  },
  {
   "cell_type": "code",
   "execution_count": 86,
   "metadata": {},
   "outputs": [
    {
     "data": {
      "application/vnd.jupyter.widget-view+json": {
       "model_id": "4b663354101a4b91a32dd1123fea5bff",
       "version_major": 2,
       "version_minor": 0
      },
      "text/plain": [
       "  0%|          | 0/15 [00:00<?, ?it/s]"
      ]
     },
     "metadata": {},
     "output_type": "display_data"
    },
    {
     "data": {
      "application/vnd.jupyter.widget-view+json": {
       "model_id": "bdcdaf093dc5491d9eb37788c98aff0c",
       "version_major": 2,
       "version_minor": 0
      },
      "text/plain": [
       "  0%|          | 0/50 [00:00<?, ?it/s]"
      ]
     },
     "metadata": {},
     "output_type": "display_data"
    }
   ],
   "source": [
    "data_train = data.copy()\n",
    "data_train = prefilter_items(data_train, item_features=item_features, take_n_popular=50)\n",
    "recommender = MainRecommender(data_train)"
   ]
  },
  {
   "cell_type": "code",
   "execution_count": 87,
   "metadata": {},
   "outputs": [],
   "source": [
    "data_val = validation.copy()\n",
    "result = data_val.groupby('user_id')['item_id'].unique().reset_index()\n",
    "result.columns=['user_id', 'actual']\n",
    "result[f'get_own_recommendations'] = result['user_id'].apply(lambda x: rec_own(recommender, x, N=50))"
   ]
  },
  {
   "cell_type": "code",
   "execution_count": 88,
   "metadata": {},
   "outputs": [
    {
     "data": {
      "text/plain": [
       "0.2566578249336848"
      ]
     },
     "execution_count": 88,
     "metadata": {},
     "output_type": "execute_result"
    }
   ],
   "source": [
    "result.apply(lambda row: precision_at_k(row['get_own_recommendations'], row['actual']), axis=1).mean()"
   ]
  },
  {
   "cell_type": "markdown",
   "metadata": {},
   "source": [
    "Наблюдение: похоже, целевое значение метрики уже достигнуто"
   ]
  },
  {
   "cell_type": "markdown",
   "metadata": {},
   "source": [
    "### Модель lvl 2"
   ]
  },
  {
   "cell_type": "code",
   "execution_count": 89,
   "metadata": {},
   "outputs": [
    {
     "data": {
      "text/plain": [
       "(139082, 12)"
      ]
     },
     "execution_count": 89,
     "metadata": {},
     "output_type": "execute_result"
    }
   ],
   "source": [
    "data_train.shape"
   ]
  },
  {
   "cell_type": "code",
   "execution_count": 90,
   "metadata": {},
   "outputs": [
    {
     "data": {
      "text/html": [
       "<div>\n",
       "<style scoped>\n",
       "    .dataframe tbody tr th:only-of-type {\n",
       "        vertical-align: middle;\n",
       "    }\n",
       "\n",
       "    .dataframe tbody tr th {\n",
       "        vertical-align: top;\n",
       "    }\n",
       "\n",
       "    .dataframe thead th {\n",
       "        text-align: right;\n",
       "    }\n",
       "</style>\n",
       "<table border=\"1\" class=\"dataframe\">\n",
       "  <thead>\n",
       "    <tr style=\"text-align: right;\">\n",
       "      <th></th>\n",
       "      <th>user_id</th>\n",
       "      <th>basket_id</th>\n",
       "      <th>day</th>\n",
       "      <th>item_id</th>\n",
       "      <th>quantity</th>\n",
       "      <th>sales_value</th>\n",
       "      <th>store_id</th>\n",
       "      <th>retail_disc</th>\n",
       "      <th>trans_time</th>\n",
       "      <th>week_no</th>\n",
       "      <th>coupon_disc</th>\n",
       "      <th>coupon_match_disc</th>\n",
       "    </tr>\n",
       "  </thead>\n",
       "  <tbody>\n",
       "    <tr>\n",
       "      <th>949830</th>\n",
       "      <td>1770</td>\n",
       "      <td>31527813342</td>\n",
       "      <td>307</td>\n",
       "      <td>904360</td>\n",
       "      <td>1</td>\n",
       "      <td>0.99</td>\n",
       "      <td>432</td>\n",
       "      <td>0.00</td>\n",
       "      <td>102</td>\n",
       "      <td>45</td>\n",
       "      <td>0.0</td>\n",
       "      <td>0.0</td>\n",
       "    </tr>\n",
       "    <tr>\n",
       "      <th>952351</th>\n",
       "      <td>2472</td>\n",
       "      <td>31528114102</td>\n",
       "      <td>307</td>\n",
       "      <td>981760</td>\n",
       "      <td>1</td>\n",
       "      <td>1.19</td>\n",
       "      <td>391</td>\n",
       "      <td>0.00</td>\n",
       "      <td>34</td>\n",
       "      <td>45</td>\n",
       "      <td>0.0</td>\n",
       "      <td>0.0</td>\n",
       "    </tr>\n",
       "    <tr>\n",
       "      <th>952901</th>\n",
       "      <td>816</td>\n",
       "      <td>31528169353</td>\n",
       "      <td>307</td>\n",
       "      <td>862349</td>\n",
       "      <td>1</td>\n",
       "      <td>1.00</td>\n",
       "      <td>380</td>\n",
       "      <td>-0.99</td>\n",
       "      <td>28</td>\n",
       "      <td>45</td>\n",
       "      <td>0.0</td>\n",
       "      <td>0.0</td>\n",
       "    </tr>\n",
       "    <tr>\n",
       "      <th>952902</th>\n",
       "      <td>816</td>\n",
       "      <td>31528169353</td>\n",
       "      <td>307</td>\n",
       "      <td>883404</td>\n",
       "      <td>1</td>\n",
       "      <td>1.00</td>\n",
       "      <td>380</td>\n",
       "      <td>-0.29</td>\n",
       "      <td>28</td>\n",
       "      <td>45</td>\n",
       "      <td>0.0</td>\n",
       "      <td>0.0</td>\n",
       "    </tr>\n",
       "    <tr>\n",
       "      <th>952906</th>\n",
       "      <td>816</td>\n",
       "      <td>31528169353</td>\n",
       "      <td>307</td>\n",
       "      <td>1082185</td>\n",
       "      <td>1</td>\n",
       "      <td>1.10</td>\n",
       "      <td>380</td>\n",
       "      <td>0.00</td>\n",
       "      <td>28</td>\n",
       "      <td>45</td>\n",
       "      <td>0.0</td>\n",
       "      <td>0.0</td>\n",
       "    </tr>\n",
       "    <tr>\n",
       "      <th>...</th>\n",
       "      <td>...</td>\n",
       "      <td>...</td>\n",
       "      <td>...</td>\n",
       "      <td>...</td>\n",
       "      <td>...</td>\n",
       "      <td>...</td>\n",
       "      <td>...</td>\n",
       "      <td>...</td>\n",
       "      <td>...</td>\n",
       "      <td>...</td>\n",
       "      <td>...</td>\n",
       "      <td>...</td>\n",
       "    </tr>\n",
       "    <tr>\n",
       "      <th>2396657</th>\n",
       "      <td>1776</td>\n",
       "      <td>41653231994</td>\n",
       "      <td>663</td>\n",
       "      <td>1082185</td>\n",
       "      <td>1</td>\n",
       "      <td>0.56</td>\n",
       "      <td>324</td>\n",
       "      <td>-0.38</td>\n",
       "      <td>1657</td>\n",
       "      <td>95</td>\n",
       "      <td>0.0</td>\n",
       "      <td>0.0</td>\n",
       "    </tr>\n",
       "    <tr>\n",
       "      <th>2396663</th>\n",
       "      <td>1989</td>\n",
       "      <td>41653235833</td>\n",
       "      <td>663</td>\n",
       "      <td>866227</td>\n",
       "      <td>2</td>\n",
       "      <td>1.00</td>\n",
       "      <td>343</td>\n",
       "      <td>0.00</td>\n",
       "      <td>1025</td>\n",
       "      <td>95</td>\n",
       "      <td>0.0</td>\n",
       "      <td>0.0</td>\n",
       "    </tr>\n",
       "    <tr>\n",
       "      <th>2396725</th>\n",
       "      <td>1754</td>\n",
       "      <td>41653239425</td>\n",
       "      <td>663</td>\n",
       "      <td>1098066</td>\n",
       "      <td>1</td>\n",
       "      <td>0.88</td>\n",
       "      <td>343</td>\n",
       "      <td>-0.41</td>\n",
       "      <td>1609</td>\n",
       "      <td>95</td>\n",
       "      <td>0.0</td>\n",
       "      <td>0.0</td>\n",
       "    </tr>\n",
       "    <tr>\n",
       "      <th>2396728</th>\n",
       "      <td>1754</td>\n",
       "      <td>41653239425</td>\n",
       "      <td>663</td>\n",
       "      <td>5569230</td>\n",
       "      <td>4</td>\n",
       "      <td>10.00</td>\n",
       "      <td>343</td>\n",
       "      <td>-8.76</td>\n",
       "      <td>1609</td>\n",
       "      <td>95</td>\n",
       "      <td>0.0</td>\n",
       "      <td>0.0</td>\n",
       "    </tr>\n",
       "    <tr>\n",
       "      <th>2396732</th>\n",
       "      <td>2078</td>\n",
       "      <td>41653241879</td>\n",
       "      <td>663</td>\n",
       "      <td>1106523</td>\n",
       "      <td>1</td>\n",
       "      <td>2.89</td>\n",
       "      <td>343</td>\n",
       "      <td>0.00</td>\n",
       "      <td>2129</td>\n",
       "      <td>95</td>\n",
       "      <td>0.0</td>\n",
       "      <td>0.0</td>\n",
       "    </tr>\n",
       "  </tbody>\n",
       "</table>\n",
       "<p>139082 rows × 12 columns</p>\n",
       "</div>"
      ],
      "text/plain": [
       "         user_id    basket_id  day  item_id  quantity  sales_value  store_id  \\\n",
       "949830      1770  31527813342  307   904360         1         0.99       432   \n",
       "952351      2472  31528114102  307   981760         1         1.19       391   \n",
       "952901       816  31528169353  307   862349         1         1.00       380   \n",
       "952902       816  31528169353  307   883404         1         1.00       380   \n",
       "952906       816  31528169353  307  1082185         1         1.10       380   \n",
       "...          ...          ...  ...      ...       ...          ...       ...   \n",
       "2396657     1776  41653231994  663  1082185         1         0.56       324   \n",
       "2396663     1989  41653235833  663   866227         2         1.00       343   \n",
       "2396725     1754  41653239425  663  1098066         1         0.88       343   \n",
       "2396728     1754  41653239425  663  5569230         4        10.00       343   \n",
       "2396732     2078  41653241879  663  1106523         1         2.89       343   \n",
       "\n",
       "         retail_disc  trans_time  week_no  coupon_disc  coupon_match_disc  \n",
       "949830          0.00         102       45          0.0                0.0  \n",
       "952351          0.00          34       45          0.0                0.0  \n",
       "952901         -0.99          28       45          0.0                0.0  \n",
       "952902         -0.29          28       45          0.0                0.0  \n",
       "952906          0.00          28       45          0.0                0.0  \n",
       "...              ...         ...      ...          ...                ...  \n",
       "2396657        -0.38        1657       95          0.0                0.0  \n",
       "2396663         0.00        1025       95          0.0                0.0  \n",
       "2396725        -0.41        1609       95          0.0                0.0  \n",
       "2396728        -8.76        1609       95          0.0                0.0  \n",
       "2396732         0.00        2129       95          0.0                0.0  \n",
       "\n",
       "[139082 rows x 12 columns]"
      ]
     },
     "execution_count": 90,
     "metadata": {},
     "output_type": "execute_result"
    }
   ],
   "source": [
    "train_lvl_2 = data_train.copy()\n",
    "train_lvl_2"
   ]
  },
  {
   "cell_type": "code",
   "execution_count": 91,
   "metadata": {},
   "outputs": [],
   "source": [
    "train_users = pd.DataFrame(train_lvl_2['user_id'].unique())\n",
    "train_users.columns = ['user_id']"
   ]
  },
  {
   "cell_type": "code",
   "execution_count": 92,
   "metadata": {},
   "outputs": [],
   "source": [
    "train_users['candidates'] = train_users['user_id'].apply(lambda x: rec_own(recommender, x, N=50))"
   ]
  },
  {
   "cell_type": "code",
   "execution_count": 93,
   "metadata": {},
   "outputs": [
    {
     "data": {
      "text/html": [
       "<div>\n",
       "<style scoped>\n",
       "    .dataframe tbody tr th:only-of-type {\n",
       "        vertical-align: middle;\n",
       "    }\n",
       "\n",
       "    .dataframe tbody tr th {\n",
       "        vertical-align: top;\n",
       "    }\n",
       "\n",
       "    .dataframe thead th {\n",
       "        text-align: right;\n",
       "    }\n",
       "</style>\n",
       "<table border=\"1\" class=\"dataframe\">\n",
       "  <thead>\n",
       "    <tr style=\"text-align: right;\">\n",
       "      <th></th>\n",
       "      <th>user_id</th>\n",
       "      <th>item_id</th>\n",
       "      <th>flag</th>\n",
       "    </tr>\n",
       "  </thead>\n",
       "  <tbody>\n",
       "    <tr>\n",
       "      <th>0</th>\n",
       "      <td>1770</td>\n",
       "      <td>995242</td>\n",
       "      <td>1</td>\n",
       "    </tr>\n",
       "    <tr>\n",
       "      <th>0</th>\n",
       "      <td>1770</td>\n",
       "      <td>961554</td>\n",
       "      <td>1</td>\n",
       "    </tr>\n",
       "    <tr>\n",
       "      <th>0</th>\n",
       "      <td>1770</td>\n",
       "      <td>834484</td>\n",
       "      <td>1</td>\n",
       "    </tr>\n",
       "    <tr>\n",
       "      <th>0</th>\n",
       "      <td>1770</td>\n",
       "      <td>994928</td>\n",
       "      <td>1</td>\n",
       "    </tr>\n",
       "  </tbody>\n",
       "</table>\n",
       "</div>"
      ],
      "text/plain": [
       "   user_id  item_id  flag\n",
       "0     1770   995242     1\n",
       "0     1770   961554     1\n",
       "0     1770   834484     1\n",
       "0     1770   994928     1"
      ]
     },
     "execution_count": 93,
     "metadata": {},
     "output_type": "execute_result"
    }
   ],
   "source": [
    "s = train_users.apply(lambda x: pd.Series(x['candidates']), axis=1).stack().reset_index(level=1, drop=True)\n",
    "s.name = 'item_id'\n",
    "s = s.astype(int)\n",
    "\n",
    "train_users = train_users.drop('candidates', axis=1).join(s)\n",
    "train_users['flag'] = 1\n",
    "\n",
    "train_users.head(4)"
   ]
  },
  {
   "cell_type": "code",
   "execution_count": 94,
   "metadata": {},
   "outputs": [],
   "source": [
    "targets_lvl_2 = train_lvl_2[['user_id', 'item_id']].copy()\n",
    "targets_lvl_2['target'] = 1 \n",
    "\n",
    "targets_lvl_2 = train_users.merge(targets_lvl_2, on=['user_id', 'item_id'], how='left')\n",
    "\n",
    "targets_lvl_2['target'].fillna(0, inplace= True)\n",
    "targets_lvl_2.drop('flag', axis=1, inplace=True)"
   ]
  },
  {
   "cell_type": "code",
   "execution_count": 95,
   "metadata": {},
   "outputs": [
    {
     "data": {
      "text/html": [
       "<div>\n",
       "<style scoped>\n",
       "    .dataframe tbody tr th:only-of-type {\n",
       "        vertical-align: middle;\n",
       "    }\n",
       "\n",
       "    .dataframe tbody tr th {\n",
       "        vertical-align: top;\n",
       "    }\n",
       "\n",
       "    .dataframe thead th {\n",
       "        text-align: right;\n",
       "    }\n",
       "</style>\n",
       "<table border=\"1\" class=\"dataframe\">\n",
       "  <thead>\n",
       "    <tr style=\"text-align: right;\">\n",
       "      <th></th>\n",
       "      <th>user_id</th>\n",
       "      <th>item_id</th>\n",
       "      <th>target</th>\n",
       "      <th>manufacturer</th>\n",
       "      <th>department</th>\n",
       "      <th>brand</th>\n",
       "      <th>commodity_desc</th>\n",
       "      <th>sub_commodity_desc</th>\n",
       "      <th>curr_size_of_product</th>\n",
       "      <th>age_desc</th>\n",
       "      <th>marital_status_code</th>\n",
       "      <th>income_desc</th>\n",
       "      <th>homeowner_desc</th>\n",
       "      <th>hh_comp_desc</th>\n",
       "      <th>household_size_desc</th>\n",
       "      <th>kid_category_desc</th>\n",
       "    </tr>\n",
       "  </thead>\n",
       "  <tbody>\n",
       "    <tr>\n",
       "      <th>0</th>\n",
       "      <td>1770</td>\n",
       "      <td>995242</td>\n",
       "      <td>1.0</td>\n",
       "      <td>69</td>\n",
       "      <td>GROCERY</td>\n",
       "      <td>Private</td>\n",
       "      <td>FLUID MILK PRODUCTS</td>\n",
       "      <td>FLUID MILK WHITE ONLY</td>\n",
       "      <td></td>\n",
       "      <td>NaN</td>\n",
       "      <td>NaN</td>\n",
       "      <td>NaN</td>\n",
       "      <td>NaN</td>\n",
       "      <td>NaN</td>\n",
       "      <td>NaN</td>\n",
       "      <td>NaN</td>\n",
       "    </tr>\n",
       "    <tr>\n",
       "      <th>1</th>\n",
       "      <td>1770</td>\n",
       "      <td>995242</td>\n",
       "      <td>1.0</td>\n",
       "      <td>69</td>\n",
       "      <td>GROCERY</td>\n",
       "      <td>Private</td>\n",
       "      <td>FLUID MILK PRODUCTS</td>\n",
       "      <td>FLUID MILK WHITE ONLY</td>\n",
       "      <td></td>\n",
       "      <td>NaN</td>\n",
       "      <td>NaN</td>\n",
       "      <td>NaN</td>\n",
       "      <td>NaN</td>\n",
       "      <td>NaN</td>\n",
       "      <td>NaN</td>\n",
       "      <td>NaN</td>\n",
       "    </tr>\n",
       "  </tbody>\n",
       "</table>\n",
       "</div>"
      ],
      "text/plain": [
       "   user_id  item_id  target  manufacturer department    brand  \\\n",
       "0     1770   995242     1.0            69    GROCERY  Private   \n",
       "1     1770   995242     1.0            69    GROCERY  Private   \n",
       "\n",
       "        commodity_desc     sub_commodity_desc curr_size_of_product age_desc  \\\n",
       "0  FLUID MILK PRODUCTS  FLUID MILK WHITE ONLY                           NaN   \n",
       "1  FLUID MILK PRODUCTS  FLUID MILK WHITE ONLY                           NaN   \n",
       "\n",
       "  marital_status_code income_desc homeowner_desc hh_comp_desc  \\\n",
       "0                 NaN         NaN            NaN          NaN   \n",
       "1                 NaN         NaN            NaN          NaN   \n",
       "\n",
       "  household_size_desc kid_category_desc  \n",
       "0                 NaN               NaN  \n",
       "1                 NaN               NaN  "
      ]
     },
     "execution_count": 95,
     "metadata": {},
     "output_type": "execute_result"
    }
   ],
   "source": [
    "targets_lvl_2 = targets_lvl_2.merge(item_features, on='item_id', how='left')\n",
    "targets_lvl_2 = targets_lvl_2.merge(user_features, on='user_id', how='left')\n",
    "\n",
    "targets_lvl_2.head(2)"
   ]
  },
  {
   "cell_type": "code",
   "execution_count": 96,
   "metadata": {},
   "outputs": [
    {
     "data": {
      "text/plain": [
       "1.0    243101\n",
       "0.0     58556\n",
       "Name: target, dtype: int64"
      ]
     },
     "execution_count": 96,
     "metadata": {},
     "output_type": "execute_result"
    }
   ],
   "source": [
    "targets_lvl_2['target'].value_counts()"
   ]
  },
  {
   "cell_type": "code",
   "execution_count": 97,
   "metadata": {},
   "outputs": [
    {
     "data": {
      "text/plain": [
       "['manufacturer',\n",
       " 'department',\n",
       " 'brand',\n",
       " 'commodity_desc',\n",
       " 'sub_commodity_desc',\n",
       " 'curr_size_of_product',\n",
       " 'age_desc',\n",
       " 'marital_status_code',\n",
       " 'income_desc',\n",
       " 'homeowner_desc',\n",
       " 'hh_comp_desc',\n",
       " 'household_size_desc',\n",
       " 'kid_category_desc']"
      ]
     },
     "execution_count": 97,
     "metadata": {},
     "output_type": "execute_result"
    }
   ],
   "source": [
    "X_train = targets_lvl_2.drop('target', axis=1)\n",
    "y_train = targets_lvl_2[['target']]\n",
    "\n",
    "cat_feats = X_train.columns[2:].tolist()\n",
    "X_train[cat_feats] = X_train[cat_feats].astype('category')\n",
    "\n",
    "cat_feats"
   ]
  },
  {
   "cell_type": "code",
   "execution_count": 98,
   "metadata": {},
   "outputs": [
    {
     "name": "stderr",
     "output_type": "stream",
     "text": [
      "C:\\Users\\User\\anaconda3\\lib\\site-packages\\sklearn\\utils\\validation.py:63: DataConversionWarning: A column-vector y was passed when a 1d array was expected. Please change the shape of y to (n_samples, ), for example using ravel().\n",
      "  return f(*args, **kwargs)\n",
      "C:\\Users\\User\\anaconda3\\lib\\site-packages\\lightgbm\\basic.py:1245: UserWarning: categorical_column in param dict is overridden.\n",
      "  _log_warning('{} in param dict is overridden.'.format(cat_alias))\n"
     ]
    },
    {
     "data": {
      "text/plain": [
       "LGBMClassifier(categorical_column=['manufacturer', 'department', 'brand',\n",
       "                                   'commodity_desc', 'sub_commodity_desc',\n",
       "                                   'curr_size_of_product', 'age_desc',\n",
       "                                   'marital_status_code', 'income_desc',\n",
       "                                   'homeowner_desc', 'hh_comp_desc',\n",
       "                                   'household_size_desc', 'kid_category_desc'],\n",
       "               max_depth=7, objective='binary')"
      ]
     },
     "execution_count": 98,
     "metadata": {},
     "output_type": "execute_result"
    }
   ],
   "source": [
    "lgb = LGBMClassifier(objective='binary', max_depth=7, categorical_column=cat_feats)\n",
    "lgb.fit(X_train, y_train)"
   ]
  },
  {
   "cell_type": "code",
   "execution_count": 99,
   "metadata": {},
   "outputs": [],
   "source": [
    "train_preds = lgb.predict_proba(X_train)"
   ]
  },
  {
   "cell_type": "code",
   "execution_count": 100,
   "metadata": {},
   "outputs": [
    {
     "data": {
      "text/html": [
       "<div>\n",
       "<style scoped>\n",
       "    .dataframe tbody tr th:only-of-type {\n",
       "        vertical-align: middle;\n",
       "    }\n",
       "\n",
       "    .dataframe tbody tr th {\n",
       "        vertical-align: top;\n",
       "    }\n",
       "\n",
       "    .dataframe thead th {\n",
       "        text-align: right;\n",
       "    }\n",
       "</style>\n",
       "<table border=\"1\" class=\"dataframe\">\n",
       "  <thead>\n",
       "    <tr style=\"text-align: right;\">\n",
       "      <th></th>\n",
       "      <th>0</th>\n",
       "      <th>1</th>\n",
       "    </tr>\n",
       "  </thead>\n",
       "  <tbody>\n",
       "    <tr>\n",
       "      <th>count</th>\n",
       "      <td>301657.000000</td>\n",
       "      <td>301657.000000</td>\n",
       "    </tr>\n",
       "    <tr>\n",
       "      <th>mean</th>\n",
       "      <td>0.194174</td>\n",
       "      <td>0.805826</td>\n",
       "    </tr>\n",
       "    <tr>\n",
       "      <th>std</th>\n",
       "      <td>0.154364</td>\n",
       "      <td>0.154364</td>\n",
       "    </tr>\n",
       "    <tr>\n",
       "      <th>min</th>\n",
       "      <td>0.002044</td>\n",
       "      <td>0.043328</td>\n",
       "    </tr>\n",
       "    <tr>\n",
       "      <th>25%</th>\n",
       "      <td>0.060943</td>\n",
       "      <td>0.679121</td>\n",
       "    </tr>\n",
       "    <tr>\n",
       "      <th>50%</th>\n",
       "      <td>0.142559</td>\n",
       "      <td>0.857441</td>\n",
       "    </tr>\n",
       "    <tr>\n",
       "      <th>75%</th>\n",
       "      <td>0.320879</td>\n",
       "      <td>0.939057</td>\n",
       "    </tr>\n",
       "    <tr>\n",
       "      <th>max</th>\n",
       "      <td>0.956672</td>\n",
       "      <td>0.997956</td>\n",
       "    </tr>\n",
       "  </tbody>\n",
       "</table>\n",
       "</div>"
      ],
      "text/plain": [
       "                   0              1\n",
       "count  301657.000000  301657.000000\n",
       "mean        0.194174       0.805826\n",
       "std         0.154364       0.154364\n",
       "min         0.002044       0.043328\n",
       "25%         0.060943       0.679121\n",
       "50%         0.142559       0.857441\n",
       "75%         0.320879       0.939057\n",
       "max         0.956672       0.997956"
      ]
     },
     "execution_count": 100,
     "metadata": {},
     "output_type": "execute_result"
    }
   ],
   "source": [
    "pd.DataFrame(train_preds).describe()"
   ]
  },
  {
   "cell_type": "code",
   "execution_count": 101,
   "metadata": {},
   "outputs": [
    {
     "data": {
      "text/html": [
       "<div>\n",
       "<style scoped>\n",
       "    .dataframe tbody tr th:only-of-type {\n",
       "        vertical-align: middle;\n",
       "    }\n",
       "\n",
       "    .dataframe tbody tr th {\n",
       "        vertical-align: top;\n",
       "    }\n",
       "\n",
       "    .dataframe thead th {\n",
       "        text-align: right;\n",
       "    }\n",
       "</style>\n",
       "<table border=\"1\" class=\"dataframe\">\n",
       "  <thead>\n",
       "    <tr style=\"text-align: right;\">\n",
       "      <th></th>\n",
       "      <th>user_id</th>\n",
       "      <th>item_id</th>\n",
       "      <th>manufacturer</th>\n",
       "      <th>department</th>\n",
       "      <th>brand</th>\n",
       "      <th>commodity_desc</th>\n",
       "      <th>sub_commodity_desc</th>\n",
       "      <th>curr_size_of_product</th>\n",
       "      <th>age_desc</th>\n",
       "      <th>marital_status_code</th>\n",
       "      <th>income_desc</th>\n",
       "      <th>homeowner_desc</th>\n",
       "      <th>hh_comp_desc</th>\n",
       "      <th>household_size_desc</th>\n",
       "      <th>kid_category_desc</th>\n",
       "      <th>0</th>\n",
       "    </tr>\n",
       "  </thead>\n",
       "  <tbody>\n",
       "    <tr>\n",
       "      <th>22</th>\n",
       "      <td>1770</td>\n",
       "      <td>834484</td>\n",
       "      <td>2</td>\n",
       "      <td>PRODUCE</td>\n",
       "      <td>National</td>\n",
       "      <td>ONIONS</td>\n",
       "      <td>ONIONS OTHER</td>\n",
       "      <td>48 CT</td>\n",
       "      <td>NaN</td>\n",
       "      <td>NaN</td>\n",
       "      <td>NaN</td>\n",
       "      <td>NaN</td>\n",
       "      <td>NaN</td>\n",
       "      <td>NaN</td>\n",
       "      <td>NaN</td>\n",
       "      <td>0.387656</td>\n",
       "    </tr>\n",
       "    <tr>\n",
       "      <th>53</th>\n",
       "      <td>1770</td>\n",
       "      <td>862349</td>\n",
       "      <td>69</td>\n",
       "      <td>GROCERY</td>\n",
       "      <td>Private</td>\n",
       "      <td>FLUID MILK PRODUCTS</td>\n",
       "      <td>FLUID MILK WHITE ONLY</td>\n",
       "      <td></td>\n",
       "      <td>NaN</td>\n",
       "      <td>NaN</td>\n",
       "      <td>NaN</td>\n",
       "      <td>NaN</td>\n",
       "      <td>NaN</td>\n",
       "      <td>NaN</td>\n",
       "      <td>NaN</td>\n",
       "      <td>0.413161</td>\n",
       "    </tr>\n",
       "    <tr>\n",
       "      <th>63</th>\n",
       "      <td>1770</td>\n",
       "      <td>903325</td>\n",
       "      <td>2</td>\n",
       "      <td>PRODUCE</td>\n",
       "      <td>National</td>\n",
       "      <td>BROCCOLI/CAULIFLOWER</td>\n",
       "      <td>BROCCOLI WHOLE&amp;CROWNS</td>\n",
       "      <td></td>\n",
       "      <td>NaN</td>\n",
       "      <td>NaN</td>\n",
       "      <td>NaN</td>\n",
       "      <td>NaN</td>\n",
       "      <td>NaN</td>\n",
       "      <td>NaN</td>\n",
       "      <td>NaN</td>\n",
       "      <td>0.447961</td>\n",
       "    </tr>\n",
       "    <tr>\n",
       "      <th>135</th>\n",
       "      <td>1770</td>\n",
       "      <td>1070820</td>\n",
       "      <td>69</td>\n",
       "      <td>GROCERY</td>\n",
       "      <td>Private</td>\n",
       "      <td>FLUID MILK PRODUCTS</td>\n",
       "      <td>FLUID MILK WHITE ONLY</td>\n",
       "      <td>1 GA</td>\n",
       "      <td>NaN</td>\n",
       "      <td>NaN</td>\n",
       "      <td>NaN</td>\n",
       "      <td>NaN</td>\n",
       "      <td>NaN</td>\n",
       "      <td>NaN</td>\n",
       "      <td>NaN</td>\n",
       "      <td>0.373569</td>\n",
       "    </tr>\n",
       "    <tr>\n",
       "      <th>137</th>\n",
       "      <td>1770</td>\n",
       "      <td>1058997</td>\n",
       "      <td>69</td>\n",
       "      <td>GROCERY</td>\n",
       "      <td>Private</td>\n",
       "      <td>FLUID MILK PRODUCTS</td>\n",
       "      <td>FLUID MILK WHITE ONLY</td>\n",
       "      <td></td>\n",
       "      <td>NaN</td>\n",
       "      <td>NaN</td>\n",
       "      <td>NaN</td>\n",
       "      <td>NaN</td>\n",
       "      <td>NaN</td>\n",
       "      <td>NaN</td>\n",
       "      <td>NaN</td>\n",
       "      <td>0.367481</td>\n",
       "    </tr>\n",
       "    <tr>\n",
       "      <th>...</th>\n",
       "      <td>...</td>\n",
       "      <td>...</td>\n",
       "      <td>...</td>\n",
       "      <td>...</td>\n",
       "      <td>...</td>\n",
       "      <td>...</td>\n",
       "      <td>...</td>\n",
       "      <td>...</td>\n",
       "      <td>...</td>\n",
       "      <td>...</td>\n",
       "      <td>...</td>\n",
       "      <td>...</td>\n",
       "      <td>...</td>\n",
       "      <td>...</td>\n",
       "      <td>...</td>\n",
       "      <td>...</td>\n",
       "    </tr>\n",
       "    <tr>\n",
       "      <th>301640</th>\n",
       "      <td>1386</td>\n",
       "      <td>903325</td>\n",
       "      <td>2</td>\n",
       "      <td>PRODUCE</td>\n",
       "      <td>National</td>\n",
       "      <td>BROCCOLI/CAULIFLOWER</td>\n",
       "      <td>BROCCOLI WHOLE&amp;CROWNS</td>\n",
       "      <td></td>\n",
       "      <td>NaN</td>\n",
       "      <td>NaN</td>\n",
       "      <td>NaN</td>\n",
       "      <td>NaN</td>\n",
       "      <td>NaN</td>\n",
       "      <td>NaN</td>\n",
       "      <td>NaN</td>\n",
       "      <td>0.517970</td>\n",
       "    </tr>\n",
       "    <tr>\n",
       "      <th>301642</th>\n",
       "      <td>1386</td>\n",
       "      <td>834484</td>\n",
       "      <td>2</td>\n",
       "      <td>PRODUCE</td>\n",
       "      <td>National</td>\n",
       "      <td>ONIONS</td>\n",
       "      <td>ONIONS OTHER</td>\n",
       "      <td>48 CT</td>\n",
       "      <td>NaN</td>\n",
       "      <td>NaN</td>\n",
       "      <td>NaN</td>\n",
       "      <td>NaN</td>\n",
       "      <td>NaN</td>\n",
       "      <td>NaN</td>\n",
       "      <td>NaN</td>\n",
       "      <td>0.486700</td>\n",
       "    </tr>\n",
       "    <tr>\n",
       "      <th>301646</th>\n",
       "      <td>1386</td>\n",
       "      <td>866227</td>\n",
       "      <td>2</td>\n",
       "      <td>PASTRY</td>\n",
       "      <td>National</td>\n",
       "      <td>BREAKFAST SWEETS</td>\n",
       "      <td>SW GDS:DONUTS</td>\n",
       "      <td></td>\n",
       "      <td>NaN</td>\n",
       "      <td>NaN</td>\n",
       "      <td>NaN</td>\n",
       "      <td>NaN</td>\n",
       "      <td>NaN</td>\n",
       "      <td>NaN</td>\n",
       "      <td>NaN</td>\n",
       "      <td>0.465921</td>\n",
       "    </tr>\n",
       "    <tr>\n",
       "      <th>301649</th>\n",
       "      <td>1386</td>\n",
       "      <td>914190</td>\n",
       "      <td>317</td>\n",
       "      <td>GROCERY</td>\n",
       "      <td>National</td>\n",
       "      <td>CHEESE</td>\n",
       "      <td>CREAM CHEESE</td>\n",
       "      <td>L      8OZ</td>\n",
       "      <td>NaN</td>\n",
       "      <td>NaN</td>\n",
       "      <td>NaN</td>\n",
       "      <td>NaN</td>\n",
       "      <td>NaN</td>\n",
       "      <td>NaN</td>\n",
       "      <td>NaN</td>\n",
       "      <td>0.485853</td>\n",
       "    </tr>\n",
       "    <tr>\n",
       "      <th>301651</th>\n",
       "      <td>1386</td>\n",
       "      <td>1007195</td>\n",
       "      <td>2</td>\n",
       "      <td>PRODUCE</td>\n",
       "      <td>National</td>\n",
       "      <td>CORN</td>\n",
       "      <td>CORN YELLOW</td>\n",
       "      <td>48 CT</td>\n",
       "      <td>NaN</td>\n",
       "      <td>NaN</td>\n",
       "      <td>NaN</td>\n",
       "      <td>NaN</td>\n",
       "      <td>NaN</td>\n",
       "      <td>NaN</td>\n",
       "      <td>NaN</td>\n",
       "      <td>0.467610</td>\n",
       "    </tr>\n",
       "  </tbody>\n",
       "</table>\n",
       "<p>11975 rows × 16 columns</p>\n",
       "</div>"
      ],
      "text/plain": [
       "        user_id  item_id manufacturer department     brand  \\\n",
       "22         1770   834484            2    PRODUCE  National   \n",
       "53         1770   862349           69    GROCERY   Private   \n",
       "63         1770   903325            2    PRODUCE  National   \n",
       "135        1770  1070820           69    GROCERY   Private   \n",
       "137        1770  1058997           69    GROCERY   Private   \n",
       "...         ...      ...          ...        ...       ...   \n",
       "301640     1386   903325            2    PRODUCE  National   \n",
       "301642     1386   834484            2    PRODUCE  National   \n",
       "301646     1386   866227            2     PASTRY  National   \n",
       "301649     1386   914190          317    GROCERY  National   \n",
       "301651     1386  1007195            2    PRODUCE  National   \n",
       "\n",
       "              commodity_desc     sub_commodity_desc curr_size_of_product  \\\n",
       "22                    ONIONS           ONIONS OTHER                48 CT   \n",
       "53       FLUID MILK PRODUCTS  FLUID MILK WHITE ONLY                        \n",
       "63      BROCCOLI/CAULIFLOWER  BROCCOLI WHOLE&CROWNS                        \n",
       "135      FLUID MILK PRODUCTS  FLUID MILK WHITE ONLY                 1 GA   \n",
       "137      FLUID MILK PRODUCTS  FLUID MILK WHITE ONLY                        \n",
       "...                      ...                    ...                  ...   \n",
       "301640  BROCCOLI/CAULIFLOWER  BROCCOLI WHOLE&CROWNS                        \n",
       "301642                ONIONS           ONIONS OTHER                48 CT   \n",
       "301646      BREAKFAST SWEETS          SW GDS:DONUTS                        \n",
       "301649                CHEESE           CREAM CHEESE           L      8OZ   \n",
       "301651                  CORN            CORN YELLOW                48 CT   \n",
       "\n",
       "       age_desc marital_status_code income_desc homeowner_desc hh_comp_desc  \\\n",
       "22          NaN                 NaN         NaN            NaN          NaN   \n",
       "53          NaN                 NaN         NaN            NaN          NaN   \n",
       "63          NaN                 NaN         NaN            NaN          NaN   \n",
       "135         NaN                 NaN         NaN            NaN          NaN   \n",
       "137         NaN                 NaN         NaN            NaN          NaN   \n",
       "...         ...                 ...         ...            ...          ...   \n",
       "301640      NaN                 NaN         NaN            NaN          NaN   \n",
       "301642      NaN                 NaN         NaN            NaN          NaN   \n",
       "301646      NaN                 NaN         NaN            NaN          NaN   \n",
       "301649      NaN                 NaN         NaN            NaN          NaN   \n",
       "301651      NaN                 NaN         NaN            NaN          NaN   \n",
       "\n",
       "       household_size_desc kid_category_desc         0  \n",
       "22                     NaN               NaN  0.387656  \n",
       "53                     NaN               NaN  0.413161  \n",
       "63                     NaN               NaN  0.447961  \n",
       "135                    NaN               NaN  0.373569  \n",
       "137                    NaN               NaN  0.367481  \n",
       "...                    ...               ...       ...  \n",
       "301640                 NaN               NaN  0.517970  \n",
       "301642                 NaN               NaN  0.486700  \n",
       "301646                 NaN               NaN  0.465921  \n",
       "301649                 NaN               NaN  0.485853  \n",
       "301651                 NaN               NaN  0.467610  \n",
       "\n",
       "[11975 rows x 16 columns]"
      ]
     },
     "execution_count": 101,
     "metadata": {},
     "output_type": "execute_result"
    }
   ],
   "source": [
    "result_train = pd.concat([X_train, pd.DataFrame(train_preds)[0]], axis=1)\n",
    "result_train = result_train.drop_duplicates()\n",
    "result_train = result_train[result_train.groupby('user_id')[0].rank(ascending=False) <= 5]\n",
    "result_train"
   ]
  },
  {
   "cell_type": "code",
   "execution_count": 102,
   "metadata": {},
   "outputs": [],
   "source": [
    "result_train = result_train.groupby('user_id')['item_id'].unique().reset_index()\n",
    "result_train = result_train.rename(columns={'item_id': 'recs'})"
   ]
  },
  {
   "cell_type": "code",
   "execution_count": 103,
   "metadata": {},
   "outputs": [
    {
     "data": {
      "text/html": [
       "<div>\n",
       "<style scoped>\n",
       "    .dataframe tbody tr th:only-of-type {\n",
       "        vertical-align: middle;\n",
       "    }\n",
       "\n",
       "    .dataframe tbody tr th {\n",
       "        vertical-align: top;\n",
       "    }\n",
       "\n",
       "    .dataframe thead th {\n",
       "        text-align: right;\n",
       "    }\n",
       "</style>\n",
       "<table border=\"1\" class=\"dataframe\">\n",
       "  <thead>\n",
       "    <tr style=\"text-align: right;\">\n",
       "      <th></th>\n",
       "      <th>user_id</th>\n",
       "      <th>recs</th>\n",
       "    </tr>\n",
       "  </thead>\n",
       "  <tbody>\n",
       "    <tr>\n",
       "      <th>0</th>\n",
       "      <td>1</td>\n",
       "      <td>[908531, 1098066, 844179, 859075, 1065593]</td>\n",
       "    </tr>\n",
       "    <tr>\n",
       "      <th>1</th>\n",
       "      <td>2</td>\n",
       "      <td>[1007195, 914190, 859075, 834484, 1065593]</td>\n",
       "    </tr>\n",
       "    <tr>\n",
       "      <th>2</th>\n",
       "      <td>3</td>\n",
       "      <td>[844179, 859075, 903325, 834484, 1065593]</td>\n",
       "    </tr>\n",
       "    <tr>\n",
       "      <th>3</th>\n",
       "      <td>4</td>\n",
       "      <td>[859075, 834484, 1065593, 866227, 914190]</td>\n",
       "    </tr>\n",
       "    <tr>\n",
       "      <th>4</th>\n",
       "      <td>6</td>\n",
       "      <td>[834484, 903325, 866227, 1007195, 844179]</td>\n",
       "    </tr>\n",
       "    <tr>\n",
       "      <th>...</th>\n",
       "      <td>...</td>\n",
       "      <td>...</td>\n",
       "    </tr>\n",
       "    <tr>\n",
       "      <th>2390</th>\n",
       "      <td>2496</td>\n",
       "      <td>[1044078, 1126899, 1070820, 1058997, 862349]</td>\n",
       "    </tr>\n",
       "    <tr>\n",
       "      <th>2391</th>\n",
       "      <td>2497</td>\n",
       "      <td>[1070820, 1126899, 1044078, 1098066, 908531]</td>\n",
       "    </tr>\n",
       "    <tr>\n",
       "      <th>2392</th>\n",
       "      <td>2498</td>\n",
       "      <td>[1133018, 908531, 916122, 1058997, 1044078]</td>\n",
       "    </tr>\n",
       "    <tr>\n",
       "      <th>2393</th>\n",
       "      <td>2499</td>\n",
       "      <td>[1044078, 1133018, 995785, 916122, 1058997]</td>\n",
       "    </tr>\n",
       "    <tr>\n",
       "      <th>2394</th>\n",
       "      <td>2500</td>\n",
       "      <td>[862349, 854852, 878996, 866211, 903325]</td>\n",
       "    </tr>\n",
       "  </tbody>\n",
       "</table>\n",
       "<p>2395 rows × 2 columns</p>\n",
       "</div>"
      ],
      "text/plain": [
       "      user_id                                          recs\n",
       "0           1    [908531, 1098066, 844179, 859075, 1065593]\n",
       "1           2    [1007195, 914190, 859075, 834484, 1065593]\n",
       "2           3     [844179, 859075, 903325, 834484, 1065593]\n",
       "3           4     [859075, 834484, 1065593, 866227, 914190]\n",
       "4           6     [834484, 903325, 866227, 1007195, 844179]\n",
       "...       ...                                           ...\n",
       "2390     2496  [1044078, 1126899, 1070820, 1058997, 862349]\n",
       "2391     2497  [1070820, 1126899, 1044078, 1098066, 908531]\n",
       "2392     2498   [1133018, 908531, 916122, 1058997, 1044078]\n",
       "2393     2499   [1044078, 1133018, 995785, 916122, 1058997]\n",
       "2394     2500      [862349, 854852, 878996, 866211, 903325]\n",
       "\n",
       "[2395 rows x 2 columns]"
      ]
     },
     "execution_count": 103,
     "metadata": {},
     "output_type": "execute_result"
    }
   ],
   "source": [
    "result_train"
   ]
  },
  {
   "cell_type": "markdown",
   "metadata": {},
   "source": [
    "### Предсказания для теста"
   ]
  },
  {
   "cell_type": "markdown",
   "metadata": {},
   "source": [
    "#### На обученном трейне по id"
   ]
  },
  {
   "cell_type": "code",
   "execution_count": 104,
   "metadata": {},
   "outputs": [],
   "source": [
    "result_test = result.merge(result_train, on='user_id')"
   ]
  },
  {
   "cell_type": "code",
   "execution_count": 105,
   "metadata": {},
   "outputs": [
    {
     "data": {
      "text/plain": [
       "0.0527282549972991"
      ]
     },
     "execution_count": 105,
     "metadata": {},
     "output_type": "execute_result"
    }
   ],
   "source": [
    "result_test.apply(lambda row: precision_at_k(row['recs'], row['actual']), axis=1).mean()"
   ]
  },
  {
   "cell_type": "markdown",
   "metadata": {},
   "source": [
    "#### Через predict_proba для данных test на моделе lgb, обученно на train"
   ]
  },
  {
   "cell_type": "code",
   "execution_count": 109,
   "metadata": {},
   "outputs": [],
   "source": [
    "test_users = pd.DataFrame(data_val['user_id'].unique())\n",
    "test_users.columns = ['user_id']\n",
    "test_users['candidates'] = test_users['user_id'].apply(lambda x: rec_own(recommender, x, N=50))"
   ]
  },
  {
   "cell_type": "code",
   "execution_count": 110,
   "metadata": {},
   "outputs": [],
   "source": [
    "s = test_users.apply(lambda x: pd.Series(x['candidates']), axis=1).stack().reset_index(level=1, drop=True)\n",
    "s.name = 'item_id'\n",
    "s = s.astype(int)"
   ]
  },
  {
   "cell_type": "code",
   "execution_count": 111,
   "metadata": {},
   "outputs": [],
   "source": [
    "test_users = test_users.drop('candidates', axis=1).join(s)\n",
    "test_users['flag'] = 1"
   ]
  },
  {
   "cell_type": "code",
   "execution_count": 112,
   "metadata": {},
   "outputs": [],
   "source": [
    "targets_test = data_val[['user_id', 'item_id']].copy()\n",
    "targets_test['target'] = 1 \n",
    "\n",
    "targets_test = test_users.merge(targets_test, on=['user_id', 'item_id'], how='left')\n",
    "\n",
    "targets_test['target'].fillna(0, inplace= True)\n",
    "targets_test.drop('flag', axis=1, inplace=True)"
   ]
  },
  {
   "cell_type": "code",
   "execution_count": 113,
   "metadata": {},
   "outputs": [],
   "source": [
    "targets_test = targets_test.merge(item_features, on='item_id', how='left')\n",
    "targets_test = targets_test.merge(user_features, on='user_id', how='left')"
   ]
  },
  {
   "cell_type": "code",
   "execution_count": 114,
   "metadata": {},
   "outputs": [],
   "source": [
    "X_test = targets_test.drop('target', axis=1)\n",
    "cat_feats = X_test.columns[2:].tolist()\n",
    "X_test[cat_feats] = X_test[cat_feats].astype('category')"
   ]
  },
  {
   "cell_type": "code",
   "execution_count": 115,
   "metadata": {},
   "outputs": [],
   "source": [
    "test_preds = lgb.predict_proba(X_test)"
   ]
  },
  {
   "cell_type": "code",
   "execution_count": 116,
   "metadata": {},
   "outputs": [
    {
     "data": {
      "text/html": [
       "<div>\n",
       "<style scoped>\n",
       "    .dataframe tbody tr th:only-of-type {\n",
       "        vertical-align: middle;\n",
       "    }\n",
       "\n",
       "    .dataframe tbody tr th {\n",
       "        vertical-align: top;\n",
       "    }\n",
       "\n",
       "    .dataframe thead th {\n",
       "        text-align: right;\n",
       "    }\n",
       "</style>\n",
       "<table border=\"1\" class=\"dataframe\">\n",
       "  <thead>\n",
       "    <tr style=\"text-align: right;\">\n",
       "      <th></th>\n",
       "      <th>user_id</th>\n",
       "      <th>item_id</th>\n",
       "      <th>manufacturer</th>\n",
       "      <th>department</th>\n",
       "      <th>brand</th>\n",
       "      <th>commodity_desc</th>\n",
       "      <th>sub_commodity_desc</th>\n",
       "      <th>curr_size_of_product</th>\n",
       "      <th>age_desc</th>\n",
       "      <th>marital_status_code</th>\n",
       "      <th>income_desc</th>\n",
       "      <th>homeowner_desc</th>\n",
       "      <th>hh_comp_desc</th>\n",
       "      <th>household_size_desc</th>\n",
       "      <th>kid_category_desc</th>\n",
       "      <th>0</th>\n",
       "    </tr>\n",
       "  </thead>\n",
       "  <tbody>\n",
       "    <tr>\n",
       "      <th>40</th>\n",
       "      <td>1340</td>\n",
       "      <td>859075</td>\n",
       "      <td>69</td>\n",
       "      <td>GROCERY</td>\n",
       "      <td>Private</td>\n",
       "      <td>CHEESE</td>\n",
       "      <td>SHREDDED CHEESE</td>\n",
       "      <td>8 OZ</td>\n",
       "      <td>NaN</td>\n",
       "      <td>NaN</td>\n",
       "      <td>NaN</td>\n",
       "      <td>NaN</td>\n",
       "      <td>NaN</td>\n",
       "      <td>NaN</td>\n",
       "      <td>NaN</td>\n",
       "      <td>0.450898</td>\n",
       "    </tr>\n",
       "    <tr>\n",
       "      <th>41</th>\n",
       "      <td>1340</td>\n",
       "      <td>903325</td>\n",
       "      <td>2</td>\n",
       "      <td>PRODUCE</td>\n",
       "      <td>National</td>\n",
       "      <td>BROCCOLI/CAULIFLOWER</td>\n",
       "      <td>BROCCOLI WHOLE&amp;CROWNS</td>\n",
       "      <td></td>\n",
       "      <td>NaN</td>\n",
       "      <td>NaN</td>\n",
       "      <td>NaN</td>\n",
       "      <td>NaN</td>\n",
       "      <td>NaN</td>\n",
       "      <td>NaN</td>\n",
       "      <td>NaN</td>\n",
       "      <td>0.509341</td>\n",
       "    </tr>\n",
       "    <tr>\n",
       "      <th>43</th>\n",
       "      <td>1340</td>\n",
       "      <td>834484</td>\n",
       "      <td>2</td>\n",
       "      <td>PRODUCE</td>\n",
       "      <td>National</td>\n",
       "      <td>ONIONS</td>\n",
       "      <td>ONIONS OTHER</td>\n",
       "      <td>48 CT</td>\n",
       "      <td>NaN</td>\n",
       "      <td>NaN</td>\n",
       "      <td>NaN</td>\n",
       "      <td>NaN</td>\n",
       "      <td>NaN</td>\n",
       "      <td>NaN</td>\n",
       "      <td>NaN</td>\n",
       "      <td>0.478076</td>\n",
       "    </tr>\n",
       "    <tr>\n",
       "      <th>44</th>\n",
       "      <td>1340</td>\n",
       "      <td>1065593</td>\n",
       "      <td>595</td>\n",
       "      <td>GROCERY</td>\n",
       "      <td>National</td>\n",
       "      <td>BATH TISSUES</td>\n",
       "      <td>TOILET TISSUE</td>\n",
       "      <td>83.5 SQ FT</td>\n",
       "      <td>NaN</td>\n",
       "      <td>NaN</td>\n",
       "      <td>NaN</td>\n",
       "      <td>NaN</td>\n",
       "      <td>NaN</td>\n",
       "      <td>NaN</td>\n",
       "      <td>NaN</td>\n",
       "      <td>0.456410</td>\n",
       "    </tr>\n",
       "    <tr>\n",
       "      <th>47</th>\n",
       "      <td>1340</td>\n",
       "      <td>866227</td>\n",
       "      <td>2</td>\n",
       "      <td>PASTRY</td>\n",
       "      <td>National</td>\n",
       "      <td>BREAKFAST SWEETS</td>\n",
       "      <td>SW GDS:DONUTS</td>\n",
       "      <td></td>\n",
       "      <td>NaN</td>\n",
       "      <td>NaN</td>\n",
       "      <td>NaN</td>\n",
       "      <td>NaN</td>\n",
       "      <td>NaN</td>\n",
       "      <td>NaN</td>\n",
       "      <td>NaN</td>\n",
       "      <td>0.457337</td>\n",
       "    </tr>\n",
       "    <tr>\n",
       "      <th>...</th>\n",
       "      <td>...</td>\n",
       "      <td>...</td>\n",
       "      <td>...</td>\n",
       "      <td>...</td>\n",
       "      <td>...</td>\n",
       "      <td>...</td>\n",
       "      <td>...</td>\n",
       "      <td>...</td>\n",
       "      <td>...</td>\n",
       "      <td>...</td>\n",
       "      <td>...</td>\n",
       "      <td>...</td>\n",
       "      <td>...</td>\n",
       "      <td>...</td>\n",
       "      <td>...</td>\n",
       "      <td>...</td>\n",
       "    </tr>\n",
       "    <tr>\n",
       "      <th>266221</th>\n",
       "      <td>247</td>\n",
       "      <td>878996</td>\n",
       "      <td>2</td>\n",
       "      <td>PRODUCE</td>\n",
       "      <td>National</td>\n",
       "      <td>GRAPES</td>\n",
       "      <td>GRAPES RED</td>\n",
       "      <td>18 LB</td>\n",
       "      <td>NaN</td>\n",
       "      <td>NaN</td>\n",
       "      <td>NaN</td>\n",
       "      <td>NaN</td>\n",
       "      <td>NaN</td>\n",
       "      <td>NaN</td>\n",
       "      <td>NaN</td>\n",
       "      <td>0.561688</td>\n",
       "    </tr>\n",
       "    <tr>\n",
       "      <th>266224</th>\n",
       "      <td>247</td>\n",
       "      <td>859075</td>\n",
       "      <td>69</td>\n",
       "      <td>GROCERY</td>\n",
       "      <td>Private</td>\n",
       "      <td>CHEESE</td>\n",
       "      <td>SHREDDED CHEESE</td>\n",
       "      <td>8 OZ</td>\n",
       "      <td>NaN</td>\n",
       "      <td>NaN</td>\n",
       "      <td>NaN</td>\n",
       "      <td>NaN</td>\n",
       "      <td>NaN</td>\n",
       "      <td>NaN</td>\n",
       "      <td>NaN</td>\n",
       "      <td>0.552926</td>\n",
       "    </tr>\n",
       "    <tr>\n",
       "      <th>266225</th>\n",
       "      <td>247</td>\n",
       "      <td>903325</td>\n",
       "      <td>2</td>\n",
       "      <td>PRODUCE</td>\n",
       "      <td>National</td>\n",
       "      <td>BROCCOLI/CAULIFLOWER</td>\n",
       "      <td>BROCCOLI WHOLE&amp;CROWNS</td>\n",
       "      <td></td>\n",
       "      <td>NaN</td>\n",
       "      <td>NaN</td>\n",
       "      <td>NaN</td>\n",
       "      <td>NaN</td>\n",
       "      <td>NaN</td>\n",
       "      <td>NaN</td>\n",
       "      <td>NaN</td>\n",
       "      <td>0.633371</td>\n",
       "    </tr>\n",
       "    <tr>\n",
       "      <th>266227</th>\n",
       "      <td>247</td>\n",
       "      <td>834484</td>\n",
       "      <td>2</td>\n",
       "      <td>PRODUCE</td>\n",
       "      <td>National</td>\n",
       "      <td>ONIONS</td>\n",
       "      <td>ONIONS OTHER</td>\n",
       "      <td>48 CT</td>\n",
       "      <td>NaN</td>\n",
       "      <td>NaN</td>\n",
       "      <td>NaN</td>\n",
       "      <td>NaN</td>\n",
       "      <td>NaN</td>\n",
       "      <td>NaN</td>\n",
       "      <td>NaN</td>\n",
       "      <td>0.560597</td>\n",
       "    </tr>\n",
       "    <tr>\n",
       "      <th>266228</th>\n",
       "      <td>247</td>\n",
       "      <td>1065593</td>\n",
       "      <td>595</td>\n",
       "      <td>GROCERY</td>\n",
       "      <td>National</td>\n",
       "      <td>BATH TISSUES</td>\n",
       "      <td>TOILET TISSUE</td>\n",
       "      <td>83.5 SQ FT</td>\n",
       "      <td>NaN</td>\n",
       "      <td>NaN</td>\n",
       "      <td>NaN</td>\n",
       "      <td>NaN</td>\n",
       "      <td>NaN</td>\n",
       "      <td>NaN</td>\n",
       "      <td>NaN</td>\n",
       "      <td>0.551346</td>\n",
       "    </tr>\n",
       "  </tbody>\n",
       "</table>\n",
       "<p>9422 rows × 16 columns</p>\n",
       "</div>"
      ],
      "text/plain": [
       "        user_id  item_id manufacturer department     brand  \\\n",
       "40         1340   859075           69    GROCERY   Private   \n",
       "41         1340   903325            2    PRODUCE  National   \n",
       "43         1340   834484            2    PRODUCE  National   \n",
       "44         1340  1065593          595    GROCERY  National   \n",
       "47         1340   866227            2     PASTRY  National   \n",
       "...         ...      ...          ...        ...       ...   \n",
       "266221      247   878996            2    PRODUCE  National   \n",
       "266224      247   859075           69    GROCERY   Private   \n",
       "266225      247   903325            2    PRODUCE  National   \n",
       "266227      247   834484            2    PRODUCE  National   \n",
       "266228      247  1065593          595    GROCERY  National   \n",
       "\n",
       "              commodity_desc     sub_commodity_desc curr_size_of_product  \\\n",
       "40                    CHEESE        SHREDDED CHEESE                 8 OZ   \n",
       "41      BROCCOLI/CAULIFLOWER  BROCCOLI WHOLE&CROWNS                        \n",
       "43                    ONIONS           ONIONS OTHER                48 CT   \n",
       "44              BATH TISSUES          TOILET TISSUE           83.5 SQ FT   \n",
       "47          BREAKFAST SWEETS          SW GDS:DONUTS                        \n",
       "...                      ...                    ...                  ...   \n",
       "266221                GRAPES             GRAPES RED                18 LB   \n",
       "266224                CHEESE        SHREDDED CHEESE                 8 OZ   \n",
       "266225  BROCCOLI/CAULIFLOWER  BROCCOLI WHOLE&CROWNS                        \n",
       "266227                ONIONS           ONIONS OTHER                48 CT   \n",
       "266228          BATH TISSUES          TOILET TISSUE           83.5 SQ FT   \n",
       "\n",
       "       age_desc marital_status_code income_desc homeowner_desc hh_comp_desc  \\\n",
       "40          NaN                 NaN         NaN            NaN          NaN   \n",
       "41          NaN                 NaN         NaN            NaN          NaN   \n",
       "43          NaN                 NaN         NaN            NaN          NaN   \n",
       "44          NaN                 NaN         NaN            NaN          NaN   \n",
       "47          NaN                 NaN         NaN            NaN          NaN   \n",
       "...         ...                 ...         ...            ...          ...   \n",
       "266221      NaN                 NaN         NaN            NaN          NaN   \n",
       "266224      NaN                 NaN         NaN            NaN          NaN   \n",
       "266225      NaN                 NaN         NaN            NaN          NaN   \n",
       "266227      NaN                 NaN         NaN            NaN          NaN   \n",
       "266228      NaN                 NaN         NaN            NaN          NaN   \n",
       "\n",
       "       household_size_desc kid_category_desc         0  \n",
       "40                     NaN               NaN  0.450898  \n",
       "41                     NaN               NaN  0.509341  \n",
       "43                     NaN               NaN  0.478076  \n",
       "44                     NaN               NaN  0.456410  \n",
       "47                     NaN               NaN  0.457337  \n",
       "...                    ...               ...       ...  \n",
       "266221                 NaN               NaN  0.561688  \n",
       "266224                 NaN               NaN  0.552926  \n",
       "266225                 NaN               NaN  0.633371  \n",
       "266227                 NaN               NaN  0.560597  \n",
       "266228                 NaN               NaN  0.551346  \n",
       "\n",
       "[9422 rows x 16 columns]"
      ]
     },
     "execution_count": 116,
     "metadata": {},
     "output_type": "execute_result"
    }
   ],
   "source": [
    "result_test = pd.concat([X_test, pd.DataFrame(test_preds)[0]], axis=1)\n",
    "result_test = result_test.drop_duplicates()\n",
    "result_test = result_test[result_test.groupby('user_id')[0].rank(ascending=False) <= 5]\n",
    "result_test"
   ]
  },
  {
   "cell_type": "code",
   "execution_count": 117,
   "metadata": {},
   "outputs": [],
   "source": [
    "result_test = result_test.groupby('user_id')['item_id'].unique().reset_index()\n",
    "result_test = result_test.rename(columns={'item_id': 'recs'})"
   ]
  },
  {
   "cell_type": "code",
   "execution_count": 118,
   "metadata": {},
   "outputs": [],
   "source": [
    "result_test = pd.concat([result, result_test['recs']], axis=1)"
   ]
  },
  {
   "cell_type": "code",
   "execution_count": 119,
   "metadata": {},
   "outputs": [
    {
     "data": {
      "text/plain": [
       "0.0517771883289128"
      ]
     },
     "execution_count": 119,
     "metadata": {},
     "output_type": "execute_result"
    }
   ],
   "source": [
    "result_test.apply(lambda row: precision_at_k(row['recs'], row['actual']), axis=1).mean()"
   ]
  },
  {
   "cell_type": "markdown",
   "metadata": {},
   "source": [
    "##### В общем ничего путного не получилось со второй моделью. Так что оставляем первый вариант..."
   ]
  },
  {
   "cell_type": "code",
   "execution_count": 120,
   "metadata": {},
   "outputs": [
    {
     "data": {
      "text/plain": [
       "0.2566578249336848"
      ]
     },
     "execution_count": 120,
     "metadata": {},
     "output_type": "execute_result"
    }
   ],
   "source": [
    "result.apply(lambda row: precision_at_k(row['get_own_recommendations'], row['actual']), axis=1).mean()"
   ]
  },
  {
   "cell_type": "code",
   "execution_count": 136,
   "metadata": {},
   "outputs": [],
   "source": [
    "csv_res = result[['user_id', 'get_own_recommendations']].copy().set_index('user_id').rename(columns={'get_own_recommendations': 'recommendations'})"
   ]
  },
  {
   "cell_type": "code",
   "execution_count": 137,
   "metadata": {},
   "outputs": [],
   "source": [
    "csv_res.to_csv('recommendations.csv')"
   ]
  }
 ],
 "metadata": {
  "colab": {
   "name": "hw_webinar_6.ipynb",
   "provenance": []
  },
  "kernelspec": {
   "display_name": "Python 3",
   "language": "python",
   "name": "python3"
  },
  "language_info": {
   "codemirror_mode": {
    "name": "ipython",
    "version": 3
   },
   "file_extension": ".py",
   "mimetype": "text/x-python",
   "name": "python",
   "nbconvert_exporter": "python",
   "pygments_lexer": "ipython3",
   "version": "3.8.8"
  }
 },
 "nbformat": 4,
 "nbformat_minor": 1
}
