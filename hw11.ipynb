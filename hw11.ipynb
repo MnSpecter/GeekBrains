{
 "cells": [
  {
   "cell_type": "markdown",
   "metadata": {},
   "source": [
    "# Тема \"Перевод с механизмом внимания\""
   ]
  },
  {
   "cell_type": "markdown",
   "metadata": {},
   "source": [
    "Разобраться с моделькой перевода (с механизмом внимания) как она устроена, запустить для перевода с русского на английский (при желании можно взять другие пары языков)"
   ]
  },
  {
   "cell_type": "markdown",
   "metadata": {
    "id": "J0Qjg6vuaHNt"
   },
   "source": [
    "# Neural machine translation with attention"
   ]
  },
  {
   "cell_type": "code",
   "execution_count": 1,
   "metadata": {
    "id": "tnxXKDjq3jEL"
   },
   "outputs": [],
   "source": [
    "import tensorflow as tf\n",
    "\n",
    "import matplotlib.pyplot as plt\n",
    "import matplotlib.ticker as ticker\n",
    "from sklearn.model_selection import train_test_split\n",
    "\n",
    "import unicodedata\n",
    "import re\n",
    "import numpy as np\n",
    "import os\n",
    "import io\n",
    "import time"
   ]
  },
  {
   "cell_type": "code",
   "execution_count": 2,
   "metadata": {},
   "outputs": [
    {
     "name": "stdout",
     "output_type": "stream",
     "text": [
      "есть ли доступные GPU: \n",
      "[PhysicalDevice(name='/physical_device:GPU:0', device_type='GPU')]\n",
      "тензор на GPU #0:  \n",
      "True\n"
     ]
    }
   ],
   "source": [
    "x = tf.random.uniform([3, 3])\n",
    "\n",
    "print(\"есть ли доступные GPU: \")\n",
    "print(tf.config.experimental.list_physical_devices(\"GPU\"))\n",
    "\n",
    "\n",
    "print(\"тензор на GPU #0:  \"),\n",
    "print(x.device.endswith('GPU:0'))"
   ]
  },
  {
   "cell_type": "code",
   "execution_count": 3,
   "metadata": {},
   "outputs": [
    {
     "name": "stdout",
     "output_type": "stream",
     "text": [
      " CPU работает:\n",
      "10 циклов: 57.85ms\n",
      " какой GPU:\n",
      "10 циклов: 431.84ms\n"
     ]
    }
   ],
   "source": [
    "def time_matmul(x):\n",
    "  start = time.time()\n",
    "  for loop in range(10):\n",
    "    tf.matmul(x, x)\n",
    "\n",
    "  result = time.time()-start\n",
    "\n",
    "  print(\"10 циклов: {:0.2f}ms\".format(1000*result))\n",
    "\n",
    "# исполнение CPU\n",
    "print(\" CPU работает:\")\n",
    "with tf.device(\"CPU:0\"):\n",
    "  x = tf.random.uniform([1000, 1000])\n",
    "  assert x.device.endswith(\"CPU:0\")\n",
    "  time_matmul(x)\n",
    "\n",
    "# исполнение на GPU #0 , если доступен\n",
    "if tf.config.experimental.list_physical_devices(\"GPU\"):\n",
    "  print(\" какой GPU:\")\n",
    "  with tf.device(\"GPU:0\"): # или GPU:1 , для 2х GPU, GPU:2 для 3х  и т.д.\n",
    "    x = tf.random.uniform([1000, 1000])\n",
    "    assert x.device.endswith(\"GPU:0\")\n",
    "    time_matmul(x)"
   ]
  },
  {
   "cell_type": "markdown",
   "metadata": {
    "id": "wfodePkj3jEa"
   },
   "source": [
    "## Download and prepare the dataset\n",
    "\n",
    "We'll use a language dataset provided by http://www.manythings.org/anki/"
   ]
  },
  {
   "cell_type": "code",
   "execution_count": 4,
   "metadata": {
    "id": "kRVATYOgJs1b"
   },
   "outputs": [],
   "source": [
    "# Download the file\n",
    "path_to_file = \"rus-eng/rus.txt\""
   ]
  },
  {
   "cell_type": "code",
   "execution_count": 5,
   "metadata": {
    "id": "rd0jw-eC3jEh"
   },
   "outputs": [],
   "source": [
    "def preprocess_sentence(w):\n",
    "  w = w.lower().strip()\n",
    "\n",
    "  # creating a space between a word and the punctuation following it\n",
    "  # eg: \"he is a boy.\" => \"he is a boy .\"\n",
    "  # Reference:- https://stackoverflow.com/questions/3645931/python-padding-punctuation-with-white-spaces-keeping-punctuation\n",
    "  w = re.sub(r\"([?.!,])\", r\" \\1 \", w)\n",
    "  w = re.sub(r'[\" \"]+', \" \", w)\n",
    "\n",
    "  # replacing everything with space except (a-z, A-Z, \".\", \"?\", \"!\", \",\")\n",
    "  w = re.sub(r\"[^a-zA-Zа-яА-Я?.!,']+\", \" \", w)\n",
    "\n",
    "  w = w.strip()\n",
    "\n",
    "  # adding a start and an end token to the sentence\n",
    "  # so that the model know when to start and stop predicting.\n",
    "  w = '<start> ' + w + ' <end>'\n",
    "  return w"
   ]
  },
  {
   "cell_type": "code",
   "execution_count": 6,
   "metadata": {
    "colab": {
     "base_uri": "https://localhost:8080/",
     "height": 35
    },
    "id": "yV9lZXQXNbnH",
    "outputId": "62abb77d-47e0-4640-9d96-2ae53f702131"
   },
   "outputs": [
    {
     "data": {
      "text/plain": [
       "\"<start> i can't go . <end>\""
      ]
     },
     "execution_count": 6,
     "metadata": {},
     "output_type": "execute_result"
    }
   ],
   "source": [
    "preprocess_sentence(\"I can't go.\")"
   ]
  },
  {
   "cell_type": "code",
   "execution_count": 7,
   "metadata": {
    "id": "OHn4Dct23jEm"
   },
   "outputs": [],
   "source": [
    "# 1. Remove the accents\n",
    "# 2. Clean the sentences\n",
    "# 3. Return word pairs in the format: [ENG, RUS]\n",
    "def create_dataset(path, num_examples):\n",
    "  lines = io.open(path, encoding='UTF-8').read().strip().split('\\n')\n",
    "\n",
    "  word_pairs = [[preprocess_sentence(w) for w in l.split('\\t')[:2]]  for l in lines[:num_examples]]\n",
    "\n",
    "  return zip(*word_pairs)"
   ]
  },
  {
   "cell_type": "code",
   "execution_count": 8,
   "metadata": {
    "colab": {
     "base_uri": "https://localhost:8080/"
    },
    "id": "cTbSbBz55QtF",
    "outputId": "a6d817af-c6cc-4fcf-b6fd-3ef49cda2a27"
   },
   "outputs": [
    {
     "name": "stdout",
     "output_type": "stream",
     "text": [
      "<start> doubtless there exists in this world precisely the right woman for any given man to marry and vice versa but when you consider that a human being has the opportunity of being acquainted with only a few hundred people , and out of the few hundred that there are but a dozen or less whom he knows intimately , and out of the dozen , one or two friends at most , it will easily be seen , when we remember the number of millions who inhabit this world , that probably , since the earth was created , the right man has never yet met the right woman . <end>\n",
      "<start> несомненно , для каждого мужчины в этом мире где то есть подходящая женщина , которая может стать ему женой , обратное верно и для женщин . но если учесть , что у человека может быть максимум несколько сотен знакомых , из которых лишь дюжина , а то и меньше , тех , кого он знает близко , а из этой дюжины у него один или от силы два друга , то можно легко увидеть , что с уч том миллионов живущих на земле людей , ни один подходящий мужчина , возможно , ещ не встретил подходящую женщину . <end>\n"
     ]
    }
   ],
   "source": [
    "en, ru = create_dataset(path_to_file, None)\n",
    "print(en[-1])\n",
    "print(ru[-1])"
   ]
  },
  {
   "cell_type": "code",
   "execution_count": 9,
   "metadata": {
    "id": "bIOn8RCNDJXG"
   },
   "outputs": [],
   "source": [
    "def tokenize(lang):\n",
    "  lang_tokenizer = tf.keras.preprocessing.text.Tokenizer(\n",
    "      filters='')\n",
    "  lang_tokenizer.fit_on_texts(lang)\n",
    "\n",
    "  tensor = lang_tokenizer.texts_to_sequences(lang)\n",
    "\n",
    "  tensor = tf.keras.preprocessing.sequence.pad_sequences(tensor,\n",
    "                                                         padding='post')\n",
    "\n",
    "  return tensor, lang_tokenizer"
   ]
  },
  {
   "cell_type": "code",
   "execution_count": 10,
   "metadata": {
    "id": "eAY9k49G3jE_"
   },
   "outputs": [],
   "source": [
    "def load_dataset(path, num_examples=None):\n",
    "  # creating cleaned input, output pairs\n",
    "  targ_lang, inp_lang = create_dataset(path, num_examples)\n",
    "\n",
    "  input_tensor, inp_lang_tokenizer = tokenize(inp_lang)\n",
    "  target_tensor, targ_lang_tokenizer = tokenize(targ_lang)\n",
    "\n",
    "  return input_tensor, target_tensor, inp_lang_tokenizer, targ_lang_tokenizer"
   ]
  },
  {
   "cell_type": "markdown",
   "metadata": {
    "id": "GOi42V79Ydlr"
   },
   "source": [
    "### Limit the size of the dataset to experiment faster (optional)\n"
   ]
  },
  {
   "cell_type": "code",
   "execution_count": 11,
   "metadata": {
    "colab": {
     "base_uri": "https://localhost:8080/"
    },
    "id": "C8j9g9AnIeZV",
    "outputId": "2ef267ad-0118-4a27-c6fe-700538dce395"
   },
   "outputs": [
    {
     "data": {
      "text/plain": [
       "(451436, 451436)"
      ]
     },
     "execution_count": 11,
     "metadata": {},
     "output_type": "execute_result"
    }
   ],
   "source": [
    "len(en), len(ru)"
   ]
  },
  {
   "cell_type": "code",
   "execution_count": 12,
   "metadata": {
    "id": "cnxC7q-j3jFD"
   },
   "outputs": [],
   "source": [
    "# Try experimenting with the size of that dataset\n",
    "num_examples = 100000\n",
    "input_tensor, target_tensor, inp_lang, targ_lang = load_dataset(path_to_file, num_examples)\n",
    "\n",
    "# Calculate max_length of the target tensors\n",
    "max_length_targ, max_length_inp = target_tensor.shape[1], input_tensor.shape[1]"
   ]
  },
  {
   "cell_type": "code",
   "execution_count": 13,
   "metadata": {
    "colab": {
     "base_uri": "https://localhost:8080/"
    },
    "id": "4QILQkOs3jFG",
    "outputId": "6080cf0b-ce7a-41da-fdff-cff002d0e4da"
   },
   "outputs": [
    {
     "name": "stdout",
     "output_type": "stream",
     "text": [
      "80000 80000 20000 20000\n"
     ]
    }
   ],
   "source": [
    "# Creating training and validation sets using an 80-20 split\n",
    "input_tensor_train, input_tensor_val, target_tensor_train, target_tensor_val = train_test_split(input_tensor, target_tensor, test_size=0.2)\n",
    "\n",
    "# Show length\n",
    "print(len(input_tensor_train), len(target_tensor_train), len(input_tensor_val), len(target_tensor_val))"
   ]
  },
  {
   "cell_type": "code",
   "execution_count": 14,
   "metadata": {
    "id": "lJPmLZGMeD5q"
   },
   "outputs": [],
   "source": [
    "def convert(lang, tensor):\n",
    "  for t in tensor:\n",
    "    if t!=0:\n",
    "      print (\"%d ----> %s\" % (t, lang.index_word[t]))"
   ]
  },
  {
   "cell_type": "code",
   "execution_count": 15,
   "metadata": {
    "colab": {
     "base_uri": "https://localhost:8080/"
    },
    "id": "VXukARTDd7MT",
    "outputId": "341e28ce-7ca5-4f66-e751-157f5bbaa276"
   },
   "outputs": [
    {
     "name": "stdout",
     "output_type": "stream",
     "text": [
      "Input Language; index to word mapping\n",
      "1 ----> <start>\n",
      "4 ----> я\n",
      "2969 ----> встретился\n",
      "94 ----> сегодня\n",
      "22 ----> с\n",
      "61 ----> томом\n",
      "3 ----> .\n",
      "2 ----> <end>\n",
      "\n",
      "Target Language; index to word mapping\n",
      "1 ----> <start>\n",
      "4 ----> i\n",
      "328 ----> met\n",
      "68 ----> with\n",
      "5 ----> tom\n",
      "152 ----> today\n",
      "3 ----> .\n",
      "2 ----> <end>\n"
     ]
    }
   ],
   "source": [
    "print (\"Input Language; index to word mapping\")\n",
    "convert(inp_lang, input_tensor_train[0])\n",
    "print ()\n",
    "print (\"Target Language; index to word mapping\")\n",
    "convert(targ_lang, target_tensor_train[0])"
   ]
  },
  {
   "cell_type": "markdown",
   "metadata": {
    "id": "rgCLkfv5uO3d"
   },
   "source": [
    "### Create a tf.data dataset"
   ]
  },
  {
   "cell_type": "code",
   "execution_count": 16,
   "metadata": {
    "id": "TqHsArVZ3jFS"
   },
   "outputs": [],
   "source": [
    "BUFFER_SIZE = len(input_tensor_train)\n",
    "BATCH_SIZE = 64\n",
    "steps_per_epoch = len(input_tensor_train)//BATCH_SIZE\n",
    "embedding_dim = 256\n",
    "units = 1024\n",
    "vocab_inp_size = len(inp_lang.word_index)+1\n",
    "vocab_tar_size = len(targ_lang.word_index)+1\n",
    "\n",
    "dataset = tf.data.Dataset.from_tensor_slices((input_tensor_train, target_tensor_train)).shuffle(BUFFER_SIZE)\n",
    "dataset = dataset.batch(BATCH_SIZE, drop_remainder=True)"
   ]
  },
  {
   "cell_type": "code",
   "execution_count": 17,
   "metadata": {
    "colab": {
     "base_uri": "https://localhost:8080/"
    },
    "id": "qc6-NK1GtWQt",
    "outputId": "119b41d0-fae4-4422-cc8e-ce6a758be16d"
   },
   "outputs": [
    {
     "data": {
      "text/plain": [
       "(TensorShape([64, 15]), TensorShape([64, 11]))"
      ]
     },
     "execution_count": 17,
     "metadata": {},
     "output_type": "execute_result"
    }
   ],
   "source": [
    "example_input_batch, example_target_batch = next(iter(dataset))\n",
    "example_input_batch.shape, example_target_batch.shape"
   ]
  },
  {
   "cell_type": "code",
   "execution_count": 18,
   "metadata": {
    "id": "nZ2rI24i3jFg"
   },
   "outputs": [],
   "source": [
    "class Encoder(tf.keras.Model):\n",
    "  def __init__(self, vocab_size, embedding_dim, enc_units, batch_sz):\n",
    "    super(Encoder, self).__init__()\n",
    "    self.batch_sz = batch_sz\n",
    "    self.enc_units = enc_units\n",
    "    self.embedding = tf.keras.layers.Embedding(vocab_size, embedding_dim)\n",
    "    self.gru = tf.keras.layers.GRU(self.enc_units,\n",
    "                                   return_sequences=True,\n",
    "                                   return_state=True,\n",
    "                                   recurrent_initializer='glorot_uniform')\n",
    "\n",
    "  def call(self, x, hidden):\n",
    "    x = self.embedding(x)\n",
    "    output, state = self.gru(x, initial_state = hidden)\n",
    "    return output, state\n",
    "\n",
    "  def initialize_hidden_state(self):\n",
    "    return tf.zeros((self.batch_sz, self.enc_units))"
   ]
  },
  {
   "cell_type": "code",
   "execution_count": 19,
   "metadata": {
    "colab": {
     "base_uri": "https://localhost:8080/"
    },
    "id": "60gSVh05Jl6l",
    "outputId": "5b654acc-f67d-4357-b000-fdde32228982"
   },
   "outputs": [
    {
     "name": "stdout",
     "output_type": "stream",
     "text": [
      "Encoder output shape: (batch size, sequence length, units) (64, 15, 1024)\n",
      "Encoder Hidden state shape: (batch size, units) (64, 1024)\n"
     ]
    }
   ],
   "source": [
    "encoder = Encoder(vocab_inp_size, embedding_dim, units, BATCH_SIZE)\n",
    "\n",
    "# sample input\n",
    "sample_hidden = encoder.initialize_hidden_state()\n",
    "sample_output, sample_hidden = encoder(example_input_batch, sample_hidden)\n",
    "print ('Encoder output shape: (batch size, sequence length, units) {}'.format(sample_output.shape))\n",
    "print ('Encoder Hidden state shape: (batch size, units) {}'.format(sample_hidden.shape))"
   ]
  },
  {
   "cell_type": "code",
   "execution_count": 20,
   "metadata": {
    "id": "YTyhL28Niqk1"
   },
   "outputs": [],
   "source": [
    "class BahdanauAttention(tf.keras.layers.Layer):\n",
    "  def __init__(self, units):\n",
    "    super(BahdanauAttention, self).__init__()\n",
    "    self.W1 = tf.keras.layers.Dense(units)\n",
    "    self.W2 = tf.keras.layers.Dense(units)\n",
    "    self.V = tf.keras.layers.Dense(1)\n",
    "\n",
    "  def call(self, query, values):\n",
    "    # query hidden state shape == (batch_size, hidden size)\n",
    "    # query_with_time_axis shape == (batch_size, 1, hidden size)\n",
    "    # values shape == (batch_size, max_len, hidden size)\n",
    "    # we are doing this to broadcast addition along the time axis to calculate the score\n",
    "    query_with_time_axis = tf.expand_dims(query, 1)\n",
    "\n",
    "    # score shape == (batch_size, max_length, 1)\n",
    "    # we get 1 at the last axis because we are applying score to self.V\n",
    "    # the shape of the tensor before applying self.V is (batch_size, max_length, units)\n",
    "    score = self.V(tf.nn.tanh(\n",
    "        self.W1(query_with_time_axis) + self.W2(values)))\n",
    "\n",
    "    # attention_weights shape == (batch_size, max_length, 1)\n",
    "    attention_weights = tf.nn.softmax(score, axis=1)\n",
    "\n",
    "    # context_vector shape after sum == (batch_size, hidden_size)\n",
    "    context_vector = attention_weights * values\n",
    "    context_vector = tf.reduce_sum(context_vector, axis=1)\n",
    "\n",
    "    return context_vector, attention_weights"
   ]
  },
  {
   "cell_type": "code",
   "execution_count": 21,
   "metadata": {
    "colab": {
     "base_uri": "https://localhost:8080/"
    },
    "id": "XUqssWcci1XJ",
    "outputId": "607dc7d5-fa08-4d88-9935-ce76fc101464"
   },
   "outputs": [
    {
     "name": "stdout",
     "output_type": "stream",
     "text": [
      "Attention result shape: (batch size, units) (64, 1024)\n",
      "Attention weights shape: (batch_size, sequence_length, 1) (64, 15, 1)\n"
     ]
    }
   ],
   "source": [
    "attention_layer = BahdanauAttention(10)\n",
    "attention_result, attention_weights = attention_layer(sample_hidden, sample_output)\n",
    "\n",
    "print(\"Attention result shape: (batch size, units) {}\".format(attention_result.shape))\n",
    "print(\"Attention weights shape: (batch_size, sequence_length, 1) {}\".format(attention_weights.shape))"
   ]
  },
  {
   "cell_type": "code",
   "execution_count": 22,
   "metadata": {
    "id": "yJ_B3mhW3jFk"
   },
   "outputs": [],
   "source": [
    "class Decoder(tf.keras.Model):\n",
    "  def __init__(self, vocab_size, embedding_dim, dec_units, batch_sz):\n",
    "    super(Decoder, self).__init__()\n",
    "    self.batch_sz = batch_sz\n",
    "    self.dec_units = dec_units\n",
    "    self.embedding = tf.keras.layers.Embedding(vocab_size, embedding_dim)\n",
    "    self.gru = tf.keras.layers.GRU(self.dec_units,\n",
    "                                   return_sequences=True,\n",
    "                                   return_state=True,\n",
    "                                   recurrent_initializer='glorot_uniform')\n",
    "    self.fc = tf.keras.layers.Dense(vocab_size)\n",
    "\n",
    "    # used for attention\n",
    "    self.attention = BahdanauAttention(self.dec_units)\n",
    "\n",
    "  def call(self, x, hidden, enc_output):\n",
    "    # enc_output shape == (batch_size, max_length, hidden_size)\n",
    "    context_vector, attention_weights = self.attention(hidden, enc_output)\n",
    "\n",
    "    # x shape after passing through embedding == (batch_size, 1, embedding_dim)\n",
    "    x = self.embedding(x)\n",
    "\n",
    "    # x shape after concatenation == (batch_size, 1, embedding_dim + hidden_size)\n",
    "    x = tf.concat([tf.expand_dims(context_vector, 1), x], axis=-1)\n",
    "\n",
    "    # passing the concatenated vector to the GRU\n",
    "    output, state = self.gru(x)\n",
    "\n",
    "    # output shape == (batch_size * 1, hidden_size)\n",
    "    output = tf.reshape(output, (-1, output.shape[2]))\n",
    "\n",
    "    # output shape == (batch_size, vocab)\n",
    "    x = self.fc(output)\n",
    "\n",
    "    return x, state, attention_weights"
   ]
  },
  {
   "cell_type": "code",
   "execution_count": 23,
   "metadata": {
    "colab": {
     "base_uri": "https://localhost:8080/"
    },
    "id": "P5UY8wko3jFp",
    "outputId": "e8cb3233-c781-4016-8f6d-9ba936848a51"
   },
   "outputs": [
    {
     "name": "stdout",
     "output_type": "stream",
     "text": [
      "Decoder output shape: (batch_size, vocab size) (64, 7335)\n"
     ]
    }
   ],
   "source": [
    "decoder = Decoder(vocab_tar_size, embedding_dim, units, BATCH_SIZE)\n",
    "\n",
    "sample_decoder_output, _, _ = decoder(tf.random.uniform((BATCH_SIZE, 1)),\n",
    "                                      sample_hidden, sample_output)\n",
    "\n",
    "print ('Decoder output shape: (batch_size, vocab size) {}'.format(sample_decoder_output.shape))"
   ]
  },
  {
   "cell_type": "markdown",
   "metadata": {
    "id": "_ch_71VbIRfK"
   },
   "source": [
    "## Define the optimizer and the loss function"
   ]
  },
  {
   "cell_type": "code",
   "execution_count": 24,
   "metadata": {
    "id": "WmTHr5iV3jFr"
   },
   "outputs": [],
   "source": [
    "optimizer = tf.keras.optimizers.Adam()\n",
    "loss_object = tf.keras.losses.SparseCategoricalCrossentropy(\n",
    "    from_logits=True, reduction='none')\n",
    "\n",
    "def loss_function(real, pred):\n",
    "  mask = tf.math.logical_not(tf.math.equal(real, 0))\n",
    "  loss_ = loss_object(real, pred)\n",
    "\n",
    "  mask = tf.cast(mask, dtype=loss_.dtype)\n",
    "  loss_ *= mask\n",
    "\n",
    "  return tf.reduce_mean(loss_)"
   ]
  },
  {
   "cell_type": "markdown",
   "metadata": {
    "id": "DMVWzzsfNl4e"
   },
   "source": [
    "## Checkpoints (Object-based saving)"
   ]
  },
  {
   "cell_type": "code",
   "execution_count": 25,
   "metadata": {
    "id": "Zj8bXQTgNwrF"
   },
   "outputs": [],
   "source": [
    "checkpoint_dir = './training_attention_checkpoints'\n",
    "checkpoint_prefix = os.path.join(checkpoint_dir, \"ckpt\")\n",
    "checkpoint = tf.train.Checkpoint(optimizer=optimizer,\n",
    "                                 encoder=encoder,\n",
    "                                 decoder=decoder)"
   ]
  },
  {
   "cell_type": "code",
   "execution_count": 26,
   "metadata": {
    "id": "sC9ArXSsVfqn"
   },
   "outputs": [],
   "source": [
    "@tf.function\n",
    "def train_step(inp, targ, enc_hidden):\n",
    "  loss = 0\n",
    "\n",
    "  with tf.GradientTape() as tape:\n",
    "    enc_output, enc_hidden = encoder(inp, enc_hidden)\n",
    "\n",
    "    dec_hidden = enc_hidden\n",
    "\n",
    "    dec_input = tf.expand_dims([targ_lang.word_index['<start>']] * BATCH_SIZE, 1)\n",
    "\n",
    "    # Teacher forcing - feeding the target as the next input\n",
    "    for t in range(1, targ.shape[1]):\n",
    "      # passing enc_output to the decoder\n",
    "      predictions, dec_hidden, _ = decoder(dec_input, dec_hidden, enc_output)\n",
    "\n",
    "      loss += loss_function(targ[:, t], predictions)\n",
    "\n",
    "      # using teacher forcing\n",
    "      dec_input = tf.expand_dims(targ[:, t], 1)\n",
    "\n",
    "  batch_loss = (loss / int(targ.shape[1]))\n",
    "\n",
    "  variables = encoder.trainable_variables + decoder.trainable_variables\n",
    "\n",
    "  gradients = tape.gradient(loss, variables)\n",
    "\n",
    "  optimizer.apply_gradients(zip(gradients, variables))\n",
    "\n",
    "  return batch_loss"
   ]
  },
  {
   "cell_type": "code",
   "execution_count": 27,
   "metadata": {
    "colab": {
     "base_uri": "https://localhost:8080/",
     "height": 1000
    },
    "id": "ddefjBMa3jF0",
    "outputId": "18129808-55c4-4935-869b-ad5fa8f4de43"
   },
   "outputs": [
    {
     "name": "stdout",
     "output_type": "stream",
     "text": [
      "Epoch 1 Batch 0 Loss 4.8040\n",
      "Epoch 1 Batch 100 Loss 2.1609\n",
      "Epoch 1 Batch 200 Loss 1.8484\n",
      "Epoch 1 Batch 300 Loss 1.7003\n",
      "Epoch 1 Batch 400 Loss 1.5346\n",
      "Epoch 1 Batch 500 Loss 1.4042\n",
      "Epoch 1 Batch 600 Loss 1.3242\n",
      "Epoch 1 Batch 700 Loss 1.2201\n",
      "Epoch 1 Batch 800 Loss 1.0941\n",
      "Epoch 1 Batch 900 Loss 1.1587\n",
      "Epoch 1 Batch 1000 Loss 1.0421\n",
      "Epoch 1 Batch 1100 Loss 1.0948\n",
      "Epoch 1 Batch 1200 Loss 0.9122\n",
      "Epoch 1 Loss 1.4478\n",
      "Time taken for 1 epoch 85.08288359642029 sec\n",
      "\n",
      "Epoch 2 Batch 0 Loss 0.7787\n",
      "Epoch 2 Batch 100 Loss 0.7776\n",
      "Epoch 2 Batch 200 Loss 0.7056\n",
      "Epoch 2 Batch 300 Loss 0.8278\n",
      "Epoch 2 Batch 400 Loss 0.8695\n",
      "Epoch 2 Batch 500 Loss 0.7766\n",
      "Epoch 2 Batch 600 Loss 0.6370\n",
      "Epoch 2 Batch 700 Loss 0.7426\n",
      "Epoch 2 Batch 800 Loss 0.6609\n",
      "Epoch 2 Batch 900 Loss 0.6658\n",
      "Epoch 2 Batch 1000 Loss 0.5663\n",
      "Epoch 2 Batch 1100 Loss 0.5124\n",
      "Epoch 2 Batch 1200 Loss 0.5337\n",
      "Epoch 2 Loss 0.6725\n",
      "Time taken for 1 epoch 76.30036473274231 sec\n",
      "\n",
      "Epoch 3 Batch 0 Loss 0.4267\n",
      "Epoch 3 Batch 100 Loss 0.3322\n",
      "Epoch 3 Batch 200 Loss 0.5321\n",
      "Epoch 3 Batch 300 Loss 0.3798\n",
      "Epoch 3 Batch 400 Loss 0.3510\n",
      "Epoch 3 Batch 500 Loss 0.3550\n",
      "Epoch 3 Batch 600 Loss 0.3440\n",
      "Epoch 3 Batch 700 Loss 0.3482\n",
      "Epoch 3 Batch 800 Loss 0.3479\n",
      "Epoch 3 Batch 900 Loss 0.3726\n",
      "Epoch 3 Batch 1000 Loss 0.4304\n",
      "Epoch 3 Batch 1100 Loss 0.3341\n",
      "Epoch 3 Batch 1200 Loss 0.3216\n",
      "Epoch 3 Loss 0.3558\n",
      "Time taken for 1 epoch 74.69537329673767 sec\n",
      "\n",
      "Epoch 4 Batch 0 Loss 0.2258\n",
      "Epoch 4 Batch 100 Loss 0.2335\n",
      "Epoch 4 Batch 200 Loss 0.1608\n",
      "Epoch 4 Batch 300 Loss 0.2291\n",
      "Epoch 4 Batch 400 Loss 0.2541\n",
      "Epoch 4 Batch 500 Loss 0.2562\n",
      "Epoch 4 Batch 600 Loss 0.2258\n",
      "Epoch 4 Batch 700 Loss 0.2013\n",
      "Epoch 4 Batch 800 Loss 0.2569\n",
      "Epoch 4 Batch 900 Loss 0.1828\n",
      "Epoch 4 Batch 1000 Loss 0.2244\n",
      "Epoch 4 Batch 1100 Loss 0.2113\n",
      "Epoch 4 Batch 1200 Loss 0.2532\n",
      "Epoch 4 Loss 0.2177\n",
      "Time taken for 1 epoch 77.51489567756653 sec\n",
      "\n",
      "Epoch 5 Batch 0 Loss 0.1471\n",
      "Epoch 5 Batch 100 Loss 0.1337\n",
      "Epoch 5 Batch 200 Loss 0.1299\n",
      "Epoch 5 Batch 300 Loss 0.1472\n",
      "Epoch 5 Batch 400 Loss 0.1185\n",
      "Epoch 5 Batch 500 Loss 0.1716\n",
      "Epoch 5 Batch 600 Loss 0.1515\n",
      "Epoch 5 Batch 700 Loss 0.1335\n",
      "Epoch 5 Batch 800 Loss 0.1208\n",
      "Epoch 5 Batch 900 Loss 0.1836\n",
      "Epoch 5 Batch 1000 Loss 0.1249\n",
      "Epoch 5 Batch 1100 Loss 0.1516\n",
      "Epoch 5 Batch 1200 Loss 0.1673\n",
      "Epoch 5 Loss 0.1523\n",
      "Time taken for 1 epoch 76.99629807472229 sec\n",
      "\n",
      "Epoch 6 Batch 0 Loss 0.1370\n",
      "Epoch 6 Batch 100 Loss 0.0968\n",
      "Epoch 6 Batch 200 Loss 0.1466\n",
      "Epoch 6 Batch 300 Loss 0.0961\n",
      "Epoch 6 Batch 400 Loss 0.1103\n",
      "Epoch 6 Batch 500 Loss 0.0958\n",
      "Epoch 6 Batch 600 Loss 0.0900\n",
      "Epoch 6 Batch 700 Loss 0.0926\n",
      "Epoch 6 Batch 800 Loss 0.1206\n",
      "Epoch 6 Batch 900 Loss 0.1240\n",
      "Epoch 6 Batch 1000 Loss 0.1204\n",
      "Epoch 6 Batch 1100 Loss 0.1390\n",
      "Epoch 6 Batch 1200 Loss 0.1744\n",
      "Epoch 6 Loss 0.1194\n",
      "Time taken for 1 epoch 78.07387399673462 sec\n",
      "\n",
      "Epoch 7 Batch 0 Loss 0.0960\n",
      "Epoch 7 Batch 100 Loss 0.0590\n",
      "Epoch 7 Batch 200 Loss 0.0816\n",
      "Epoch 7 Batch 300 Loss 0.0842\n",
      "Epoch 7 Batch 400 Loss 0.0666\n",
      "Epoch 7 Batch 500 Loss 0.0922\n",
      "Epoch 7 Batch 600 Loss 0.1150\n",
      "Epoch 7 Batch 700 Loss 0.1144\n",
      "Epoch 7 Batch 800 Loss 0.0800\n",
      "Epoch 7 Batch 900 Loss 0.0854\n",
      "Epoch 7 Batch 1000 Loss 0.0847\n",
      "Epoch 7 Batch 1100 Loss 0.1007\n",
      "Epoch 7 Batch 1200 Loss 0.1029\n",
      "Epoch 7 Loss 0.1013\n",
      "Time taken for 1 epoch 75.84524273872375 sec\n",
      "\n",
      "Epoch 8 Batch 0 Loss 0.0796\n",
      "Epoch 8 Batch 100 Loss 0.0604\n",
      "Epoch 8 Batch 200 Loss 0.0680\n",
      "Epoch 8 Batch 300 Loss 0.0969\n",
      "Epoch 8 Batch 400 Loss 0.0901\n",
      "Epoch 8 Batch 500 Loss 0.0894\n",
      "Epoch 8 Batch 600 Loss 0.0742\n",
      "Epoch 8 Batch 700 Loss 0.1197\n",
      "Epoch 8 Batch 800 Loss 0.0998\n",
      "Epoch 8 Batch 900 Loss 0.1005\n",
      "Epoch 8 Batch 1000 Loss 0.1435\n",
      "Epoch 8 Batch 1100 Loss 0.1056\n",
      "Epoch 8 Batch 1200 Loss 0.1047\n",
      "Epoch 8 Loss 0.0919\n",
      "Time taken for 1 epoch 77.9417769908905 sec\n",
      "\n",
      "Epoch 9 Batch 0 Loss 0.0702\n",
      "Epoch 9 Batch 100 Loss 0.0568\n",
      "Epoch 9 Batch 200 Loss 0.0681\n",
      "Epoch 9 Batch 300 Loss 0.0836\n",
      "Epoch 9 Batch 400 Loss 0.0433\n",
      "Epoch 9 Batch 500 Loss 0.0704\n",
      "Epoch 9 Batch 600 Loss 0.0996\n",
      "Epoch 9 Batch 700 Loss 0.1274\n",
      "Epoch 9 Batch 800 Loss 0.0673\n",
      "Epoch 9 Batch 900 Loss 0.0878\n",
      "Epoch 9 Batch 1000 Loss 0.0902\n",
      "Epoch 9 Batch 1100 Loss 0.0855\n",
      "Epoch 9 Batch 1200 Loss 0.1125\n",
      "Epoch 9 Loss 0.0841\n",
      "Time taken for 1 epoch 75.83547472953796 sec\n",
      "\n",
      "Epoch 10 Batch 0 Loss 0.0479\n",
      "Epoch 10 Batch 100 Loss 0.0472\n",
      "Epoch 10 Batch 200 Loss 0.0360\n",
      "Epoch 10 Batch 300 Loss 0.0691\n",
      "Epoch 10 Batch 400 Loss 0.0737\n",
      "Epoch 10 Batch 500 Loss 0.0904\n",
      "Epoch 10 Batch 600 Loss 0.0721\n",
      "Epoch 10 Batch 700 Loss 0.0879\n",
      "Epoch 10 Batch 800 Loss 0.0975\n",
      "Epoch 10 Batch 900 Loss 0.1058\n",
      "Epoch 10 Batch 1000 Loss 0.0881\n",
      "Epoch 10 Batch 1100 Loss 0.0965\n",
      "Epoch 10 Batch 1200 Loss 0.0924\n",
      "Epoch 10 Loss 0.0798\n",
      "Time taken for 1 epoch 77.64906573295593 sec\n",
      "\n",
      "Epoch 11 Batch 0 Loss 0.0589\n",
      "Epoch 11 Batch 100 Loss 0.0753\n",
      "Epoch 11 Batch 200 Loss 0.0634\n",
      "Epoch 11 Batch 300 Loss 0.0826\n",
      "Epoch 11 Batch 400 Loss 0.0994\n",
      "Epoch 11 Batch 500 Loss 0.0949\n",
      "Epoch 11 Batch 600 Loss 0.0853\n",
      "Epoch 11 Batch 700 Loss 0.0524\n",
      "Epoch 11 Batch 800 Loss 0.0647\n",
      "Epoch 11 Batch 900 Loss 0.1058\n",
      "Epoch 11 Batch 1000 Loss 0.1079\n",
      "Epoch 11 Batch 1100 Loss 0.0800\n",
      "Epoch 11 Batch 1200 Loss 0.1289\n",
      "Epoch 11 Loss 0.0754\n",
      "Time taken for 1 epoch 75.9260835647583 sec\n",
      "\n",
      "Epoch 12 Batch 0 Loss 0.0682\n",
      "Epoch 12 Batch 100 Loss 0.0478\n",
      "Epoch 12 Batch 200 Loss 0.0695\n",
      "Epoch 12 Batch 300 Loss 0.0850\n",
      "Epoch 12 Batch 400 Loss 0.0598\n",
      "Epoch 12 Batch 500 Loss 0.0697\n",
      "Epoch 12 Batch 600 Loss 0.0605\n",
      "Epoch 12 Batch 700 Loss 0.0494\n",
      "Epoch 12 Batch 800 Loss 0.1184\n",
      "Epoch 12 Batch 900 Loss 0.0928\n",
      "Epoch 12 Batch 1000 Loss 0.0577\n",
      "Epoch 12 Batch 1100 Loss 0.0886\n",
      "Epoch 12 Batch 1200 Loss 0.0656\n",
      "Epoch 12 Loss 0.0720\n",
      "Time taken for 1 epoch 78.16479468345642 sec\n",
      "\n",
      "Epoch 13 Batch 0 Loss 0.0591\n",
      "Epoch 13 Batch 100 Loss 0.0414\n",
      "Epoch 13 Batch 200 Loss 0.0419\n",
      "Epoch 13 Batch 300 Loss 0.0519\n",
      "Epoch 13 Batch 400 Loss 0.0457\n",
      "Epoch 13 Batch 500 Loss 0.0526\n",
      "Epoch 13 Batch 600 Loss 0.0898\n",
      "Epoch 13 Batch 700 Loss 0.0898\n",
      "Epoch 13 Batch 800 Loss 0.0588\n",
      "Epoch 13 Batch 900 Loss 0.0619\n",
      "Epoch 13 Batch 1000 Loss 0.0638\n",
      "Epoch 13 Batch 1100 Loss 0.0749\n",
      "Epoch 13 Batch 1200 Loss 0.1033\n",
      "Epoch 13 Loss 0.0702\n",
      "Time taken for 1 epoch 75.7765097618103 sec\n",
      "\n",
      "Epoch 14 Batch 0 Loss 0.0601\n",
      "Epoch 14 Batch 100 Loss 0.0715\n",
      "Epoch 14 Batch 200 Loss 0.0389\n",
      "Epoch 14 Batch 300 Loss 0.0447\n",
      "Epoch 14 Batch 400 Loss 0.0501\n",
      "Epoch 14 Batch 500 Loss 0.0539\n",
      "Epoch 14 Batch 600 Loss 0.0860\n",
      "Epoch 14 Batch 700 Loss 0.0734\n",
      "Epoch 14 Batch 800 Loss 0.0706\n",
      "Epoch 14 Batch 900 Loss 0.1272\n",
      "Epoch 14 Batch 1000 Loss 0.0922\n",
      "Epoch 14 Batch 1100 Loss 0.1156\n",
      "Epoch 14 Batch 1200 Loss 0.0598\n",
      "Epoch 14 Loss 0.0672\n",
      "Time taken for 1 epoch 77.88389229774475 sec\n",
      "\n",
      "Epoch 15 Batch 0 Loss 0.0547\n",
      "Epoch 15 Batch 100 Loss 0.0523\n",
      "Epoch 15 Batch 200 Loss 0.0810\n",
      "Epoch 15 Batch 300 Loss 0.0675\n",
      "Epoch 15 Batch 400 Loss 0.0727\n",
      "Epoch 15 Batch 500 Loss 0.0656\n",
      "Epoch 15 Batch 600 Loss 0.0547\n",
      "Epoch 15 Batch 700 Loss 0.0729\n",
      "Epoch 15 Batch 800 Loss 0.0670\n",
      "Epoch 15 Batch 900 Loss 0.0620\n",
      "Epoch 15 Batch 1000 Loss 0.0942\n",
      "Epoch 15 Batch 1100 Loss 0.0631\n",
      "Epoch 15 Batch 1200 Loss 0.0851\n",
      "Epoch 15 Loss 0.0654\n",
      "Time taken for 1 epoch 75.90619325637817 sec\n",
      "\n",
      "Epoch 16 Batch 0 Loss 0.0533\n",
      "Epoch 16 Batch 100 Loss 0.0480\n",
      "Epoch 16 Batch 200 Loss 0.0466\n",
      "Epoch 16 Batch 300 Loss 0.0828\n",
      "Epoch 16 Batch 400 Loss 0.0389\n",
      "Epoch 16 Batch 500 Loss 0.0714\n",
      "Epoch 16 Batch 600 Loss 0.0492\n",
      "Epoch 16 Batch 700 Loss 0.0718\n",
      "Epoch 16 Batch 800 Loss 0.0983\n",
      "Epoch 16 Batch 900 Loss 0.0767\n",
      "Epoch 16 Batch 1000 Loss 0.0445\n",
      "Epoch 16 Batch 1100 Loss 0.0852\n",
      "Epoch 16 Batch 1200 Loss 0.0609\n",
      "Epoch 16 Loss 0.0627\n",
      "Time taken for 1 epoch 78.4883644580841 sec\n",
      "\n",
      "Epoch 17 Batch 0 Loss 0.0474\n",
      "Epoch 17 Batch 100 Loss 0.0301\n",
      "Epoch 17 Batch 200 Loss 0.0566\n",
      "Epoch 17 Batch 300 Loss 0.0595\n",
      "Epoch 17 Batch 400 Loss 0.0444\n",
      "Epoch 17 Batch 500 Loss 0.0640\n",
      "Epoch 17 Batch 600 Loss 0.0598\n",
      "Epoch 17 Batch 700 Loss 0.0409\n",
      "Epoch 17 Batch 800 Loss 0.0659\n",
      "Epoch 17 Batch 900 Loss 0.0939\n",
      "Epoch 17 Batch 1000 Loss 0.0823\n",
      "Epoch 17 Batch 1100 Loss 0.0711\n",
      "Epoch 17 Batch 1200 Loss 0.0540\n",
      "Epoch 17 Loss 0.0619\n",
      "Time taken for 1 epoch 75.95908212661743 sec\n",
      "\n",
      "Epoch 18 Batch 0 Loss 0.0540\n",
      "Epoch 18 Batch 100 Loss 0.0394\n",
      "Epoch 18 Batch 200 Loss 0.0559\n",
      "Epoch 18 Batch 300 Loss 0.0592\n",
      "Epoch 18 Batch 400 Loss 0.0591\n",
      "Epoch 18 Batch 500 Loss 0.0624\n",
      "Epoch 18 Batch 600 Loss 0.0648\n",
      "Epoch 18 Batch 700 Loss 0.0709\n",
      "Epoch 18 Batch 800 Loss 0.0788\n",
      "Epoch 18 Batch 900 Loss 0.0578\n",
      "Epoch 18 Batch 1000 Loss 0.0969\n"
     ]
    },
    {
     "name": "stdout",
     "output_type": "stream",
     "text": [
      "Epoch 18 Batch 1100 Loss 0.0813\n",
      "Epoch 18 Batch 1200 Loss 0.0959\n",
      "Epoch 18 Loss 0.0602\n",
      "Time taken for 1 epoch 78.28401637077332 sec\n",
      "\n",
      "Epoch 19 Batch 0 Loss 0.0430\n",
      "Epoch 19 Batch 100 Loss 0.0237\n",
      "Epoch 19 Batch 200 Loss 0.0426\n",
      "Epoch 19 Batch 300 Loss 0.0294\n",
      "Epoch 19 Batch 400 Loss 0.0415\n",
      "Epoch 19 Batch 500 Loss 0.0456\n",
      "Epoch 19 Batch 600 Loss 0.0712\n",
      "Epoch 19 Batch 700 Loss 0.0238\n",
      "Epoch 19 Batch 800 Loss 0.0550\n",
      "Epoch 19 Batch 900 Loss 0.0304\n",
      "Epoch 19 Batch 1000 Loss 0.0753\n",
      "Epoch 19 Batch 1100 Loss 0.0420\n",
      "Epoch 19 Batch 1200 Loss 0.0712\n",
      "Epoch 19 Loss 0.0590\n",
      "Time taken for 1 epoch 76.019935131073 sec\n",
      "\n",
      "Epoch 20 Batch 0 Loss 0.0467\n",
      "Epoch 20 Batch 100 Loss 0.0430\n",
      "Epoch 20 Batch 200 Loss 0.0240\n",
      "Epoch 20 Batch 300 Loss 0.0506\n",
      "Epoch 20 Batch 400 Loss 0.0727\n",
      "Epoch 20 Batch 500 Loss 0.0393\n",
      "Epoch 20 Batch 600 Loss 0.0422\n",
      "Epoch 20 Batch 700 Loss 0.0452\n",
      "Epoch 20 Batch 800 Loss 0.0890\n",
      "Epoch 20 Batch 900 Loss 0.0499\n",
      "Epoch 20 Batch 1000 Loss 0.0506\n",
      "Epoch 20 Batch 1100 Loss 0.0602\n",
      "Epoch 20 Batch 1200 Loss 0.0605\n",
      "Epoch 20 Loss 0.0576\n",
      "Time taken for 1 epoch 77.86762547492981 sec\n",
      "\n",
      "Epoch 21 Batch 0 Loss 0.0440\n",
      "Epoch 21 Batch 100 Loss 0.0568\n",
      "Epoch 21 Batch 200 Loss 0.0228\n",
      "Epoch 21 Batch 300 Loss 0.0461\n",
      "Epoch 21 Batch 400 Loss 0.0577\n",
      "Epoch 21 Batch 500 Loss 0.0467\n",
      "Epoch 21 Batch 600 Loss 0.0567\n",
      "Epoch 21 Batch 700 Loss 0.0527\n",
      "Epoch 21 Batch 800 Loss 0.0606\n",
      "Epoch 21 Batch 900 Loss 0.0591\n",
      "Epoch 21 Batch 1000 Loss 0.0368\n",
      "Epoch 21 Batch 1100 Loss 0.0610\n",
      "Epoch 21 Batch 1200 Loss 0.0706\n",
      "Epoch 21 Loss 0.0565\n",
      "Time taken for 1 epoch 76.0208387374878 sec\n",
      "\n",
      "Epoch 22 Batch 0 Loss 0.0294\n",
      "Epoch 22 Batch 100 Loss 0.0435\n",
      "Epoch 22 Batch 200 Loss 0.0335\n",
      "Epoch 22 Batch 300 Loss 0.0299\n",
      "Epoch 22 Batch 400 Loss 0.0918\n",
      "Epoch 22 Batch 500 Loss 0.0359\n",
      "Epoch 22 Batch 600 Loss 0.0225\n",
      "Epoch 22 Batch 700 Loss 0.0679\n",
      "Epoch 22 Batch 800 Loss 0.0429\n",
      "Epoch 22 Batch 900 Loss 0.0654\n",
      "Epoch 22 Batch 1000 Loss 0.0615\n",
      "Epoch 22 Batch 1100 Loss 0.0805\n",
      "Epoch 22 Batch 1200 Loss 0.0516\n",
      "Epoch 22 Loss 0.0545\n",
      "Time taken for 1 epoch 78.16984701156616 sec\n",
      "\n",
      "Epoch 23 Batch 0 Loss 0.0445\n",
      "Epoch 23 Batch 100 Loss 0.0442\n",
      "Epoch 23 Batch 200 Loss 0.0774\n",
      "Epoch 23 Batch 300 Loss 0.0579\n",
      "Epoch 23 Batch 400 Loss 0.0263\n",
      "Epoch 23 Batch 500 Loss 0.0579\n",
      "Epoch 23 Batch 600 Loss 0.0353\n",
      "Epoch 23 Batch 700 Loss 0.0846\n",
      "Epoch 23 Batch 800 Loss 0.0409\n",
      "Epoch 23 Batch 900 Loss 0.0825\n",
      "Epoch 23 Batch 1000 Loss 0.0598\n",
      "Epoch 23 Batch 1100 Loss 0.0663\n",
      "Epoch 23 Batch 1200 Loss 0.0489\n",
      "Epoch 23 Loss 0.0538\n",
      "Time taken for 1 epoch 75.96104407310486 sec\n",
      "\n",
      "Epoch 24 Batch 0 Loss 0.0575\n",
      "Epoch 24 Batch 100 Loss 0.0398\n",
      "Epoch 24 Batch 200 Loss 0.0323\n",
      "Epoch 24 Batch 300 Loss 0.0365\n",
      "Epoch 24 Batch 400 Loss 0.0339\n",
      "Epoch 24 Batch 500 Loss 0.0661\n",
      "Epoch 24 Batch 600 Loss 0.0767\n",
      "Epoch 24 Batch 700 Loss 0.0533\n",
      "Epoch 24 Batch 800 Loss 0.0646\n",
      "Epoch 24 Batch 900 Loss 0.0820\n",
      "Epoch 24 Batch 1000 Loss 0.0748\n",
      "Epoch 24 Batch 1100 Loss 0.0779\n",
      "Epoch 24 Batch 1200 Loss 0.0769\n",
      "Epoch 24 Loss 0.0533\n",
      "Time taken for 1 epoch 78.58622813224792 sec\n",
      "\n",
      "Epoch 25 Batch 0 Loss 0.0296\n",
      "Epoch 25 Batch 100 Loss 0.0346\n",
      "Epoch 25 Batch 200 Loss 0.0511\n",
      "Epoch 25 Batch 300 Loss 0.0362\n",
      "Epoch 25 Batch 400 Loss 0.0380\n",
      "Epoch 25 Batch 500 Loss 0.0421\n",
      "Epoch 25 Batch 600 Loss 0.0445\n",
      "Epoch 25 Batch 700 Loss 0.0680\n",
      "Epoch 25 Batch 800 Loss 0.0370\n",
      "Epoch 25 Batch 900 Loss 0.0695\n",
      "Epoch 25 Batch 1000 Loss 0.0638\n",
      "Epoch 25 Batch 1100 Loss 0.0562\n",
      "Epoch 25 Batch 1200 Loss 0.0526\n",
      "Epoch 25 Loss 0.0521\n",
      "Time taken for 1 epoch 75.91528248786926 sec\n",
      "\n",
      "Epoch 26 Batch 0 Loss 0.0422\n",
      "Epoch 26 Batch 100 Loss 0.0230\n",
      "Epoch 26 Batch 200 Loss 0.0491\n",
      "Epoch 26 Batch 300 Loss 0.0544\n",
      "Epoch 26 Batch 400 Loss 0.0331\n",
      "Epoch 26 Batch 500 Loss 0.0608\n",
      "Epoch 26 Batch 600 Loss 0.0478\n",
      "Epoch 26 Batch 700 Loss 0.0489\n",
      "Epoch 26 Batch 800 Loss 0.0517\n",
      "Epoch 26 Batch 900 Loss 0.0598\n",
      "Epoch 26 Batch 1000 Loss 0.0680\n",
      "Epoch 26 Batch 1100 Loss 0.0531\n",
      "Epoch 26 Batch 1200 Loss 0.0636\n",
      "Epoch 26 Loss 0.0508\n",
      "Time taken for 1 epoch 78.21007061004639 sec\n",
      "\n",
      "Epoch 27 Batch 0 Loss 0.0392\n",
      "Epoch 27 Batch 100 Loss 0.0313\n",
      "Epoch 27 Batch 200 Loss 0.0339\n",
      "Epoch 27 Batch 300 Loss 0.0387\n",
      "Epoch 27 Batch 400 Loss 0.0096\n",
      "Epoch 27 Batch 500 Loss 0.0657\n",
      "Epoch 27 Batch 600 Loss 0.0601\n",
      "Epoch 27 Batch 700 Loss 0.0411\n",
      "Epoch 27 Batch 800 Loss 0.0475\n",
      "Epoch 27 Batch 900 Loss 0.0402\n",
      "Epoch 27 Batch 1000 Loss 0.0792\n",
      "Epoch 27 Batch 1100 Loss 0.0618\n",
      "Epoch 27 Batch 1200 Loss 0.0951\n",
      "Epoch 27 Loss 0.0513\n",
      "Time taken for 1 epoch 76.21535110473633 sec\n",
      "\n",
      "Epoch 28 Batch 0 Loss 0.0539\n",
      "Epoch 28 Batch 100 Loss 0.0342\n",
      "Epoch 28 Batch 200 Loss 0.0466\n",
      "Epoch 28 Batch 300 Loss 0.0595\n",
      "Epoch 28 Batch 400 Loss 0.0387\n",
      "Epoch 28 Batch 500 Loss 0.0514\n",
      "Epoch 28 Batch 600 Loss 0.0579\n",
      "Epoch 28 Batch 700 Loss 0.0475\n",
      "Epoch 28 Batch 800 Loss 0.0521\n",
      "Epoch 28 Batch 900 Loss 0.0432\n",
      "Epoch 28 Batch 1000 Loss 0.0571\n",
      "Epoch 28 Batch 1100 Loss 0.0337\n",
      "Epoch 28 Batch 1200 Loss 0.0627\n",
      "Epoch 28 Loss 0.0492\n",
      "Time taken for 1 epoch 78.09296488761902 sec\n",
      "\n",
      "Epoch 29 Batch 0 Loss 0.0270\n",
      "Epoch 29 Batch 100 Loss 0.0261\n",
      "Epoch 29 Batch 200 Loss 0.0526\n",
      "Epoch 29 Batch 300 Loss 0.0339\n",
      "Epoch 29 Batch 400 Loss 0.0501\n",
      "Epoch 29 Batch 500 Loss 0.0511\n",
      "Epoch 29 Batch 600 Loss 0.0446\n",
      "Epoch 29 Batch 700 Loss 0.0517\n",
      "Epoch 29 Batch 800 Loss 0.0702\n",
      "Epoch 29 Batch 900 Loss 0.0467\n",
      "Epoch 29 Batch 1000 Loss 0.0638\n",
      "Epoch 29 Batch 1100 Loss 0.0630\n",
      "Epoch 29 Batch 1200 Loss 0.0510\n",
      "Epoch 29 Loss 0.0489\n",
      "Time taken for 1 epoch 76.02980208396912 sec\n",
      "\n",
      "Epoch 30 Batch 0 Loss 0.0504\n",
      "Epoch 30 Batch 100 Loss 0.0531\n",
      "Epoch 30 Batch 200 Loss 0.0333\n",
      "Epoch 30 Batch 300 Loss 0.0496\n",
      "Epoch 30 Batch 400 Loss 0.0225\n",
      "Epoch 30 Batch 500 Loss 0.0475\n",
      "Epoch 30 Batch 600 Loss 0.0432\n",
      "Epoch 30 Batch 700 Loss 0.0373\n",
      "Epoch 30 Batch 800 Loss 0.0557\n",
      "Epoch 30 Batch 900 Loss 0.0808\n",
      "Epoch 30 Batch 1000 Loss 0.0978\n",
      "Epoch 30 Batch 1100 Loss 0.0385\n",
      "Epoch 30 Batch 1200 Loss 0.0845\n",
      "Epoch 30 Loss 0.0488\n",
      "Time taken for 1 epoch 77.92812299728394 sec\n",
      "\n",
      "Epoch 31 Batch 0 Loss 0.0184\n",
      "Epoch 31 Batch 100 Loss 0.0233\n",
      "Epoch 31 Batch 200 Loss 0.0569\n",
      "Epoch 31 Batch 300 Loss 0.0532\n",
      "Epoch 31 Batch 400 Loss 0.0348\n",
      "Epoch 31 Batch 500 Loss 0.0487\n",
      "Epoch 31 Batch 600 Loss 0.0538\n",
      "Epoch 31 Batch 700 Loss 0.0582\n",
      "Epoch 31 Batch 800 Loss 0.0425\n",
      "Epoch 31 Batch 900 Loss 0.0420\n",
      "Epoch 31 Batch 1000 Loss 0.0590\n",
      "Epoch 31 Batch 1100 Loss 0.0286\n",
      "Epoch 31 Batch 1200 Loss 0.0647\n",
      "Epoch 31 Loss 0.0476\n",
      "Time taken for 1 epoch 76.05479717254639 sec\n",
      "\n",
      "Epoch 32 Batch 0 Loss 0.0665\n",
      "Epoch 32 Batch 100 Loss 0.0588\n",
      "Epoch 32 Batch 200 Loss 0.0395\n",
      "Epoch 32 Batch 300 Loss 0.0357\n",
      "Epoch 32 Batch 400 Loss 0.0383\n",
      "Epoch 32 Batch 500 Loss 0.0481\n",
      "Epoch 32 Batch 600 Loss 0.0196\n",
      "Epoch 32 Batch 700 Loss 0.0591\n",
      "Epoch 32 Batch 800 Loss 0.0413\n",
      "Epoch 32 Batch 900 Loss 0.0523\n",
      "Epoch 32 Batch 1000 Loss 0.0197\n",
      "Epoch 32 Batch 1100 Loss 0.0742\n",
      "Epoch 32 Batch 1200 Loss 0.0643\n",
      "Epoch 32 Loss 0.0472\n",
      "Time taken for 1 epoch 77.94527745246887 sec\n",
      "\n",
      "Epoch 33 Batch 0 Loss 0.0261\n",
      "Epoch 33 Batch 100 Loss 0.0346\n",
      "Epoch 33 Batch 200 Loss 0.0265\n",
      "Epoch 33 Batch 300 Loss 0.0495\n",
      "Epoch 33 Batch 400 Loss 0.0507\n",
      "Epoch 33 Batch 500 Loss 0.0520\n",
      "Epoch 33 Batch 600 Loss 0.0459\n",
      "Epoch 33 Batch 700 Loss 0.0523\n",
      "Epoch 33 Batch 800 Loss 0.0768\n",
      "Epoch 33 Batch 900 Loss 0.0418\n",
      "Epoch 33 Batch 1000 Loss 0.0417\n",
      "Epoch 33 Batch 1100 Loss 0.0675\n",
      "Epoch 33 Batch 1200 Loss 0.0383\n",
      "Epoch 33 Loss 0.0474\n",
      "Time taken for 1 epoch 76.11968159675598 sec\n",
      "\n",
      "Epoch 34 Batch 0 Loss 0.0475\n",
      "Epoch 34 Batch 100 Loss 0.0412\n",
      "Epoch 34 Batch 200 Loss 0.0451\n",
      "Epoch 34 Batch 300 Loss 0.0497\n",
      "Epoch 34 Batch 400 Loss 0.0450\n",
      "Epoch 34 Batch 500 Loss 0.0463\n",
      "Epoch 34 Batch 600 Loss 0.0531\n",
      "Epoch 34 Batch 700 Loss 0.0476\n",
      "Epoch 34 Batch 800 Loss 0.0707\n",
      "Epoch 34 Batch 900 Loss 0.0682\n",
      "Epoch 34 Batch 1000 Loss 0.0300\n",
      "Epoch 34 Batch 1100 Loss 0.0472\n",
      "Epoch 34 Batch 1200 Loss 0.0691\n",
      "Epoch 34 Loss 0.0456\n",
      "Time taken for 1 epoch 78.52879595756531 sec\n",
      "\n",
      "Epoch 35 Batch 0 Loss 0.0389\n",
      "Epoch 35 Batch 100 Loss 0.0308\n",
      "Epoch 35 Batch 200 Loss 0.0454\n",
      "Epoch 35 Batch 300 Loss 0.0595\n",
      "Epoch 35 Batch 400 Loss 0.0380\n",
      "Epoch 35 Batch 500 Loss 0.0463\n",
      "Epoch 35 Batch 600 Loss 0.0259\n",
      "Epoch 35 Batch 700 Loss 0.0529\n",
      "Epoch 35 Batch 800 Loss 0.0458\n",
      "Epoch 35 Batch 900 Loss 0.0470\n",
      "Epoch 35 Batch 1000 Loss 0.0465\n",
      "Epoch 35 Batch 1100 Loss 0.0655\n",
      "Epoch 35 Batch 1200 Loss 0.0652\n",
      "Epoch 35 Loss 0.0460\n",
      "Time taken for 1 epoch 75.9610059261322 sec\n",
      "\n",
      "Epoch 36 Batch 0 Loss 0.0391\n",
      "Epoch 36 Batch 100 Loss 0.0364\n"
     ]
    },
    {
     "name": "stdout",
     "output_type": "stream",
     "text": [
      "Epoch 36 Batch 200 Loss 0.0439\n",
      "Epoch 36 Batch 300 Loss 0.0430\n",
      "Epoch 36 Batch 400 Loss 0.0623\n",
      "Epoch 36 Batch 500 Loss 0.0398\n",
      "Epoch 36 Batch 600 Loss 0.0490\n",
      "Epoch 36 Batch 700 Loss 0.0490\n",
      "Epoch 36 Batch 800 Loss 0.0328\n",
      "Epoch 36 Batch 900 Loss 0.0291\n",
      "Epoch 36 Batch 1000 Loss 0.0775\n",
      "Epoch 36 Batch 1100 Loss 0.0419\n",
      "Epoch 36 Batch 1200 Loss 0.0502\n",
      "Epoch 36 Loss 0.0449\n",
      "Time taken for 1 epoch 78.46524333953857 sec\n",
      "\n",
      "Epoch 37 Batch 0 Loss 0.0574\n",
      "Epoch 37 Batch 100 Loss 0.0475\n",
      "Epoch 37 Batch 200 Loss 0.0235\n",
      "Epoch 37 Batch 300 Loss 0.0207\n",
      "Epoch 37 Batch 400 Loss 0.0537\n",
      "Epoch 37 Batch 500 Loss 0.0328\n",
      "Epoch 37 Batch 600 Loss 0.0352\n",
      "Epoch 37 Batch 700 Loss 0.0378\n",
      "Epoch 37 Batch 800 Loss 0.0433\n",
      "Epoch 37 Batch 900 Loss 0.0368\n",
      "Epoch 37 Batch 1000 Loss 0.0361\n",
      "Epoch 37 Batch 1100 Loss 0.0505\n",
      "Epoch 37 Batch 1200 Loss 0.0784\n",
      "Epoch 37 Loss 0.0450\n",
      "Time taken for 1 epoch 75.86631059646606 sec\n",
      "\n",
      "Epoch 38 Batch 0 Loss 0.0356\n",
      "Epoch 38 Batch 100 Loss 0.0390\n",
      "Epoch 38 Batch 200 Loss 0.0418\n",
      "Epoch 38 Batch 300 Loss 0.0316\n",
      "Epoch 38 Batch 400 Loss 0.0617\n",
      "Epoch 38 Batch 500 Loss 0.0175\n",
      "Epoch 38 Batch 600 Loss 0.0414\n",
      "Epoch 38 Batch 700 Loss 0.0430\n",
      "Epoch 38 Batch 800 Loss 0.0332\n",
      "Epoch 38 Batch 900 Loss 0.0614\n",
      "Epoch 38 Batch 1000 Loss 0.0572\n",
      "Epoch 38 Batch 1100 Loss 0.0766\n",
      "Epoch 38 Batch 1200 Loss 0.0510\n",
      "Epoch 38 Loss 0.0446\n",
      "Time taken for 1 epoch 78.20125031471252 sec\n",
      "\n",
      "Epoch 39 Batch 0 Loss 0.0284\n",
      "Epoch 39 Batch 100 Loss 0.0454\n",
      "Epoch 39 Batch 200 Loss 0.0385\n",
      "Epoch 39 Batch 300 Loss 0.0275\n",
      "Epoch 39 Batch 400 Loss 0.0258\n",
      "Epoch 39 Batch 500 Loss 0.0320\n",
      "Epoch 39 Batch 600 Loss 0.0348\n",
      "Epoch 39 Batch 700 Loss 0.0398\n",
      "Epoch 39 Batch 800 Loss 0.0501\n",
      "Epoch 39 Batch 900 Loss 0.0386\n",
      "Epoch 39 Batch 1000 Loss 0.0564\n",
      "Epoch 39 Batch 1100 Loss 0.0467\n",
      "Epoch 39 Batch 1200 Loss 0.0593\n",
      "Epoch 39 Loss 0.0439\n",
      "Time taken for 1 epoch 76.20628571510315 sec\n",
      "\n",
      "Epoch 40 Batch 0 Loss 0.0280\n",
      "Epoch 40 Batch 100 Loss 0.0656\n",
      "Epoch 40 Batch 200 Loss 0.0231\n",
      "Epoch 40 Batch 300 Loss 0.0280\n",
      "Epoch 40 Batch 400 Loss 0.0391\n",
      "Epoch 40 Batch 500 Loss 0.0445\n",
      "Epoch 40 Batch 600 Loss 0.0416\n",
      "Epoch 40 Batch 700 Loss 0.0354\n",
      "Epoch 40 Batch 800 Loss 0.0510\n",
      "Epoch 40 Batch 900 Loss 0.0552\n",
      "Epoch 40 Batch 1000 Loss 0.0421\n",
      "Epoch 40 Batch 1100 Loss 0.0562\n",
      "Epoch 40 Batch 1200 Loss 0.0628\n",
      "Epoch 40 Loss 0.0438\n",
      "Time taken for 1 epoch 78.0566565990448 sec\n",
      "\n",
      "Epoch 41 Batch 0 Loss 0.0202\n",
      "Epoch 41 Batch 100 Loss 0.0277\n",
      "Epoch 41 Batch 200 Loss 0.0412\n",
      "Epoch 41 Batch 300 Loss 0.0298\n",
      "Epoch 41 Batch 400 Loss 0.0500\n",
      "Epoch 41 Batch 500 Loss 0.0302\n",
      "Epoch 41 Batch 600 Loss 0.0199\n",
      "Epoch 41 Batch 700 Loss 0.0353\n",
      "Epoch 41 Batch 800 Loss 0.0448\n",
      "Epoch 41 Batch 900 Loss 0.0250\n",
      "Epoch 41 Batch 1000 Loss 0.0559\n",
      "Epoch 41 Batch 1100 Loss 0.0388\n",
      "Epoch 41 Batch 1200 Loss 0.0426\n",
      "Epoch 41 Loss 0.0426\n",
      "Time taken for 1 epoch 76.30211973190308 sec\n",
      "\n",
      "Epoch 42 Batch 0 Loss 0.0207\n",
      "Epoch 42 Batch 100 Loss 0.0267\n",
      "Epoch 42 Batch 200 Loss 0.0466\n",
      "Epoch 42 Batch 300 Loss 0.0492\n",
      "Epoch 42 Batch 400 Loss 0.0502\n",
      "Epoch 42 Batch 500 Loss 0.0411\n",
      "Epoch 42 Batch 600 Loss 0.0487\n",
      "Epoch 42 Batch 700 Loss 0.0321\n",
      "Epoch 42 Batch 800 Loss 0.0403\n",
      "Epoch 42 Batch 900 Loss 0.0754\n",
      "Epoch 42 Batch 1000 Loss 0.0635\n",
      "Epoch 42 Batch 1100 Loss 0.0228\n",
      "Epoch 42 Batch 1200 Loss 0.0569\n",
      "Epoch 42 Loss 0.0435\n",
      "Time taken for 1 epoch 78.05810403823853 sec\n",
      "\n",
      "Epoch 43 Batch 0 Loss 0.0367\n",
      "Epoch 43 Batch 100 Loss 0.0593\n",
      "Epoch 43 Batch 200 Loss 0.0345\n",
      "Epoch 43 Batch 300 Loss 0.0528\n",
      "Epoch 43 Batch 400 Loss 0.0346\n",
      "Epoch 43 Batch 500 Loss 0.0536\n",
      "Epoch 43 Batch 600 Loss 0.0559\n",
      "Epoch 43 Batch 700 Loss 0.0549\n",
      "Epoch 43 Batch 800 Loss 0.0550\n",
      "Epoch 43 Batch 900 Loss 0.0422\n",
      "Epoch 43 Batch 1000 Loss 0.0228\n",
      "Epoch 43 Batch 1100 Loss 0.0557\n",
      "Epoch 43 Batch 1200 Loss 0.0806\n",
      "Epoch 43 Loss 0.0435\n",
      "Time taken for 1 epoch 76.24435496330261 sec\n",
      "\n",
      "Epoch 44 Batch 0 Loss 0.0343\n",
      "Epoch 44 Batch 100 Loss 0.0203\n",
      "Epoch 44 Batch 200 Loss 0.0308\n",
      "Epoch 44 Batch 300 Loss 0.0377\n",
      "Epoch 44 Batch 400 Loss 0.0596\n",
      "Epoch 44 Batch 500 Loss 0.0366\n",
      "Epoch 44 Batch 600 Loss 0.0332\n",
      "Epoch 44 Batch 700 Loss 0.0634\n",
      "Epoch 44 Batch 800 Loss 0.0288\n",
      "Epoch 44 Batch 900 Loss 0.0613\n",
      "Epoch 44 Batch 1000 Loss 0.0536\n",
      "Epoch 44 Batch 1100 Loss 0.0354\n",
      "Epoch 44 Batch 1200 Loss 0.0547\n",
      "Epoch 44 Loss 0.0419\n",
      "Time taken for 1 epoch 78.32171082496643 sec\n",
      "\n",
      "Epoch 45 Batch 0 Loss 0.0362\n",
      "Epoch 45 Batch 100 Loss 0.0466\n",
      "Epoch 45 Batch 200 Loss 0.0465\n",
      "Epoch 45 Batch 300 Loss 0.0325\n",
      "Epoch 45 Batch 400 Loss 0.0369\n",
      "Epoch 45 Batch 500 Loss 0.0437\n",
      "Epoch 45 Batch 600 Loss 0.0273\n",
      "Epoch 45 Batch 700 Loss 0.0297\n",
      "Epoch 45 Batch 800 Loss 0.0417\n",
      "Epoch 45 Batch 900 Loss 0.0521\n",
      "Epoch 45 Batch 1000 Loss 0.0677\n",
      "Epoch 45 Batch 1100 Loss 0.0530\n",
      "Epoch 45 Batch 1200 Loss 0.0710\n",
      "Epoch 45 Loss 0.0421\n",
      "Time taken for 1 epoch 76.22465348243713 sec\n",
      "\n",
      "Epoch 46 Batch 0 Loss 0.0211\n",
      "Epoch 46 Batch 100 Loss 0.0299\n",
      "Epoch 46 Batch 200 Loss 0.0207\n",
      "Epoch 46 Batch 300 Loss 0.0394\n",
      "Epoch 46 Batch 400 Loss 0.0362\n",
      "Epoch 46 Batch 500 Loss 0.0482\n",
      "Epoch 46 Batch 600 Loss 0.0418\n",
      "Epoch 46 Batch 700 Loss 0.0437\n",
      "Epoch 46 Batch 800 Loss 0.0461\n",
      "Epoch 46 Batch 900 Loss 0.0466\n",
      "Epoch 46 Batch 1000 Loss 0.0335\n",
      "Epoch 46 Batch 1100 Loss 0.0497\n",
      "Epoch 46 Batch 1200 Loss 0.0482\n",
      "Epoch 46 Loss 0.0414\n",
      "Time taken for 1 epoch 78.39857029914856 sec\n",
      "\n",
      "Epoch 47 Batch 0 Loss 0.0255\n",
      "Epoch 47 Batch 100 Loss 0.0352\n",
      "Epoch 47 Batch 200 Loss 0.0541\n",
      "Epoch 47 Batch 300 Loss 0.0340\n",
      "Epoch 47 Batch 400 Loss 0.0471\n",
      "Epoch 47 Batch 500 Loss 0.0496\n",
      "Epoch 47 Batch 600 Loss 0.0382\n",
      "Epoch 47 Batch 700 Loss 0.0259\n",
      "Epoch 47 Batch 800 Loss 0.0329\n",
      "Epoch 47 Batch 900 Loss 0.0370\n",
      "Epoch 47 Batch 1000 Loss 0.0423\n",
      "Epoch 47 Batch 1100 Loss 0.0292\n",
      "Epoch 47 Batch 1200 Loss 0.0504\n",
      "Epoch 47 Loss 0.0412\n",
      "Time taken for 1 epoch 76.13252282142639 sec\n",
      "\n",
      "Epoch 48 Batch 0 Loss 0.0219\n",
      "Epoch 48 Batch 100 Loss 0.0462\n",
      "Epoch 48 Batch 200 Loss 0.0447\n",
      "Epoch 48 Batch 300 Loss 0.0203\n",
      "Epoch 48 Batch 400 Loss 0.0328\n",
      "Epoch 48 Batch 500 Loss 0.0295\n",
      "Epoch 48 Batch 600 Loss 0.0289\n",
      "Epoch 48 Batch 700 Loss 0.0583\n",
      "Epoch 48 Batch 800 Loss 0.0481\n",
      "Epoch 48 Batch 900 Loss 0.0139\n",
      "Epoch 48 Batch 1000 Loss 0.0405\n",
      "Epoch 48 Batch 1100 Loss 0.0506\n",
      "Epoch 48 Batch 1200 Loss 0.0590\n",
      "Epoch 48 Loss 0.0408\n",
      "Time taken for 1 epoch 78.49354529380798 sec\n",
      "\n",
      "Epoch 49 Batch 0 Loss 0.0255\n",
      "Epoch 49 Batch 100 Loss 0.0463\n",
      "Epoch 49 Batch 200 Loss 0.0351\n",
      "Epoch 49 Batch 300 Loss 0.0334\n",
      "Epoch 49 Batch 400 Loss 0.0379\n",
      "Epoch 49 Batch 500 Loss 0.0205\n",
      "Epoch 49 Batch 600 Loss 0.0481\n",
      "Epoch 49 Batch 700 Loss 0.0366\n",
      "Epoch 49 Batch 800 Loss 0.0357\n",
      "Epoch 49 Batch 900 Loss 0.0285\n",
      "Epoch 49 Batch 1000 Loss 0.0512\n",
      "Epoch 49 Batch 1100 Loss 0.0510\n",
      "Epoch 49 Batch 1200 Loss 0.0296\n",
      "Epoch 49 Loss 0.0408\n",
      "Time taken for 1 epoch 76.0556857585907 sec\n",
      "\n",
      "Epoch 50 Batch 0 Loss 0.0338\n",
      "Epoch 50 Batch 100 Loss 0.0151\n",
      "Epoch 50 Batch 200 Loss 0.0149\n",
      "Epoch 50 Batch 300 Loss 0.0418\n",
      "Epoch 50 Batch 400 Loss 0.0475\n",
      "Epoch 50 Batch 500 Loss 0.0359\n",
      "Epoch 50 Batch 600 Loss 0.0448\n",
      "Epoch 50 Batch 700 Loss 0.0286\n",
      "Epoch 50 Batch 800 Loss 0.0444\n",
      "Epoch 50 Batch 900 Loss 0.0686\n",
      "Epoch 50 Batch 1000 Loss 0.0657\n",
      "Epoch 50 Batch 1100 Loss 0.0769\n",
      "Epoch 50 Batch 1200 Loss 0.0511\n",
      "Epoch 50 Loss 0.0417\n",
      "Time taken for 1 epoch 78.53334593772888 sec\n",
      "\n"
     ]
    }
   ],
   "source": [
    "EPOCHS = 50\n",
    "\n",
    "for epoch in range(EPOCHS):\n",
    "  start = time.time()\n",
    "\n",
    "  enc_hidden = encoder.initialize_hidden_state()\n",
    "  total_loss = 0\n",
    "\n",
    "  for (batch, (inp, targ)) in enumerate(dataset.take(steps_per_epoch)):\n",
    "    batch_loss = train_step(inp, targ, enc_hidden)\n",
    "    total_loss += batch_loss\n",
    "\n",
    "    if batch % 100 == 0:\n",
    "      print('Epoch {} Batch {} Loss {:.4f}'.format(epoch + 1,\n",
    "                                                   batch,\n",
    "                                                   batch_loss.numpy()))\n",
    "  # saving (checkpoint) the model every 2 epochs\n",
    "  if (epoch + 1) % 2 == 0:\n",
    "    checkpoint.save(file_prefix = checkpoint_prefix)\n",
    "\n",
    "  print('Epoch {} Loss {:.4f}'.format(epoch + 1,\n",
    "                                      total_loss / steps_per_epoch))\n",
    "  print('Time taken for 1 epoch {} sec\\n'.format(time.time() - start))"
   ]
  },
  {
   "cell_type": "markdown",
   "metadata": {
    "id": "mU3Ce8M6I3rz"
   },
   "source": [
    "## Translate\n",
    "\n",
    "* The evaluate function is similar to the training loop, except we don't use *teacher forcing* here. The input to the decoder at each time step is its previous predictions along with the hidden state and the encoder output.\n",
    "* Stop predicting when the model predicts the *end token*.\n",
    "* And store the *attention weights for every time step*.\n",
    "\n",
    "Note: The encoder output is calculated only once for one input."
   ]
  },
  {
   "cell_type": "code",
   "execution_count": 28,
   "metadata": {
    "id": "EbQpyYs13jF_"
   },
   "outputs": [],
   "source": [
    "def evaluate(sentence):\n",
    "  attention_plot = np.zeros((max_length_targ, max_length_inp))\n",
    "\n",
    "  sentence = preprocess_sentence(sentence)\n",
    "\n",
    "  inputs = [inp_lang.word_index[i] for i in sentence.split(' ')]\n",
    "  inputs = tf.keras.preprocessing.sequence.pad_sequences([inputs],\n",
    "                                                         maxlen=max_length_inp,\n",
    "                                                         padding='post')\n",
    "  inputs = tf.convert_to_tensor(inputs)\n",
    "\n",
    "  result = ''\n",
    "\n",
    "  hidden = [tf.zeros((1, units))]\n",
    "  enc_out, enc_hidden = encoder(inputs, hidden)\n",
    "\n",
    "  dec_hidden = enc_hidden\n",
    "  dec_input = tf.expand_dims([targ_lang.word_index['<start>']], 0)\n",
    "\n",
    "  for t in range(max_length_targ):\n",
    "    predictions, dec_hidden, attention_weights = decoder(dec_input,\n",
    "                                                         dec_hidden,\n",
    "                                                         enc_out)\n",
    "\n",
    "    # storing the attention weights to plot later on\n",
    "    attention_weights = tf.reshape(attention_weights, (-1, ))\n",
    "    attention_plot[t] = attention_weights.numpy()\n",
    "\n",
    "    predicted_id = tf.argmax(predictions[0]).numpy()\n",
    "\n",
    "    result += targ_lang.index_word[predicted_id] + ' '\n",
    "\n",
    "    if targ_lang.index_word[predicted_id] == '<end>':\n",
    "      return result, sentence, attention_plot\n",
    "\n",
    "    # the predicted ID is fed back into the model\n",
    "    dec_input = tf.expand_dims([predicted_id], 0)\n",
    "\n",
    "  return result, sentence, attention_plot"
   ]
  },
  {
   "cell_type": "code",
   "execution_count": 29,
   "metadata": {
    "id": "Qjy26Fe8Bv5d"
   },
   "outputs": [],
   "source": [
    "# function for plotting the attention weights\n",
    "def plot_attention(attention, sentence, predicted_sentence):\n",
    "  fig = plt.figure(figsize=(10,10))\n",
    "  ax = fig.add_subplot(1, 1, 1)\n",
    "  ax.matshow(attention, cmap='viridis')\n",
    "\n",
    "  fontdict = {'fontsize': 14}\n",
    "\n",
    "  ax.set_xticklabels([''] + sentence, fontdict=fontdict, rotation=90)\n",
    "  ax.set_yticklabels([''] + predicted_sentence, fontdict=fontdict)\n",
    "\n",
    "  ax.xaxis.set_major_locator(ticker.MultipleLocator(1))\n",
    "  ax.yaxis.set_major_locator(ticker.MultipleLocator(1))\n",
    "\n",
    "  plt.show()"
   ]
  },
  {
   "cell_type": "code",
   "execution_count": 30,
   "metadata": {
    "id": "sl9zUHzg3jGI"
   },
   "outputs": [],
   "source": [
    "def translate(sentence):\n",
    "  result, sentence, attention_plot = evaluate(sentence)\n",
    "\n",
    "  print('Input: %s' % (sentence))\n",
    "  print('Predicted translation: {}'.format(result))\n",
    "\n",
    "  attention_plot = attention_plot[:len(result.split(' ')), :len(sentence.split(' '))]\n",
    "  plot_attention(attention_plot, sentence.split(' '), result.split(' '))"
   ]
  },
  {
   "cell_type": "markdown",
   "metadata": {
    "id": "n250XbnjOaqP"
   },
   "source": [
    "## Restore the latest checkpoint and test"
   ]
  },
  {
   "cell_type": "code",
   "execution_count": 31,
   "metadata": {
    "colab": {
     "base_uri": "https://localhost:8080/"
    },
    "id": "UJpT9D5_OgP6",
    "outputId": "28722f54-a505-40a1-f884-ca7815272d0c"
   },
   "outputs": [
    {
     "data": {
      "text/plain": [
       "<tensorflow.python.checkpoint.checkpoint.CheckpointLoadStatus at 0x288ee152520>"
      ]
     },
     "execution_count": 31,
     "metadata": {},
     "output_type": "execute_result"
    }
   ],
   "source": [
    "# restoring the latest checkpoint in checkpoint_dir\n",
    "checkpoint.restore(tf.train.latest_checkpoint(checkpoint_dir))"
   ]
  },
  {
   "cell_type": "code",
   "execution_count": 32,
   "metadata": {
    "colab": {
     "base_uri": "https://localhost:8080/",
     "height": 677
    },
    "id": "WrAM0FDomq3E",
    "outputId": "1441a3f6-b48f-4970-f372-4c8103bbb4b6"
   },
   "outputs": [
    {
     "name": "stdout",
     "output_type": "stream",
     "text": [
      "Input: <start> здесь хорошо . <end>\n",
      "Predicted translation: it's fine here . <end> \n"
     ]
    },
    {
     "name": "stderr",
     "output_type": "stream",
     "text": [
      "C:\\Users\\User\\AppData\\Local\\Temp\\ipykernel_22692\\282331986.py:9: UserWarning: FixedFormatter should only be used together with FixedLocator\n",
      "  ax.set_xticklabels([''] + sentence, fontdict=fontdict, rotation=90)\n",
      "C:\\Users\\User\\AppData\\Local\\Temp\\ipykernel_22692\\282331986.py:10: UserWarning: FixedFormatter should only be used together with FixedLocator\n",
      "  ax.set_yticklabels([''] + predicted_sentence, fontdict=fontdict)\n"
     ]
    },
    {
     "data": {
      "image/png": "[encoded data removed]",
      "text/plain": [
       "<Figure size 1000x1000 with 1 Axes>"
      ]
     },
     "metadata": {},
     "output_type": "display_data"
    }
   ],
   "source": [
    "translate('Здесь хорошо.')"
   ]
  },
  {
   "cell_type": "code",
   "execution_count": 33,
   "metadata": {
    "colab": {
     "base_uri": "https://localhost:8080/",
     "height": 615
    },
    "id": "5bhFfwcIMX5i",
    "outputId": "7fe0e655-0b2d-4ade-db04-d4c146a80713"
   },
   "outputs": [
    {
     "name": "stdout",
     "output_type": "stream",
     "text": [
      "Input: <start> я не смогу поехать . <end>\n",
      "Predicted translation: i can't go . <end> \n"
     ]
    },
    {
     "name": "stderr",
     "output_type": "stream",
     "text": [
      "C:\\Users\\User\\AppData\\Local\\Temp\\ipykernel_22692\\282331986.py:9: UserWarning: FixedFormatter should only be used together with FixedLocator\n",
      "  ax.set_xticklabels([''] + sentence, fontdict=fontdict, rotation=90)\n",
      "C:\\Users\\User\\AppData\\Local\\Temp\\ipykernel_22692\\282331986.py:10: UserWarning: FixedFormatter should only be used together with FixedLocator\n",
      "  ax.set_yticklabels([''] + predicted_sentence, fontdict=fontdict)\n"
     ]
    },
    {
     "data": {
      "image/png": "[encoded data removed]",
      "text/plain": [
       "<Figure size 1000x1000 with 1 Axes>"
      ]
     },
     "metadata": {},
     "output_type": "display_data"
    }
   ],
   "source": [
    "translate('Я не смогу поехать.')"
   ]
  },
  {
   "cell_type": "code",
   "execution_count": 34,
   "metadata": {
    "colab": {
     "base_uri": "https://localhost:8080/",
     "height": 677
    },
    "id": "zSx2iM36EZQZ",
    "outputId": "dbe4427c-3b27-40a5-f3ca-9d29e04b18a2"
   },
   "outputs": [
    {
     "name": "stdout",
     "output_type": "stream",
     "text": [
      "Input: <start> вы еще дома ? <end>\n",
      "Predicted translation: are you still at home ? <end> \n"
     ]
    },
    {
     "name": "stderr",
     "output_type": "stream",
     "text": [
      "C:\\Users\\User\\AppData\\Local\\Temp\\ipykernel_22692\\282331986.py:9: UserWarning: FixedFormatter should only be used together with FixedLocator\n",
      "  ax.set_xticklabels([''] + sentence, fontdict=fontdict, rotation=90)\n",
      "C:\\Users\\User\\AppData\\Local\\Temp\\ipykernel_22692\\282331986.py:10: UserWarning: FixedFormatter should only be used together with FixedLocator\n",
      "  ax.set_yticklabels([''] + predicted_sentence, fontdict=fontdict)\n"
     ]
    },
    {
     "data": {
      "image/png": "[encoded data removed]",
      "text/plain": [
       "<Figure size 1000x1000 with 1 Axes>"
      ]
     },
     "metadata": {},
     "output_type": "display_data"
    }
   ],
   "source": [
    "translate(u'Вы еще дома?')"
   ]
  },
  {
   "cell_type": "code",
   "execution_count": 35,
   "metadata": {
    "colab": {
     "base_uri": "https://localhost:8080/",
     "height": 677
    },
    "id": "A3LLCx3ZE0Ls",
    "outputId": "1549f08a-fef9-4621-aec3-26a38d9a8f54"
   },
   "outputs": [
    {
     "name": "stdout",
     "output_type": "stream",
     "text": [
      "Input: <start> вы все еще дома ? <end>\n",
      "Predicted translation: are you still at home ? <end> \n"
     ]
    },
    {
     "name": "stderr",
     "output_type": "stream",
     "text": [
      "C:\\Users\\User\\AppData\\Local\\Temp\\ipykernel_22692\\282331986.py:9: UserWarning: FixedFormatter should only be used together with FixedLocator\n",
      "  ax.set_xticklabels([''] + sentence, fontdict=fontdict, rotation=90)\n",
      "C:\\Users\\User\\AppData\\Local\\Temp\\ipykernel_22692\\282331986.py:10: UserWarning: FixedFormatter should only be used together with FixedLocator\n",
      "  ax.set_yticklabels([''] + predicted_sentence, fontdict=fontdict)\n"
     ]
    },
    {
     "data": {
      "image/png": "[encoded data removed]",
      "text/plain": [
       "<Figure size 1000x1000 with 1 Axes>"
      ]
     },
     "metadata": {},
     "output_type": "display_data"
    }
   ],
   "source": [
    "translate(u'Вы все еще дома?')"
   ]
  },
  {
   "cell_type": "code",
   "execution_count": 36,
   "metadata": {
    "colab": {
     "base_uri": "https://localhost:8080/",
     "height": 691
    },
    "id": "DUQVLVqUE1YW",
    "outputId": "386cbb83-4e83-423a-cdee-f4b53d61a457"
   },
   "outputs": [
    {
     "name": "stdout",
     "output_type": "stream",
     "text": [
      "Input: <start> попробуй сделать это . <end>\n",
      "Predicted translation: try to do that . <end> \n"
     ]
    },
    {
     "name": "stderr",
     "output_type": "stream",
     "text": [
      "C:\\Users\\User\\AppData\\Local\\Temp\\ipykernel_22692\\282331986.py:9: UserWarning: FixedFormatter should only be used together with FixedLocator\n",
      "  ax.set_xticklabels([''] + sentence, fontdict=fontdict, rotation=90)\n",
      "C:\\Users\\User\\AppData\\Local\\Temp\\ipykernel_22692\\282331986.py:10: UserWarning: FixedFormatter should only be used together with FixedLocator\n",
      "  ax.set_yticklabels([''] + predicted_sentence, fontdict=fontdict)\n"
     ]
    },
    {
     "data": {
      "image/png": "[encoded data removed]",
      "text/plain": [
       "<Figure size 1000x1000 with 1 Axes>"
      ]
     },
     "metadata": {},
     "output_type": "display_data"
    }
   ],
   "source": [
    "translate(u'Попробуй сделать это.')"
   ]
  },
  {
   "cell_type": "code",
   "execution_count": 37,
   "metadata": {
    "colab": {
     "base_uri": "https://localhost:8080/",
     "height": 525
    },
    "id": "f09_hUFx9EJh",
    "outputId": "0a870a16-883d-45ee-84e3-123f41607bd6"
   },
   "outputs": [
    {
     "name": "stdout",
     "output_type": "stream",
     "text": [
      "Input: <start> я не люблю , когда идет снег . <end>\n",
      "Predicted translation: i don't like snow . <end> \n"
     ]
    },
    {
     "name": "stderr",
     "output_type": "stream",
     "text": [
      "C:\\Users\\User\\AppData\\Local\\Temp\\ipykernel_22692\\282331986.py:9: UserWarning: FixedFormatter should only be used together with FixedLocator\n",
      "  ax.set_xticklabels([''] + sentence, fontdict=fontdict, rotation=90)\n",
      "C:\\Users\\User\\AppData\\Local\\Temp\\ipykernel_22692\\282331986.py:10: UserWarning: FixedFormatter should only be used together with FixedLocator\n",
      "  ax.set_yticklabels([''] + predicted_sentence, fontdict=fontdict)\n"
     ]
    },
    {
     "data": {
      "image/png": "[encoded data removed]",
      "text/plain": [
       "<Figure size 1000x1000 with 1 Axes>"
      ]
     },
     "metadata": {},
     "output_type": "display_data"
    }
   ],
   "source": [
    "translate(u'Я не люблю, когда идет снег.')"
   ]
  },
  {
   "cell_type": "code",
   "execution_count": 38,
   "metadata": {
    "colab": {
     "base_uri": "https://localhost:8080/",
     "height": 627
    },
    "id": "e7c5p8rmkHQG",
    "outputId": "b77034fd-d8eb-4755-87f8-5b79861190fd"
   },
   "outputs": [
    {
     "name": "stdout",
     "output_type": "stream",
     "text": [
      "Input: <start> я никогда такого не делаю . <end>\n",
      "Predicted translation: i never do that . <end> \n"
     ]
    },
    {
     "name": "stderr",
     "output_type": "stream",
     "text": [
      "C:\\Users\\User\\AppData\\Local\\Temp\\ipykernel_22692\\282331986.py:9: UserWarning: FixedFormatter should only be used together with FixedLocator\n",
      "  ax.set_xticklabels([''] + sentence, fontdict=fontdict, rotation=90)\n",
      "C:\\Users\\User\\AppData\\Local\\Temp\\ipykernel_22692\\282331986.py:10: UserWarning: FixedFormatter should only be used together with FixedLocator\n",
      "  ax.set_yticklabels([''] + predicted_sentence, fontdict=fontdict)\n"
     ]
    },
    {
     "data": {
      "image/png": "[encoded data removed]",
      "text/plain": [
       "<Figure size 1000x1000 with 1 Axes>"
      ]
     },
     "metadata": {},
     "output_type": "display_data"
    }
   ],
   "source": [
    "translate(u'Я никогда такого не делаю.')"
   ]
  },
  {
   "cell_type": "code",
   "execution_count": 42,
   "metadata": {
    "id": "jdXES85KkTVS"
   },
   "outputs": [
    {
     "name": "stdout",
     "output_type": "stream",
     "text": [
      "Input: <start> привет , чего делаете в понедельник ? <end>\n",
      "Predicted translation: how high do monday ? <end> \n"
     ]
    },
    {
     "name": "stderr",
     "output_type": "stream",
     "text": [
      "C:\\Users\\User\\AppData\\Local\\Temp\\ipykernel_22692\\282331986.py:9: UserWarning: FixedFormatter should only be used together with FixedLocator\n",
      "  ax.set_xticklabels([''] + sentence, fontdict=fontdict, rotation=90)\n",
      "C:\\Users\\User\\AppData\\Local\\Temp\\ipykernel_22692\\282331986.py:10: UserWarning: FixedFormatter should only be used together with FixedLocator\n",
      "  ax.set_yticklabels([''] + predicted_sentence, fontdict=fontdict)\n"
     ]
    },
    {
     "data": {
      "image/png": "[encoded data removed]",
      "text/plain": [
       "<Figure size 1000x1000 with 1 Axes>"
      ]
     },
     "metadata": {},
     "output_type": "display_data"
    }
   ],
   "source": [
    "translate(u'привет, чего делаете в понедельник?')"
   ]
  }
 ],
 "metadata": {
  "accelerator": "GPU",
  "colab": {
   "collapsed_sections": [],
   "name": "nmt_with_attention.ipynb",
   "provenance": [],
   "toc_visible": true
  },
  "kernelspec": {
   "display_name": "Python 3 (ipykernel)",
   "language": "python",
   "name": "python3"
  },
  "language_info": {
   "codemirror_mode": {
    "name": "ipython",
    "version": 3
   },
   "file_extension": ".py",
   "mimetype": "text/x-python",
   "name": "python",
   "nbconvert_exporter": "python",
   "pygments_lexer": "ipython3",
   "version": "3.9.13"
  }
 },
 "nbformat": 4,
 "nbformat_minor": 1
}
